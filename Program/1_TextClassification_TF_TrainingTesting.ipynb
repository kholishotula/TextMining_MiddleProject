{
 "cells": [
  {
   "cell_type": "markdown",
   "metadata": {},
   "source": [
    "# Text Classification TF Training Testing"
   ]
  },
  {
   "cell_type": "code",
   "execution_count": 1,
   "metadata": {},
   "outputs": [],
   "source": [
    "import pandas as pd\n",
    "data_df = pd.read_csv('../Output/PubMed_CleanArticles_Top1-10_cancerTypes.csv', encoding='utf-8')"
   ]
  },
  {
   "cell_type": "code",
   "execution_count": 2,
   "metadata": {},
   "outputs": [
    {
     "data": {
      "text/html": [
       "<div>\n",
       "<style scoped>\n",
       "    .dataframe tbody tr th:only-of-type {\n",
       "        vertical-align: middle;\n",
       "    }\n",
       "\n",
       "    .dataframe tbody tr th {\n",
       "        vertical-align: top;\n",
       "    }\n",
       "\n",
       "    .dataframe thead th {\n",
       "        text-align: right;\n",
       "    }\n",
       "</style>\n",
       "<table border=\"1\" class=\"dataframe\">\n",
       "  <thead>\n",
       "    <tr style=\"text-align: right;\">\n",
       "      <th></th>\n",
       "      <th>Article</th>\n",
       "      <th>Clean Article</th>\n",
       "      <th>Target Label</th>\n",
       "      <th>Target Name</th>\n",
       "    </tr>\n",
       "  </thead>\n",
       "  <tbody>\n",
       "    <tr>\n",
       "      <th>0</th>\n",
       "      <td>Understanding the symptoms experienced by indi...</td>\n",
       "      <td>understand symptom experience individual lung ...</td>\n",
       "      <td>1</td>\n",
       "      <td>Lung</td>\n",
       "    </tr>\n",
       "    <tr>\n",
       "      <th>1</th>\n",
       "      <td>Do statins improve outcomes for patients with ...</td>\n",
       "      <td>statin improve outcome patient non small cell ...</td>\n",
       "      <td>1</td>\n",
       "      <td>Lung</td>\n",
       "    </tr>\n",
       "    <tr>\n",
       "      <th>2</th>\n",
       "      <td>Lung cancer epidemiology, risk factors, and pr...</td>\n",
       "      <td>lung cancer epidemiology risk factor preventio...</td>\n",
       "      <td>1</td>\n",
       "      <td>Lung</td>\n",
       "    </tr>\n",
       "    <tr>\n",
       "      <th>3</th>\n",
       "      <td>[Modern Nanomedicine in Treatment of Lung Carc...</td>\n",
       "      <td>modern nanomedicine treatment lung carcinomas ...</td>\n",
       "      <td>1</td>\n",
       "      <td>Lung</td>\n",
       "    </tr>\n",
       "    <tr>\n",
       "      <th>4</th>\n",
       "      <td>[Nineteen multiple primary cancer cases of 100...</td>\n",
       "      <td>nineteen multiple primary cancer case patient ...</td>\n",
       "      <td>1</td>\n",
       "      <td>Lung</td>\n",
       "    </tr>\n",
       "    <tr>\n",
       "      <th>5</th>\n",
       "      <td>Image-guided radiotherapy and motion managemen...</td>\n",
       "      <td>image guide radiotherapy motion management lun...</td>\n",
       "      <td>1</td>\n",
       "      <td>Lung</td>\n",
       "    </tr>\n",
       "    <tr>\n",
       "      <th>6</th>\n",
       "      <td>[III. Immune Checkpoint Inhibitor as a Standar...</td>\n",
       "      <td>iii immune checkpoint inhibitor standard treat...</td>\n",
       "      <td>1</td>\n",
       "      <td>Lung</td>\n",
       "    </tr>\n",
       "    <tr>\n",
       "      <th>7</th>\n",
       "      <td>Radiotherapy for small-cell lung cancer-Where ...</td>\n",
       "      <td>radiotherapy small cell lung cancer head radio...</td>\n",
       "      <td>1</td>\n",
       "      <td>Lung</td>\n",
       "    </tr>\n",
       "    <tr>\n",
       "      <th>8</th>\n",
       "      <td>Coagulation-fibrinolytic analysis in patients ...</td>\n",
       "      <td>coagulation fibrinolytic analysis patient lung...</td>\n",
       "      <td>1</td>\n",
       "      <td>Lung</td>\n",
       "    </tr>\n",
       "    <tr>\n",
       "      <th>9</th>\n",
       "      <td>Revisiting the debate: the use of new agents i...</td>\n",
       "      <td>revisit debate use new agent previously untrea...</td>\n",
       "      <td>1</td>\n",
       "      <td>Lung</td>\n",
       "    </tr>\n",
       "  </tbody>\n",
       "</table>\n",
       "</div>"
      ],
      "text/plain": [
       "                                             Article  \\\n",
       "0  Understanding the symptoms experienced by indi...   \n",
       "1  Do statins improve outcomes for patients with ...   \n",
       "2  Lung cancer epidemiology, risk factors, and pr...   \n",
       "3  [Modern Nanomedicine in Treatment of Lung Carc...   \n",
       "4  [Nineteen multiple primary cancer cases of 100...   \n",
       "5  Image-guided radiotherapy and motion managemen...   \n",
       "6  [III. Immune Checkpoint Inhibitor as a Standar...   \n",
       "7  Radiotherapy for small-cell lung cancer-Where ...   \n",
       "8  Coagulation-fibrinolytic analysis in patients ...   \n",
       "9  Revisiting the debate: the use of new agents i...   \n",
       "\n",
       "                                       Clean Article  Target Label Target Name  \n",
       "0  understand symptom experience individual lung ...             1        Lung  \n",
       "1  statin improve outcome patient non small cell ...             1        Lung  \n",
       "2  lung cancer epidemiology risk factor preventio...             1        Lung  \n",
       "3  modern nanomedicine treatment lung carcinomas ...             1        Lung  \n",
       "4  nineteen multiple primary cancer case patient ...             1        Lung  \n",
       "5  image guide radiotherapy motion management lun...             1        Lung  \n",
       "6  iii immune checkpoint inhibitor standard treat...             1        Lung  \n",
       "7  radiotherapy small cell lung cancer head radio...             1        Lung  \n",
       "8  coagulation fibrinolytic analysis patient lung...             1        Lung  \n",
       "9  revisit debate use new agent previously untrea...             1        Lung  "
      ]
     },
     "execution_count": 2,
     "metadata": {},
     "output_type": "execute_result"
    }
   ],
   "source": [
    "data_df = data_df[['Article', 'Clean Article', 'Target Label', 'Target Name']]\n",
    "data_df.head(10)"
   ]
  },
  {
   "cell_type": "code",
   "execution_count": 3,
   "metadata": {},
   "outputs": [
    {
     "data": {
      "text/plain": [
       "((6700,), (3300,))"
      ]
     },
     "execution_count": 3,
     "metadata": {},
     "output_type": "execute_result"
    }
   ],
   "source": [
    "from sklearn.model_selection import train_test_split\n",
    "import numpy as np\n",
    "\n",
    "train_corpus, test_corpus, train_label_nums, test_label_nums, train_label_names, test_label_names =\\\n",
    "                                 train_test_split(np.array(data_df['Clean Article']), np.array(data_df['Target Label']),\n",
    "                                                       np.array(data_df['Target Name']), test_size=0.33, random_state=42)\n",
    "\n",
    "train_corpus.shape, test_corpus.shape"
   ]
  },
  {
   "cell_type": "code",
   "execution_count": 4,
   "metadata": {},
   "outputs": [
    {
     "data": {
      "text/plain": [
       "(array([ 9,  6, 10, ...,  6,  1,  8], dtype=int64),\n",
       " array([ 7,  5,  2, ...,  7,  9, 10], dtype=int64))"
      ]
     },
     "execution_count": 4,
     "metadata": {},
     "output_type": "execute_result"
    }
   ],
   "source": [
    "train_label_nums, test_label_nums"
   ]
  },
  {
   "cell_type": "code",
   "execution_count": 5,
   "metadata": {},
   "outputs": [
    {
     "data": {
      "text/plain": [
       "(array(['Thyroid', 'Liver', 'Bladder', ..., 'Liver', 'Lung',\n",
       "        'Cervix Uteri'], dtype=object),\n",
       " array(['Oesophagus', 'Stomach', 'Breast', ..., 'Oesophagus', 'Thyroid',\n",
       "        'Bladder'], dtype=object))"
      ]
     },
     "execution_count": 5,
     "metadata": {},
     "output_type": "execute_result"
    }
   ],
   "source": [
    "train_label_names, test_label_names"
   ]
  },
  {
   "cell_type": "code",
   "execution_count": 6,
   "metadata": {},
   "outputs": [
    {
     "data": {
      "text/html": [
       "<div>\n",
       "<style scoped>\n",
       "    .dataframe tbody tr th:only-of-type {\n",
       "        vertical-align: middle;\n",
       "    }\n",
       "\n",
       "    .dataframe tbody tr th {\n",
       "        vertical-align: top;\n",
       "    }\n",
       "\n",
       "    .dataframe thead th {\n",
       "        text-align: right;\n",
       "    }\n",
       "</style>\n",
       "<table border=\"1\" class=\"dataframe\">\n",
       "  <thead>\n",
       "    <tr style=\"text-align: right;\">\n",
       "      <th></th>\n",
       "      <th>Target Label</th>\n",
       "      <th>Train Count</th>\n",
       "      <th>Test Count</th>\n",
       "    </tr>\n",
       "  </thead>\n",
       "  <tbody>\n",
       "    <tr>\n",
       "      <th>2</th>\n",
       "      <td>Bladder</td>\n",
       "      <td>693</td>\n",
       "      <td>307</td>\n",
       "    </tr>\n",
       "    <tr>\n",
       "      <th>5</th>\n",
       "      <td>Colorectal</td>\n",
       "      <td>685</td>\n",
       "      <td>315</td>\n",
       "    </tr>\n",
       "    <tr>\n",
       "      <th>4</th>\n",
       "      <td>Oesophagus</td>\n",
       "      <td>681</td>\n",
       "      <td>319</td>\n",
       "    </tr>\n",
       "    <tr>\n",
       "      <th>8</th>\n",
       "      <td>Cervix Uteri</td>\n",
       "      <td>680</td>\n",
       "      <td>320</td>\n",
       "    </tr>\n",
       "    <tr>\n",
       "      <th>1</th>\n",
       "      <td>Liver</td>\n",
       "      <td>677</td>\n",
       "      <td>323</td>\n",
       "    </tr>\n",
       "    <tr>\n",
       "      <th>3</th>\n",
       "      <td>Prostate</td>\n",
       "      <td>668</td>\n",
       "      <td>332</td>\n",
       "    </tr>\n",
       "    <tr>\n",
       "      <th>9</th>\n",
       "      <td>Breast</td>\n",
       "      <td>665</td>\n",
       "      <td>335</td>\n",
       "    </tr>\n",
       "    <tr>\n",
       "      <th>7</th>\n",
       "      <td>Lung</td>\n",
       "      <td>655</td>\n",
       "      <td>345</td>\n",
       "    </tr>\n",
       "    <tr>\n",
       "      <th>6</th>\n",
       "      <td>Stomach</td>\n",
       "      <td>649</td>\n",
       "      <td>351</td>\n",
       "    </tr>\n",
       "    <tr>\n",
       "      <th>0</th>\n",
       "      <td>Thyroid</td>\n",
       "      <td>647</td>\n",
       "      <td>353</td>\n",
       "    </tr>\n",
       "  </tbody>\n",
       "</table>\n",
       "</div>"
      ],
      "text/plain": [
       "   Target Label  Train Count  Test Count\n",
       "2       Bladder          693         307\n",
       "5    Colorectal          685         315\n",
       "4    Oesophagus          681         319\n",
       "8  Cervix Uteri          680         320\n",
       "1         Liver          677         323\n",
       "3      Prostate          668         332\n",
       "9        Breast          665         335\n",
       "7          Lung          655         345\n",
       "6       Stomach          649         351\n",
       "0       Thyroid          647         353"
      ]
     },
     "execution_count": 6,
     "metadata": {},
     "output_type": "execute_result"
    }
   ],
   "source": [
    "from collections import Counter\n",
    "\n",
    "trd = dict(Counter(train_label_names))\n",
    "tsd = dict(Counter(test_label_names))\n",
    "\n",
    "(pd.DataFrame([[key, trd[key], tsd[key]] for key in trd], \n",
    "             columns=['Target Label', 'Train Count', 'Test Count'])\n",
    ".sort_values(by=['Train Count', 'Test Count'],\n",
    "             ascending=False))"
   ]
  },
  {
   "cell_type": "code",
   "execution_count": 7,
   "metadata": {},
   "outputs": [],
   "source": [
    "from sklearn.feature_extraction.text import CountVectorizer\n",
    "from sklearn.model_selection import cross_val_score\n",
    "\n",
    "# build BOW features on train articles\n",
    "cv = CountVectorizer(binary=False, min_df=0.0, max_df=1.0)\n",
    "cv_train_features = cv.fit_transform(train_corpus)"
   ]
  },
  {
   "cell_type": "code",
   "execution_count": 8,
   "metadata": {},
   "outputs": [
    {
     "name": "stdout",
     "output_type": "stream",
     "text": [
      "(6700, 20634)\n"
     ]
    }
   ],
   "source": [
    "print(cv_train_features.shape)"
   ]
  },
  {
   "cell_type": "code",
   "execution_count": 9,
   "metadata": {},
   "outputs": [
    {
     "name": "stdout",
     "output_type": "stream",
     "text": [
      "  (0, 15060)\t1\n",
      "  (0, 16872)\t1\n",
      "  (0, 12872)\t4\n",
      "  (0, 1366)\t8\n",
      "  (0, 1125)\t3\n",
      "  (0, 1727)\t3\n",
      "  (0, 2491)\t3\n",
      "  (0, 8641)\t2\n",
      "  (0, 1393)\t1\n",
      "  (0, 6720)\t1\n",
      "  (0, 1571)\t1\n",
      "  (0, 4718)\t1\n",
      "  (0, 15608)\t1\n",
      "  (0, 18694)\t4\n",
      "  (0, 10824)\t3\n",
      "  (0, 12926)\t1\n",
      "  (0, 19556)\t2\n",
      "  (0, 17104)\t2\n",
      "  (0, 6779)\t3\n",
      "  (0, 10256)\t1\n",
      "  (0, 8945)\t2\n",
      "  (0, 17416)\t1\n",
      "  (0, 2618)\t1\n",
      "  (0, 17446)\t1\n",
      "  (0, 777)\t1\n",
      "  :\t:\n",
      "  (6699, 3802)\t3\n",
      "  (6699, 9535)\t1\n",
      "  (6699, 2683)\t2\n",
      "  (6699, 7227)\t1\n",
      "  (6699, 14967)\t1\n",
      "  (6699, 14687)\t1\n",
      "  (6699, 4593)\t2\n",
      "  (6699, 15865)\t1\n",
      "  (6699, 18919)\t1\n",
      "  (6699, 17970)\t1\n",
      "  (6699, 16699)\t2\n",
      "  (6699, 13210)\t1\n",
      "  (6699, 15930)\t1\n",
      "  (6699, 17606)\t2\n",
      "  (6699, 19884)\t1\n",
      "  (6699, 19791)\t1\n",
      "  (6699, 16951)\t2\n",
      "  (6699, 4937)\t1\n",
      "  (6699, 8451)\t3\n",
      "  (6699, 12462)\t1\n",
      "  (6699, 15942)\t1\n",
      "  (6699, 3586)\t1\n",
      "  (6699, 2536)\t1\n",
      "  (6699, 476)\t3\n",
      "  (6699, 15160)\t3\n"
     ]
    }
   ],
   "source": [
    "print(cv_train_features)"
   ]
  },
  {
   "cell_type": "code",
   "execution_count": 10,
   "metadata": {},
   "outputs": [
    {
     "name": "stdout",
     "output_type": "stream",
     "text": [
      "(3300, 20634)\n",
      "  (0, 15060)\t1\n",
      "  (0, 16872)\t1\n",
      "  (0, 12872)\t4\n",
      "  (0, 1366)\t8\n",
      "  (0, 1125)\t3\n",
      "  (0, 1727)\t3\n",
      "  (0, 2491)\t3\n",
      "  (0, 8641)\t2\n",
      "  (0, 1393)\t1\n",
      "  (0, 6720)\t1\n",
      "  (0, 1571)\t1\n",
      "  (0, 4718)\t1\n",
      "  (0, 15608)\t1\n",
      "  (0, 18694)\t4\n",
      "  (0, 10824)\t3\n",
      "  (0, 12926)\t1\n",
      "  (0, 19556)\t2\n",
      "  (0, 17104)\t2\n",
      "  (0, 6779)\t3\n",
      "  (0, 10256)\t1\n",
      "  (0, 8945)\t2\n",
      "  (0, 17416)\t1\n",
      "  (0, 2618)\t1\n",
      "  (0, 17446)\t1\n",
      "  (0, 777)\t1\n",
      "  :\t:\n",
      "  (6699, 3802)\t3\n",
      "  (6699, 9535)\t1\n",
      "  (6699, 2683)\t2\n",
      "  (6699, 7227)\t1\n",
      "  (6699, 14967)\t1\n",
      "  (6699, 14687)\t1\n",
      "  (6699, 4593)\t2\n",
      "  (6699, 15865)\t1\n",
      "  (6699, 18919)\t1\n",
      "  (6699, 17970)\t1\n",
      "  (6699, 16699)\t2\n",
      "  (6699, 13210)\t1\n",
      "  (6699, 15930)\t1\n",
      "  (6699, 17606)\t2\n",
      "  (6699, 19884)\t1\n",
      "  (6699, 19791)\t1\n",
      "  (6699, 16951)\t2\n",
      "  (6699, 4937)\t1\n",
      "  (6699, 8451)\t3\n",
      "  (6699, 12462)\t1\n",
      "  (6699, 15942)\t1\n",
      "  (6699, 3586)\t1\n",
      "  (6699, 2536)\t1\n",
      "  (6699, 476)\t3\n",
      "  (6699, 15160)\t3\n"
     ]
    }
   ],
   "source": [
    "# transform test articles into features\n",
    "cv_test_features = cv.transform(test_corpus)\n",
    "print(cv_test_features.shape)\n",
    "print(cv_train_features)"
   ]
  },
  {
   "cell_type": "code",
   "execution_count": 11,
   "metadata": {},
   "outputs": [
    {
     "name": "stdout",
     "output_type": "stream",
     "text": [
      "BOW model:> Train features shape: (6700, 20634)  Test features shape: (3300, 20634)\n"
     ]
    }
   ],
   "source": [
    "print('BOW model:> Train features shape:', cv_train_features.shape, ' Test features shape:', cv_test_features.shape)"
   ]
  },
  {
   "cell_type": "markdown",
   "metadata": {},
   "source": [
    "# Using Naive Bayes"
   ]
  },
  {
   "cell_type": "code",
   "execution_count": 14,
   "metadata": {},
   "outputs": [
    {
     "name": "stdout",
     "output_type": "stream",
     "text": [
      "Training time:  0.041s\n",
      "CV Accuracy (5-fold): [0.93432836 0.94179104 0.93731343 0.94328358 0.94253731]\n",
      "Mean CV Accuracy: 0.9398507462686567\n",
      "Test Accuracy: 0.9387878787878788\n"
     ]
    }
   ],
   "source": [
    "from sklearn.naive_bayes import MultinomialNB\n",
    "import time\n",
    "mnb = MultinomialNB(alpha=1)\n",
    "start = time.time()\n",
    "mnb.fit(cv_train_features, train_label_names)\n",
    "stop = time.time()\n",
    "time_mnb = str(round(stop-start,3)) + 's'\n",
    "print('Training time: ', time_mnb)\n",
    "\n",
    "mnb_bow_cv_scores = cross_val_score(mnb, cv_train_features, train_label_names, cv=5)\n",
    "\n",
    "mnb_bow_cv_mean_score = np.mean(mnb_bow_cv_scores)\n",
    "print('CV Accuracy (5-fold):', mnb_bow_cv_scores)\n",
    "print('Mean CV Accuracy:', mnb_bow_cv_mean_score)\n",
    "mnb_bow_test_score = mnb.score(cv_test_features, test_label_names)\n",
    "print('Test Accuracy:', mnb_bow_test_score)"
   ]
  },
  {
   "cell_type": "markdown",
   "metadata": {},
   "source": [
    "# Using Logistic Regression"
   ]
  },
  {
   "cell_type": "code",
   "execution_count": 15,
   "metadata": {},
   "outputs": [
    {
     "name": "stderr",
     "output_type": "stream",
     "text": [
      "C:\\ANACONDA\\envs\\jupyter\\lib\\site-packages\\sklearn\\linear_model\\_logistic.py:764: ConvergenceWarning: lbfgs failed to converge (status=1):\n",
      "STOP: TOTAL NO. of ITERATIONS REACHED LIMIT.\n",
      "\n",
      "Increase the number of iterations (max_iter) or scale the data as shown in:\n",
      "    https://scikit-learn.org/stable/modules/preprocessing.html\n",
      "Please also refer to the documentation for alternative solver options:\n",
      "    https://scikit-learn.org/stable/modules/linear_model.html#logistic-regression\n",
      "  extra_warning_msg=_LOGISTIC_SOLVER_CONVERGENCE_MSG)\n"
     ]
    },
    {
     "name": "stdout",
     "output_type": "stream",
     "text": [
      "Training time:  4.737s\n"
     ]
    },
    {
     "name": "stderr",
     "output_type": "stream",
     "text": [
      "C:\\ANACONDA\\envs\\jupyter\\lib\\site-packages\\sklearn\\linear_model\\_logistic.py:764: ConvergenceWarning: lbfgs failed to converge (status=1):\n",
      "STOP: TOTAL NO. of ITERATIONS REACHED LIMIT.\n",
      "\n",
      "Increase the number of iterations (max_iter) or scale the data as shown in:\n",
      "    https://scikit-learn.org/stable/modules/preprocessing.html\n",
      "Please also refer to the documentation for alternative solver options:\n",
      "    https://scikit-learn.org/stable/modules/linear_model.html#logistic-regression\n",
      "  extra_warning_msg=_LOGISTIC_SOLVER_CONVERGENCE_MSG)\n"
     ]
    },
    {
     "name": "stdout",
     "output_type": "stream",
     "text": [
      "CV Accuracy (5-fold): [0.98731343 0.98432836 0.98208955 0.97761194 0.98432836]\n",
      "Mean CV Accuracy: 0.983134328358209\n",
      "Test Accuracy: 0.9854545454545455\n"
     ]
    }
   ],
   "source": [
    "from sklearn.linear_model import LogisticRegression\n",
    "\n",
    "lr = LogisticRegression(penalty='l2', max_iter=100, C=1, random_state=42)\n",
    "start = time.time()\n",
    "lr.fit(cv_train_features, train_label_names)\n",
    "stop = time.time()\n",
    "time_lr = str(round(stop-start,3)) + 's'\n",
    "print('Training time: ', time_lr)\n",
    "lr_bow_cv_scores = cross_val_score(lr, cv_train_features, train_label_names, cv=5)\n",
    "lr_bow_cv_mean_score = np.mean(lr_bow_cv_scores)\n",
    "print('CV Accuracy (5-fold):', lr_bow_cv_scores)\n",
    "print('Mean CV Accuracy:', lr_bow_cv_mean_score)\n",
    "lr_bow_test_score = lr.score(cv_test_features, test_label_names)\n",
    "print('Test Accuracy:', lr_bow_test_score)"
   ]
  },
  {
   "cell_type": "markdown",
   "metadata": {},
   "source": [
    "# Using Linear SVM"
   ]
  },
  {
   "cell_type": "code",
   "execution_count": 16,
   "metadata": {},
   "outputs": [
    {
     "name": "stdout",
     "output_type": "stream",
     "text": [
      "Training time:  0.33s\n",
      "CV Accuracy (5-fold): [0.98731343 0.98358209 0.97835821 0.9761194  0.98059701]\n",
      "Mean CV Accuracy: 0.9811940298507462\n",
      "Test Accuracy: 0.9833333333333333\n"
     ]
    }
   ],
   "source": [
    "from sklearn.svm import LinearSVC\n",
    "\n",
    "svm = LinearSVC(penalty='l2', C=1, random_state=42)\n",
    "start = time.time()\n",
    "svm.fit(cv_train_features, train_label_names)\n",
    "stop = time.time()\n",
    "time_svm = str(round(stop-start,3)) + 's'\n",
    "print('Training time: ', time_svm)\n",
    "svm_bow_cv_scores = cross_val_score(svm, cv_train_features, train_label_names, cv=5)\n",
    "svm_bow_cv_mean_score = np.mean(svm_bow_cv_scores)\n",
    "print('CV Accuracy (5-fold):', svm_bow_cv_scores)\n",
    "print('Mean CV Accuracy:', svm_bow_cv_mean_score)\n",
    "svm_bow_test_score = svm.score(cv_test_features, test_label_names)\n",
    "print('Test Accuracy:', svm_bow_test_score)"
   ]
  },
  {
   "cell_type": "markdown",
   "metadata": {},
   "source": [
    "# Using Linear SVM (SGD)"
   ]
  },
  {
   "cell_type": "code",
   "execution_count": 17,
   "metadata": {},
   "outputs": [
    {
     "name": "stderr",
     "output_type": "stream",
     "text": [
      "C:\\ANACONDA\\envs\\jupyter\\lib\\site-packages\\sklearn\\linear_model\\_stochastic_gradient.py:573: ConvergenceWarning: Maximum number of iteration reached before convergence. Consider increasing max_iter to improve the fit.\n",
      "  ConvergenceWarning)\n",
      "C:\\ANACONDA\\envs\\jupyter\\lib\\site-packages\\sklearn\\linear_model\\_stochastic_gradient.py:573: ConvergenceWarning: Maximum number of iteration reached before convergence. Consider increasing max_iter to improve the fit.\n",
      "  ConvergenceWarning)\n"
     ]
    },
    {
     "name": "stdout",
     "output_type": "stream",
     "text": [
      "Training time:  0.155s\n",
      "CV Accuracy (5-fold): [0.98432836 0.97835821 0.97761194 0.97686567 0.98283582]\n",
      "Mean CV Accuracy: 0.9800000000000001\n",
      "Test Accuracy: 0.9821212121212122\n"
     ]
    }
   ],
   "source": [
    "from sklearn.linear_model import SGDClassifier\n",
    "\n",
    "svm_sgd = SGDClassifier(loss='hinge', penalty='l2', max_iter=5, random_state=42)\n",
    "start = time.time()\n",
    "svm_sgd.fit(cv_train_features, train_label_names)\n",
    "stop = time.time()\n",
    "time_sgd = str(round(stop-start,3)) + 's'\n",
    "print('Training time: ', time_sgd)\n",
    "svmsgd_bow_cv_scores = cross_val_score(svm_sgd, cv_train_features, train_label_names, cv=5)\n",
    "svmsgd_bow_cv_mean_score = np.mean(svmsgd_bow_cv_scores)\n",
    "print('CV Accuracy (5-fold):', svmsgd_bow_cv_scores)\n",
    "print('Mean CV Accuracy:', svmsgd_bow_cv_mean_score)\n",
    "svmsgd_bow_test_score = svm_sgd.score(cv_test_features, test_label_names)\n",
    "print('Test Accuracy:', svmsgd_bow_test_score)"
   ]
  },
  {
   "cell_type": "markdown",
   "metadata": {},
   "source": [
    "# Using Random Forest"
   ]
  },
  {
   "cell_type": "code",
   "execution_count": 18,
   "metadata": {},
   "outputs": [
    {
     "name": "stdout",
     "output_type": "stream",
     "text": [
      "Training time:  0.841s\n",
      "CV Accuracy (5-fold): [0.93955224 0.94402985 0.9238806  0.93731343 0.90970149]\n",
      "Mean CV Accuracy: 0.9308955223880597\n",
      "Test Accuracy: 0.926060606060606\n"
     ]
    }
   ],
   "source": [
    "from sklearn.ensemble import RandomForestClassifier\n",
    "\n",
    "rfc = RandomForestClassifier(n_estimators=10, random_state=42)\n",
    "start = time.time()\n",
    "rfc.fit(cv_train_features, train_label_names)\n",
    "stop = time.time()\n",
    "time_rfc = str(round(stop-start,3)) + 's'\n",
    "print('Training time: ', time_rfc)\n",
    "rfc_bow_cv_scores = cross_val_score(rfc, cv_train_features, train_label_names, cv=5)\n",
    "rfc_bow_cv_mean_score = np.mean(rfc_bow_cv_scores)\n",
    "print('CV Accuracy (5-fold):', rfc_bow_cv_scores)\n",
    "print('Mean CV Accuracy:', rfc_bow_cv_mean_score)\n",
    "rfc_bow_test_score = rfc.score(cv_test_features, test_label_names)\n",
    "print('Test Accuracy:', rfc_bow_test_score)"
   ]
  },
  {
   "cell_type": "markdown",
   "metadata": {},
   "source": [
    "# Using Gradient Boosted Machine"
   ]
  },
  {
   "cell_type": "code",
   "execution_count": 20,
   "metadata": {},
   "outputs": [
    {
     "name": "stdout",
     "output_type": "stream",
     "text": [
      "Training time:  8.96s\n",
      "CV Accuracy (5-fold): [0.97910448 0.98358209 0.97537313 0.97910448 0.98134328]\n",
      "Mean CV Accuracy: 0.9797014925373133\n",
      "Test Accuracy: 0.9766666666666667\n"
     ]
    }
   ],
   "source": [
    "from sklearn.ensemble import GradientBoostingClassifier\n",
    "\n",
    "gbc = GradientBoostingClassifier(n_estimators=10, random_state=42)\n",
    "start = time.time()\n",
    "gbc.fit(cv_train_features, train_label_names)\n",
    "stop = time.time()\n",
    "time_gbc = str(round(stop-start,3)) + 's'\n",
    "print('Training time: ', time_gbc)\n",
    "gbc_bow_cv_scores = cross_val_score(gbc, cv_train_features, train_label_names, cv=5)\n",
    "gbc_bow_cv_mean_score = np.mean(gbc_bow_cv_scores)\n",
    "print('CV Accuracy (5-fold):', gbc_bow_cv_scores)\n",
    "print('Mean CV Accuracy:', gbc_bow_cv_mean_score)\n",
    "gbc_bow_test_score = gbc.score(cv_test_features, test_label_names)\n",
    "print('Test Accuracy:', gbc_bow_test_score)"
   ]
  },
  {
   "cell_type": "markdown",
   "metadata": {},
   "source": [
    "# TF Classification Model Comparison"
   ]
  },
  {
   "cell_type": "code",
   "execution_count": 24,
   "metadata": {},
   "outputs": [
    {
     "data": {
      "text/html": [
       "<div>\n",
       "<style scoped>\n",
       "    .dataframe tbody tr th:only-of-type {\n",
       "        vertical-align: middle;\n",
       "    }\n",
       "\n",
       "    .dataframe tbody tr th {\n",
       "        vertical-align: top;\n",
       "    }\n",
       "\n",
       "    .dataframe thead th {\n",
       "        text-align: right;\n",
       "    }\n",
       "</style>\n",
       "<table border=\"1\" class=\"dataframe\">\n",
       "  <thead>\n",
       "    <tr style=\"text-align: right;\">\n",
       "      <th></th>\n",
       "      <th>Model</th>\n",
       "      <th>Train Time</th>\n",
       "      <th>Train Score (TF)</th>\n",
       "      <th>Test Score (TF)</th>\n",
       "    </tr>\n",
       "  </thead>\n",
       "  <tbody>\n",
       "    <tr>\n",
       "      <th>0</th>\n",
       "      <td>Naive Bayes</td>\n",
       "      <td>0.041s</td>\n",
       "      <td>0.939851</td>\n",
       "      <td>0.938788</td>\n",
       "    </tr>\n",
       "    <tr>\n",
       "      <th>1</th>\n",
       "      <td>Logistic Regression</td>\n",
       "      <td>4.737s</td>\n",
       "      <td>0.983134</td>\n",
       "      <td>0.985455</td>\n",
       "    </tr>\n",
       "    <tr>\n",
       "      <th>2</th>\n",
       "      <td>Linear SVM</td>\n",
       "      <td>0.33s</td>\n",
       "      <td>0.981194</td>\n",
       "      <td>0.983333</td>\n",
       "    </tr>\n",
       "    <tr>\n",
       "      <th>3</th>\n",
       "      <td>Linear SVM (SGD)</td>\n",
       "      <td>0.155s</td>\n",
       "      <td>0.980000</td>\n",
       "      <td>0.982121</td>\n",
       "    </tr>\n",
       "    <tr>\n",
       "      <th>4</th>\n",
       "      <td>Random Forest</td>\n",
       "      <td>0.841s</td>\n",
       "      <td>0.930896</td>\n",
       "      <td>0.926061</td>\n",
       "    </tr>\n",
       "    <tr>\n",
       "      <th>5</th>\n",
       "      <td>Gradient Boosted Machines</td>\n",
       "      <td>8.96s</td>\n",
       "      <td>0.979701</td>\n",
       "      <td>0.976667</td>\n",
       "    </tr>\n",
       "  </tbody>\n",
       "</table>\n",
       "</div>"
      ],
      "text/plain": [
       "                       Model Train Time  Train Score (TF)  Test Score (TF)\n",
       "0                Naive Bayes     0.041s          0.939851         0.938788\n",
       "1        Logistic Regression     4.737s          0.983134         0.985455\n",
       "2                 Linear SVM      0.33s          0.981194         0.983333\n",
       "3           Linear SVM (SGD)     0.155s          0.980000         0.982121\n",
       "4              Random Forest     0.841s          0.930896         0.926061\n",
       "5  Gradient Boosted Machines      8.96s          0.979701         0.976667"
      ]
     },
     "execution_count": 24,
     "metadata": {},
     "output_type": "execute_result"
    }
   ],
   "source": [
    "result = pd.DataFrame([['Naive Bayes', time_mnb, mnb_bow_cv_mean_score, mnb_bow_test_score],\n",
    "              ['Logistic Regression', time_lr,lr_bow_cv_mean_score, lr_bow_test_score],\n",
    "              ['Linear SVM', time_svm,svm_bow_cv_mean_score, svm_bow_test_score],\n",
    "              ['Linear SVM (SGD)', time_sgd,svmsgd_bow_cv_mean_score, svmsgd_bow_test_score],\n",
    "              ['Random Forest', time_rfc,rfc_bow_cv_mean_score, rfc_bow_test_score],\n",
    "              ['Gradient Boosted Machines',time_gbc, gbc_bow_cv_mean_score, gbc_bow_test_score]],\n",
    "             columns=['Model', 'Train Time', 'Train Score (TF)', 'Test Score (TF)'],\n",
    "             )\n",
    "result"
   ]
  },
  {
   "cell_type": "code",
   "execution_count": 25,
   "metadata": {},
   "outputs": [
    {
     "data": {
      "text/html": [
       "<div>\n",
       "<style scoped>\n",
       "    .dataframe tbody tr th:only-of-type {\n",
       "        vertical-align: middle;\n",
       "    }\n",
       "\n",
       "    .dataframe tbody tr th {\n",
       "        vertical-align: top;\n",
       "    }\n",
       "\n",
       "    .dataframe thead th {\n",
       "        text-align: right;\n",
       "    }\n",
       "</style>\n",
       "<table border=\"1\" class=\"dataframe\">\n",
       "  <thead>\n",
       "    <tr style=\"text-align: right;\">\n",
       "      <th></th>\n",
       "      <th>0</th>\n",
       "      <th>1</th>\n",
       "      <th>2</th>\n",
       "      <th>3</th>\n",
       "      <th>4</th>\n",
       "      <th>5</th>\n",
       "    </tr>\n",
       "  </thead>\n",
       "  <tbody>\n",
       "    <tr>\n",
       "      <th>Model</th>\n",
       "      <td>Naive Bayes</td>\n",
       "      <td>Logistic Regression</td>\n",
       "      <td>Linear SVM</td>\n",
       "      <td>Linear SVM (SGD)</td>\n",
       "      <td>Random Forest</td>\n",
       "      <td>Gradient Boosted Machines</td>\n",
       "    </tr>\n",
       "    <tr>\n",
       "      <th>Train Time</th>\n",
       "      <td>0.041s</td>\n",
       "      <td>4.737s</td>\n",
       "      <td>0.33s</td>\n",
       "      <td>0.155s</td>\n",
       "      <td>0.841s</td>\n",
       "      <td>8.96s</td>\n",
       "    </tr>\n",
       "    <tr>\n",
       "      <th>Train Score (TF)</th>\n",
       "      <td>0.939851</td>\n",
       "      <td>0.983134</td>\n",
       "      <td>0.981194</td>\n",
       "      <td>0.98</td>\n",
       "      <td>0.930896</td>\n",
       "      <td>0.979701</td>\n",
       "    </tr>\n",
       "    <tr>\n",
       "      <th>Test Score (TF)</th>\n",
       "      <td>0.938788</td>\n",
       "      <td>0.985455</td>\n",
       "      <td>0.983333</td>\n",
       "      <td>0.982121</td>\n",
       "      <td>0.926061</td>\n",
       "      <td>0.976667</td>\n",
       "    </tr>\n",
       "  </tbody>\n",
       "</table>\n",
       "</div>"
      ],
      "text/plain": [
       "                            0                    1           2  \\\n",
       "Model             Naive Bayes  Logistic Regression  Linear SVM   \n",
       "Train Time             0.041s               4.737s       0.33s   \n",
       "Train Score (TF)     0.939851             0.983134    0.981194   \n",
       "Test Score (TF)      0.938788             0.985455    0.983333   \n",
       "\n",
       "                                 3              4                          5  \n",
       "Model             Linear SVM (SGD)  Random Forest  Gradient Boosted Machines  \n",
       "Train Time                  0.155s         0.841s                      8.96s  \n",
       "Train Score (TF)              0.98       0.930896                   0.979701  \n",
       "Test Score (TF)           0.982121       0.926061                   0.976667  "
      ]
     },
     "execution_count": 25,
     "metadata": {},
     "output_type": "execute_result"
    }
   ],
   "source": [
    "result.T"
   ]
  },
  {
   "cell_type": "markdown",
   "metadata": {},
   "source": [
    "## Accuracy, Precision, Recall, and F1 Score"
   ]
  },
  {
   "cell_type": "code",
   "execution_count": 27,
   "metadata": {},
   "outputs": [
    {
     "name": "stdout",
     "output_type": "stream",
     "text": [
      "Naive Bayes\n",
      "Accuracy: 0.9388\n",
      "Precision: 0.9394\n",
      "Recall: 0.9388\n",
      "F1 Score: 0.9388\n",
      "\n",
      "Logistic Regression\n",
      "Accuracy: 0.9855\n",
      "Precision: 0.9855\n",
      "Recall: 0.9855\n",
      "F1 Score: 0.9854\n",
      "\n",
      "Linear SVM\n",
      "Accuracy: 0.9833\n",
      "Precision: 0.9834\n",
      "Recall: 0.9833\n",
      "F1 Score: 0.9833\n",
      "\n",
      "Linear SVM (SGD)\n",
      "Accuracy: 0.9821\n",
      "Precision: 0.9824\n",
      "Recall: 0.9821\n",
      "F1 Score: 0.9822\n",
      "\n",
      "Random Forest\n",
      "Accuracy: 0.9261\n",
      "Precision: 0.9271\n",
      "Recall: 0.9261\n",
      "F1 Score: 0.9262\n",
      "\n",
      "Gradient Boosted Machines\n",
      "Accuracy: 0.9767\n",
      "Precision: 0.9772\n",
      "Recall: 0.9767\n",
      "F1 Score: 0.9768\n",
      "\n"
     ]
    }
   ],
   "source": [
    "import model_evaluation_utils as meu\n",
    "model_name = result['Model'].tolist()\n",
    "model_var = [mnb, lr, svm, svm_sgd, rfc, gbc]\n",
    "for i in range(len(model_name)):\n",
    "    mnb_predictions = model_var[i].predict(cv_test_features)\n",
    "    unique_classes = list(set(test_label_names))\n",
    "    print(model_name[i])\n",
    "    meu.get_metrics(true_labels=test_label_names, predicted_labels=mnb_predictions)\n",
    "    print()"
   ]
  }
 ],
 "metadata": {
  "kernelspec": {
   "display_name": "Python 3",
   "language": "python",
   "name": "python3"
  },
  "language_info": {
   "codemirror_mode": {
    "name": "ipython",
    "version": 3
   },
   "file_extension": ".py",
   "mimetype": "text/x-python",
   "name": "python",
   "nbconvert_exporter": "python",
   "pygments_lexer": "ipython3",
   "version": "3.7.7"
  }
 },
 "nbformat": 4,
 "nbformat_minor": 2
}
