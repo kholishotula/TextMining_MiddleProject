{
 "cells": [
  {
   "cell_type": "markdown",
   "metadata": {},
   "source": [
    "## Import Library & Data"
   ]
  },
  {
   "cell_type": "code",
   "execution_count": 1,
   "metadata": {},
   "outputs": [
    {
     "data": {
      "text/html": [
       "<div>\n",
       "<style scoped>\n",
       "    .dataframe tbody tr th:only-of-type {\n",
       "        vertical-align: middle;\n",
       "    }\n",
       "\n",
       "    .dataframe tbody tr th {\n",
       "        vertical-align: top;\n",
       "    }\n",
       "\n",
       "    .dataframe thead th {\n",
       "        text-align: right;\n",
       "    }\n",
       "</style>\n",
       "<table border=\"1\" class=\"dataframe\">\n",
       "  <thead>\n",
       "    <tr style=\"text-align: right;\">\n",
       "      <th></th>\n",
       "      <th>Article</th>\n",
       "      <th>Clean Article</th>\n",
       "      <th>Target Label</th>\n",
       "      <th>Target Name</th>\n",
       "    </tr>\n",
       "  </thead>\n",
       "  <tbody>\n",
       "    <tr>\n",
       "      <th>0</th>\n",
       "      <td>Understanding the symptoms experienced by indi...</td>\n",
       "      <td>understand symptom experience individual lung ...</td>\n",
       "      <td>1</td>\n",
       "      <td>Lung</td>\n",
       "    </tr>\n",
       "    <tr>\n",
       "      <th>1</th>\n",
       "      <td>Do statins improve outcomes for patients with ...</td>\n",
       "      <td>statin improve outcome patient non small cell ...</td>\n",
       "      <td>1</td>\n",
       "      <td>Lung</td>\n",
       "    </tr>\n",
       "    <tr>\n",
       "      <th>2</th>\n",
       "      <td>Lung cancer epidemiology, risk factors, and pr...</td>\n",
       "      <td>lung cancer epidemiology risk factor preventio...</td>\n",
       "      <td>1</td>\n",
       "      <td>Lung</td>\n",
       "    </tr>\n",
       "    <tr>\n",
       "      <th>3</th>\n",
       "      <td>[Modern Nanomedicine in Treatment of Lung Carc...</td>\n",
       "      <td>modern nanomedicine treatment lung carcinomas ...</td>\n",
       "      <td>1</td>\n",
       "      <td>Lung</td>\n",
       "    </tr>\n",
       "    <tr>\n",
       "      <th>4</th>\n",
       "      <td>[Nineteen multiple primary cancer cases of 100...</td>\n",
       "      <td>nineteen multiple primary cancer case patient ...</td>\n",
       "      <td>1</td>\n",
       "      <td>Lung</td>\n",
       "    </tr>\n",
       "    <tr>\n",
       "      <th>5</th>\n",
       "      <td>Image-guided radiotherapy and motion managemen...</td>\n",
       "      <td>image guide radiotherapy motion management lun...</td>\n",
       "      <td>1</td>\n",
       "      <td>Lung</td>\n",
       "    </tr>\n",
       "    <tr>\n",
       "      <th>6</th>\n",
       "      <td>[III. Immune Checkpoint Inhibitor as a Standar...</td>\n",
       "      <td>iii immune checkpoint inhibitor standard treat...</td>\n",
       "      <td>1</td>\n",
       "      <td>Lung</td>\n",
       "    </tr>\n",
       "    <tr>\n",
       "      <th>7</th>\n",
       "      <td>Radiotherapy for small-cell lung cancer-Where ...</td>\n",
       "      <td>radiotherapy small cell lung cancer head radio...</td>\n",
       "      <td>1</td>\n",
       "      <td>Lung</td>\n",
       "    </tr>\n",
       "    <tr>\n",
       "      <th>8</th>\n",
       "      <td>Coagulation-fibrinolytic analysis in patients ...</td>\n",
       "      <td>coagulation fibrinolytic analysis patient lung...</td>\n",
       "      <td>1</td>\n",
       "      <td>Lung</td>\n",
       "    </tr>\n",
       "    <tr>\n",
       "      <th>9</th>\n",
       "      <td>Revisiting the debate: the use of new agents i...</td>\n",
       "      <td>revisit debate use new agent previously untrea...</td>\n",
       "      <td>1</td>\n",
       "      <td>Lung</td>\n",
       "    </tr>\n",
       "  </tbody>\n",
       "</table>\n",
       "</div>"
      ],
      "text/plain": [
       "                                             Article  \\\n",
       "0  Understanding the symptoms experienced by indi...   \n",
       "1  Do statins improve outcomes for patients with ...   \n",
       "2  Lung cancer epidemiology, risk factors, and pr...   \n",
       "3  [Modern Nanomedicine in Treatment of Lung Carc...   \n",
       "4  [Nineteen multiple primary cancer cases of 100...   \n",
       "5  Image-guided radiotherapy and motion managemen...   \n",
       "6  [III. Immune Checkpoint Inhibitor as a Standar...   \n",
       "7  Radiotherapy for small-cell lung cancer-Where ...   \n",
       "8  Coagulation-fibrinolytic analysis in patients ...   \n",
       "9  Revisiting the debate: the use of new agents i...   \n",
       "\n",
       "                                       Clean Article  Target Label Target Name  \n",
       "0  understand symptom experience individual lung ...             1        Lung  \n",
       "1  statin improve outcome patient non small cell ...             1        Lung  \n",
       "2  lung cancer epidemiology risk factor preventio...             1        Lung  \n",
       "3  modern nanomedicine treatment lung carcinomas ...             1        Lung  \n",
       "4  nineteen multiple primary cancer case patient ...             1        Lung  \n",
       "5  image guide radiotherapy motion management lun...             1        Lung  \n",
       "6  iii immune checkpoint inhibitor standard treat...             1        Lung  \n",
       "7  radiotherapy small cell lung cancer head radio...             1        Lung  \n",
       "8  coagulation fibrinolytic analysis patient lung...             1        Lung  \n",
       "9  revisit debate use new agent previously untrea...             1        Lung  "
      ]
     },
     "execution_count": 1,
     "metadata": {},
     "output_type": "execute_result"
    }
   ],
   "source": [
    "import pandas as pd\n",
    "data_df = pd.read_csv('../Output/PubMed_CleanArticles_Top1-10_cancerTypes.csv', encoding='utf-8')\n",
    "data_df = data_df[['Article', 'Clean Article', 'Target Label', 'Target Name']]\n",
    "data_df.head(10)"
   ]
  },
  {
   "cell_type": "code",
   "execution_count": 2,
   "metadata": {},
   "outputs": [
    {
     "data": {
      "text/plain": [
       "{0: 'Lung',\n",
       " 1: 'Breast',\n",
       " 2: 'Colorectal',\n",
       " 3: 'Prostate',\n",
       " 4: 'Stomach',\n",
       " 5: 'Liver',\n",
       " 6: 'Oesophagus',\n",
       " 7: 'Cervix Uteri',\n",
       " 8: 'Thyroid',\n",
       " 9: 'Bladder'}"
      ]
     },
     "execution_count": 2,
     "metadata": {},
     "output_type": "execute_result"
    }
   ],
   "source": [
    "data_labels_map = dict(enumerate(pd.unique(data_df['Target Name'])))\n",
    "data_labels_map"
   ]
  },
  {
   "cell_type": "markdown",
   "metadata": {},
   "source": [
    "## Split Data into Train & Test"
   ]
  },
  {
   "cell_type": "code",
   "execution_count": 3,
   "metadata": {},
   "outputs": [
    {
     "data": {
      "text/plain": [
       "((6700,), (3300,))"
      ]
     },
     "execution_count": 3,
     "metadata": {},
     "output_type": "execute_result"
    }
   ],
   "source": [
    "import numpy as np\n",
    "from sklearn.model_selection import train_test_split\n",
    "\n",
    "train_corpus, test_corpus, train_label_nums, test_label_nums, train_label_names, test_label_names =\\\n",
    "                                 train_test_split(np.array(data_df['Clean Article']), np.array(data_df['Target Label']),\n",
    "                                                       np.array(data_df['Target Name']), test_size=0.33, random_state=42)\n",
    "\n",
    "train_corpus.shape, test_corpus.shape"
   ]
  },
  {
   "cell_type": "code",
   "execution_count": 4,
   "metadata": {},
   "outputs": [
    {
     "name": "stdout",
     "output_type": "stream",
     "text": [
      "TFIDF model:> Train features shape: (6700, 20634)  Test features shape: (3300, 20634)\n"
     ]
    }
   ],
   "source": [
    "from sklearn.feature_extraction.text import TfidfVectorizer\n",
    "\n",
    "# build BOW features on train articles\n",
    "tv = TfidfVectorizer(use_idf=True, min_df=0.0, max_df=1.0)\n",
    "tv_train_features = tv.fit_transform(train_corpus)\n",
    "# transform test articles into features\n",
    "tv_test_features = tv.transform(test_corpus)\n",
    "print('TFIDF model:> Train features shape:', tv_train_features.shape, ' Test features shape:', tv_test_features.shape)"
   ]
  },
  {
   "cell_type": "markdown",
   "metadata": {},
   "source": [
    "## Grid Search CV"
   ]
  },
  {
   "cell_type": "code",
   "execution_count": 5,
   "metadata": {},
   "outputs": [],
   "source": [
    "from sklearn.pipeline import Pipeline\n",
    "from sklearn.model_selection import GridSearchCV\n",
    "from sklearn.naive_bayes import MultinomialNB\n",
    "from sklearn.ensemble import RandomForestClassifier\n",
    "from sklearn.feature_extraction.text import TfidfVectorizer\n",
    "from sklearn.ensemble import GradientBoostingClassifier"
   ]
  },
  {
   "cell_type": "markdown",
   "metadata": {},
   "source": [
    "### Naive Bayes"
   ]
  },
  {
   "cell_type": "code",
   "execution_count": 6,
   "metadata": {},
   "outputs": [
    {
     "name": "stdout",
     "output_type": "stream",
     "text": [
      "Fitting 5 folds for each of 10 candidates, totalling 50 fits\n"
     ]
    },
    {
     "name": "stderr",
     "output_type": "stream",
     "text": [
      "[Parallel(n_jobs=-1)]: Using backend LokyBackend with 8 concurrent workers.\n",
      "[Parallel(n_jobs=-1)]: Done  25 tasks      | elapsed:   11.9s\n",
      "[Parallel(n_jobs=-1)]: Done  50 out of  50 | elapsed:   24.7s finished\n"
     ]
    }
   ],
   "source": [
    "mnb_pipeline = Pipeline([('tfidf', TfidfVectorizer()),\n",
    "                        ('mnb', MultinomialNB())\n",
    "                       ])\n",
    "\n",
    "param_grid = {'tfidf__ngram_range': [(1, 1), (1, 2)],\n",
    "              'mnb__alpha': [1e-5, 1e-4, 1e-2, 1e-1, 1]\n",
    "}\n",
    "\n",
    "gs_mnb = GridSearchCV(mnb_pipeline, param_grid, cv=5, verbose=2, n_jobs=-1)\n",
    "gs_mnb = gs_mnb.fit(train_corpus, train_label_names)"
   ]
  },
  {
   "cell_type": "code",
   "execution_count": 7,
   "metadata": {},
   "outputs": [
    {
     "data": {
      "text/plain": [
       "{'memory': None,\n",
       " 'steps': [('tfidf', TfidfVectorizer(ngram_range=(1, 2))),\n",
       "  ('mnb', MultinomialNB(alpha=1))],\n",
       " 'verbose': False,\n",
       " 'tfidf': TfidfVectorizer(ngram_range=(1, 2)),\n",
       " 'mnb': MultinomialNB(alpha=1),\n",
       " 'tfidf__analyzer': 'word',\n",
       " 'tfidf__binary': False,\n",
       " 'tfidf__decode_error': 'strict',\n",
       " 'tfidf__dtype': numpy.float64,\n",
       " 'tfidf__encoding': 'utf-8',\n",
       " 'tfidf__input': 'content',\n",
       " 'tfidf__lowercase': True,\n",
       " 'tfidf__max_df': 1.0,\n",
       " 'tfidf__max_features': None,\n",
       " 'tfidf__min_df': 1,\n",
       " 'tfidf__ngram_range': (1, 2),\n",
       " 'tfidf__norm': 'l2',\n",
       " 'tfidf__preprocessor': None,\n",
       " 'tfidf__smooth_idf': True,\n",
       " 'tfidf__stop_words': None,\n",
       " 'tfidf__strip_accents': None,\n",
       " 'tfidf__sublinear_tf': False,\n",
       " 'tfidf__token_pattern': '(?u)\\\\b\\\\w\\\\w+\\\\b',\n",
       " 'tfidf__tokenizer': None,\n",
       " 'tfidf__use_idf': True,\n",
       " 'tfidf__vocabulary': None,\n",
       " 'mnb__alpha': 1,\n",
       " 'mnb__class_prior': None,\n",
       " 'mnb__fit_prior': True}"
      ]
     },
     "execution_count": 7,
     "metadata": {},
     "output_type": "execute_result"
    }
   ],
   "source": [
    "gs_mnb.best_estimator_.get_params()"
   ]
  },
  {
   "cell_type": "code",
   "execution_count": 8,
   "metadata": {},
   "outputs": [
    {
     "data": {
      "text/html": [
       "<div>\n",
       "<style scoped>\n",
       "    .dataframe tbody tr th:only-of-type {\n",
       "        vertical-align: middle;\n",
       "    }\n",
       "\n",
       "    .dataframe tbody tr th {\n",
       "        vertical-align: top;\n",
       "    }\n",
       "\n",
       "    .dataframe thead th {\n",
       "        text-align: right;\n",
       "    }\n",
       "</style>\n",
       "<table border=\"1\" class=\"dataframe\">\n",
       "  <thead>\n",
       "    <tr style=\"text-align: right;\">\n",
       "      <th></th>\n",
       "      <th>rank</th>\n",
       "      <th>params</th>\n",
       "      <th>cv score (mean)</th>\n",
       "      <th>cv score (std)</th>\n",
       "    </tr>\n",
       "  </thead>\n",
       "  <tbody>\n",
       "    <tr>\n",
       "      <th>9</th>\n",
       "      <td>1</td>\n",
       "      <td>{'mnb__alpha': 1, 'tfidf__ngram_range': (1, 2)}</td>\n",
       "      <td>0.975821</td>\n",
       "      <td>0.001537</td>\n",
       "    </tr>\n",
       "    <tr>\n",
       "      <th>7</th>\n",
       "      <td>2</td>\n",
       "      <td>{'mnb__alpha': 0.1, 'tfidf__ngram_range': (1, 2)}</td>\n",
       "      <td>0.953731</td>\n",
       "      <td>0.006026</td>\n",
       "    </tr>\n",
       "    <tr>\n",
       "      <th>8</th>\n",
       "      <td>3</td>\n",
       "      <td>{'mnb__alpha': 1, 'tfidf__ngram_range': (1, 1)}</td>\n",
       "      <td>0.947015</td>\n",
       "      <td>0.004882</td>\n",
       "    </tr>\n",
       "    <tr>\n",
       "      <th>5</th>\n",
       "      <td>4</td>\n",
       "      <td>{'mnb__alpha': 0.01, 'tfidf__ngram_range': (1, 2)}</td>\n",
       "      <td>0.928955</td>\n",
       "      <td>0.004959</td>\n",
       "    </tr>\n",
       "    <tr>\n",
       "      <th>6</th>\n",
       "      <td>5</td>\n",
       "      <td>{'mnb__alpha': 0.1, 'tfidf__ngram_range': (1, 1)}</td>\n",
       "      <td>0.904627</td>\n",
       "      <td>0.008126</td>\n",
       "    </tr>\n",
       "    <tr>\n",
       "      <th>3</th>\n",
       "      <td>6</td>\n",
       "      <td>{'mnb__alpha': 0.0001, 'tfidf__ngram_range': (1, 2)}</td>\n",
       "      <td>0.889851</td>\n",
       "      <td>0.008530</td>\n",
       "    </tr>\n",
       "    <tr>\n",
       "      <th>1</th>\n",
       "      <td>7</td>\n",
       "      <td>{'mnb__alpha': 1e-05, 'tfidf__ngram_range': (1, 2)}</td>\n",
       "      <td>0.876716</td>\n",
       "      <td>0.007409</td>\n",
       "    </tr>\n",
       "    <tr>\n",
       "      <th>4</th>\n",
       "      <td>8</td>\n",
       "      <td>{'mnb__alpha': 0.01, 'tfidf__ngram_range': (1, 1)}</td>\n",
       "      <td>0.865821</td>\n",
       "      <td>0.007718</td>\n",
       "    </tr>\n",
       "    <tr>\n",
       "      <th>2</th>\n",
       "      <td>9</td>\n",
       "      <td>{'mnb__alpha': 0.0001, 'tfidf__ngram_range': (1, 1)}</td>\n",
       "      <td>0.808209</td>\n",
       "      <td>0.007048</td>\n",
       "    </tr>\n",
       "    <tr>\n",
       "      <th>0</th>\n",
       "      <td>10</td>\n",
       "      <td>{'mnb__alpha': 1e-05, 'tfidf__ngram_range': (1, 1)}</td>\n",
       "      <td>0.784179</td>\n",
       "      <td>0.006895</td>\n",
       "    </tr>\n",
       "  </tbody>\n",
       "</table>\n",
       "</div>"
      ],
      "text/plain": [
       "   rank                                                params  \\\n",
       "9     1       {'mnb__alpha': 1, 'tfidf__ngram_range': (1, 2)}   \n",
       "7     2     {'mnb__alpha': 0.1, 'tfidf__ngram_range': (1, 2)}   \n",
       "8     3       {'mnb__alpha': 1, 'tfidf__ngram_range': (1, 1)}   \n",
       "5     4    {'mnb__alpha': 0.01, 'tfidf__ngram_range': (1, 2)}   \n",
       "6     5     {'mnb__alpha': 0.1, 'tfidf__ngram_range': (1, 1)}   \n",
       "3     6  {'mnb__alpha': 0.0001, 'tfidf__ngram_range': (1, 2)}   \n",
       "1     7   {'mnb__alpha': 1e-05, 'tfidf__ngram_range': (1, 2)}   \n",
       "4     8    {'mnb__alpha': 0.01, 'tfidf__ngram_range': (1, 1)}   \n",
       "2     9  {'mnb__alpha': 0.0001, 'tfidf__ngram_range': (1, 1)}   \n",
       "0    10   {'mnb__alpha': 1e-05, 'tfidf__ngram_range': (1, 1)}   \n",
       "\n",
       "   cv score (mean)  cv score (std)  \n",
       "9         0.975821        0.001537  \n",
       "7         0.953731        0.006026  \n",
       "8         0.947015        0.004882  \n",
       "5         0.928955        0.004959  \n",
       "6         0.904627        0.008126  \n",
       "3         0.889851        0.008530  \n",
       "1         0.876716        0.007409  \n",
       "4         0.865821        0.007718  \n",
       "2         0.808209        0.007048  \n",
       "0         0.784179        0.006895  "
      ]
     },
     "execution_count": 8,
     "metadata": {},
     "output_type": "execute_result"
    }
   ],
   "source": [
    "cv_results = gs_mnb.cv_results_\n",
    "results_df = pd.DataFrame({'rank': cv_results['rank_test_score'],\n",
    "                           'params': cv_results['params'], \n",
    "                           'cv score (mean)': cv_results['mean_test_score'], \n",
    "                           'cv score (std)': cv_results['std_test_score']} \n",
    "              )\n",
    "results_df = results_df.sort_values(by=['rank'], ascending=True)\n",
    "pd.set_option('display.max_colwidth', 100)\n",
    "results_df"
   ]
  },
  {
   "cell_type": "code",
   "execution_count": 9,
   "metadata": {},
   "outputs": [
    {
     "name": "stdout",
     "output_type": "stream",
     "text": [
      "Test Accuracy : 0.9745454545454545\n"
     ]
    }
   ],
   "source": [
    "best_mnb_test_score = gs_mnb.score(test_corpus, test_label_names)\n",
    "print('Test Accuracy :', best_mnb_test_score)"
   ]
  },
  {
   "cell_type": "code",
   "execution_count": 10,
   "metadata": {},
   "outputs": [
    {
     "name": "stdout",
     "output_type": "stream",
     "text": [
      "{'mnb__alpha': 1, 'tfidf__ngram_range': (1, 2)} 0.975820895522388 0.0015366612150726777 0.9745454545454545\n"
     ]
    }
   ],
   "source": [
    "nb_param = results_df.iloc[0]['params']\n",
    "nb_cvmean = results_df.iloc[0]['cv score (mean)']\n",
    "nb_cvstd = results_df.iloc[0]['cv score (std)']\n",
    "nb_acc = best_mnb_test_score\n",
    "print(nb_param, nb_cvmean, nb_cvstd, nb_acc)"
   ]
  },
  {
   "cell_type": "markdown",
   "metadata": {},
   "source": [
    "### Linear Regression"
   ]
  },
  {
   "cell_type": "code",
   "execution_count": 11,
   "metadata": {},
   "outputs": [
    {
     "name": "stdout",
     "output_type": "stream",
     "text": [
      "Fitting 5 folds for each of 6 candidates, totalling 30 fits\n"
     ]
    },
    {
     "name": "stderr",
     "output_type": "stream",
     "text": [
      "[Parallel(n_jobs=-1)]: Using backend LokyBackend with 8 concurrent workers.\n",
      "[Parallel(n_jobs=-1)]: Done  30 out of  30 | elapsed:  6.0min finished\n",
      "C:\\ANACONDA\\envs\\jupyter\\lib\\site-packages\\sklearn\\linear_model\\_logistic.py:764: ConvergenceWarning: lbfgs failed to converge (status=1):\n",
      "STOP: TOTAL NO. of ITERATIONS REACHED LIMIT.\n",
      "\n",
      "Increase the number of iterations (max_iter) or scale the data as shown in:\n",
      "    https://scikit-learn.org/stable/modules/preprocessing.html\n",
      "Please also refer to the documentation for alternative solver options:\n",
      "    https://scikit-learn.org/stable/modules/linear_model.html#logistic-regression\n",
      "  extra_warning_msg=_LOGISTIC_SOLVER_CONVERGENCE_MSG)\n"
     ]
    }
   ],
   "source": [
    "from sklearn.linear_model import LogisticRegression, SGDClassifier\n",
    "from sklearn.svm import LinearSVC\n",
    "from sklearn.pipeline import Pipeline\n",
    "from sklearn.model_selection import GridSearchCV\n",
    "\n",
    "lr_pipeline = Pipeline([('tfidf', TfidfVectorizer()),\n",
    "                        ('lr', LogisticRegression(penalty='l2', max_iter=100, random_state=42))\n",
    "                       ])\n",
    "\n",
    "param_grid = {'tfidf__ngram_range': [(1, 1), (1, 2)],\n",
    "              'lr__C': [1, 5, 10]\n",
    "}\n",
    "\n",
    "gs_lr = GridSearchCV(lr_pipeline, param_grid, cv=5, verbose=2, n_jobs=-1)\n",
    "gs_lr = gs_lr.fit(train_corpus, train_label_names)"
   ]
  },
  {
   "cell_type": "code",
   "execution_count": 12,
   "metadata": {},
   "outputs": [
    {
     "data": {
      "text/plain": [
       "Pipeline(steps=[('tfidf', TfidfVectorizer(ngram_range=(1, 2))),\n",
       "                ('lr', LogisticRegression(C=10, random_state=42))])"
      ]
     },
     "execution_count": 12,
     "metadata": {},
     "output_type": "execute_result"
    }
   ],
   "source": [
    "gs_lr.best_estimator_"
   ]
  },
  {
   "cell_type": "code",
   "execution_count": 13,
   "metadata": {},
   "outputs": [
    {
     "data": {
      "text/html": [
       "<div>\n",
       "<style scoped>\n",
       "    .dataframe tbody tr th:only-of-type {\n",
       "        vertical-align: middle;\n",
       "    }\n",
       "\n",
       "    .dataframe tbody tr th {\n",
       "        vertical-align: top;\n",
       "    }\n",
       "\n",
       "    .dataframe thead th {\n",
       "        text-align: right;\n",
       "    }\n",
       "</style>\n",
       "<table border=\"1\" class=\"dataframe\">\n",
       "  <thead>\n",
       "    <tr style=\"text-align: right;\">\n",
       "      <th></th>\n",
       "      <th>rank</th>\n",
       "      <th>params</th>\n",
       "      <th>cv score (mean)</th>\n",
       "      <th>cv score (std)</th>\n",
       "    </tr>\n",
       "  </thead>\n",
       "  <tbody>\n",
       "    <tr>\n",
       "      <th>5</th>\n",
       "      <td>1</td>\n",
       "      <td>{'lr__C': 10, 'tfidf__ngram_range': (1, 2)}</td>\n",
       "      <td>0.987463</td>\n",
       "      <td>0.001522</td>\n",
       "    </tr>\n",
       "    <tr>\n",
       "      <th>3</th>\n",
       "      <td>2</td>\n",
       "      <td>{'lr__C': 5, 'tfidf__ngram_range': (1, 2)}</td>\n",
       "      <td>0.987164</td>\n",
       "      <td>0.001194</td>\n",
       "    </tr>\n",
       "    <tr>\n",
       "      <th>1</th>\n",
       "      <td>3</td>\n",
       "      <td>{'lr__C': 1, 'tfidf__ngram_range': (1, 2)}</td>\n",
       "      <td>0.987164</td>\n",
       "      <td>0.001447</td>\n",
       "    </tr>\n",
       "    <tr>\n",
       "      <th>4</th>\n",
       "      <td>4</td>\n",
       "      <td>{'lr__C': 10, 'tfidf__ngram_range': (1, 1)}</td>\n",
       "      <td>0.985821</td>\n",
       "      <td>0.002670</td>\n",
       "    </tr>\n",
       "    <tr>\n",
       "      <th>2</th>\n",
       "      <td>5</td>\n",
       "      <td>{'lr__C': 5, 'tfidf__ngram_range': (1, 1)}</td>\n",
       "      <td>0.985522</td>\n",
       "      <td>0.002341</td>\n",
       "    </tr>\n",
       "    <tr>\n",
       "      <th>0</th>\n",
       "      <td>6</td>\n",
       "      <td>{'lr__C': 1, 'tfidf__ngram_range': (1, 1)}</td>\n",
       "      <td>0.985224</td>\n",
       "      <td>0.002132</td>\n",
       "    </tr>\n",
       "  </tbody>\n",
       "</table>\n",
       "</div>"
      ],
      "text/plain": [
       "   rank                                       params  cv score (mean)  \\\n",
       "5     1  {'lr__C': 10, 'tfidf__ngram_range': (1, 2)}         0.987463   \n",
       "3     2   {'lr__C': 5, 'tfidf__ngram_range': (1, 2)}         0.987164   \n",
       "1     3   {'lr__C': 1, 'tfidf__ngram_range': (1, 2)}         0.987164   \n",
       "4     4  {'lr__C': 10, 'tfidf__ngram_range': (1, 1)}         0.985821   \n",
       "2     5   {'lr__C': 5, 'tfidf__ngram_range': (1, 1)}         0.985522   \n",
       "0     6   {'lr__C': 1, 'tfidf__ngram_range': (1, 1)}         0.985224   \n",
       "\n",
       "   cv score (std)  \n",
       "5        0.001522  \n",
       "3        0.001194  \n",
       "1        0.001447  \n",
       "4        0.002670  \n",
       "2        0.002341  \n",
       "0        0.002132  "
      ]
     },
     "execution_count": 13,
     "metadata": {},
     "output_type": "execute_result"
    }
   ],
   "source": [
    "lr_results = gs_lr.cv_results_\n",
    "results_df = pd.DataFrame({'rank': lr_results['rank_test_score'],\n",
    "                           'params': lr_results['params'], \n",
    "                           'cv score (mean)': lr_results['mean_test_score'], \n",
    "                           'cv score (std)': lr_results['std_test_score']} \n",
    "              )\n",
    "results_df = results_df.sort_values(by=['rank'], ascending=True)\n",
    "pd.set_option('display.max_colwidth', 100)\n",
    "results_df"
   ]
  },
  {
   "cell_type": "code",
   "execution_count": 14,
   "metadata": {},
   "outputs": [
    {
     "name": "stdout",
     "output_type": "stream",
     "text": [
      "Test Accuracy : 0.9890909090909091\n"
     ]
    }
   ],
   "source": [
    "best_lr_test_score = gs_lr.score(test_corpus, test_label_names)\n",
    "print('Test Accuracy :', best_lr_test_score)"
   ]
  },
  {
   "cell_type": "code",
   "execution_count": 15,
   "metadata": {},
   "outputs": [
    {
     "name": "stdout",
     "output_type": "stream",
     "text": [
      "{'lr__C': 10, 'tfidf__ngram_range': (1, 2)} 0.9874626865671642 0.00152209537719187 0.9890909090909091\n"
     ]
    }
   ],
   "source": [
    "lr_param = results_df.iloc[0]['params']\n",
    "lr_cvmean = results_df.iloc[0]['cv score (mean)']\n",
    "lr_cvstd = results_df.iloc[0]['cv score (std)']\n",
    "lr_acc = best_lr_test_score\n",
    "print(lr_param, lr_cvmean, lr_cvstd, lr_acc)"
   ]
  },
  {
   "cell_type": "markdown",
   "metadata": {},
   "source": [
    "### Linear SVM"
   ]
  },
  {
   "cell_type": "code",
   "execution_count": 16,
   "metadata": {},
   "outputs": [
    {
     "name": "stdout",
     "output_type": "stream",
     "text": [
      "Fitting 5 folds for each of 8 candidates, totalling 40 fits\n"
     ]
    },
    {
     "name": "stderr",
     "output_type": "stream",
     "text": [
      "[Parallel(n_jobs=-1)]: Using backend LokyBackend with 8 concurrent workers.\n",
      "[Parallel(n_jobs=-1)]: Done  25 tasks      | elapsed:   14.0s\n",
      "[Parallel(n_jobs=-1)]: Done  40 out of  40 | elapsed:   30.6s finished\n"
     ]
    }
   ],
   "source": [
    "from sklearn.pipeline import Pipeline\n",
    "from sklearn.model_selection import GridSearchCV\n",
    "\n",
    "svm_pipeline = Pipeline([('tfidf', TfidfVectorizer()),\n",
    "                        ('svm', LinearSVC(random_state=42))\n",
    "                       ])\n",
    "\n",
    "param_grid = {'tfidf__ngram_range': [(1, 1), (1, 2)],\n",
    "              'svm__C': [0.01, 0.1, 1, 5]\n",
    "}\n",
    "\n",
    "gs_svm = GridSearchCV(svm_pipeline, param_grid, cv=5, verbose=2, n_jobs=-1)\n",
    "gs_svm = gs_svm.fit(train_corpus, train_label_names)"
   ]
  },
  {
   "cell_type": "code",
   "execution_count": 17,
   "metadata": {},
   "outputs": [
    {
     "data": {
      "text/plain": [
       "{'memory': None,\n",
       " 'steps': [('tfidf', TfidfVectorizer(ngram_range=(1, 2))),\n",
       "  ('svm', LinearSVC(C=1, random_state=42))],\n",
       " 'verbose': False,\n",
       " 'tfidf': TfidfVectorizer(ngram_range=(1, 2)),\n",
       " 'svm': LinearSVC(C=1, random_state=42),\n",
       " 'tfidf__analyzer': 'word',\n",
       " 'tfidf__binary': False,\n",
       " 'tfidf__decode_error': 'strict',\n",
       " 'tfidf__dtype': numpy.float64,\n",
       " 'tfidf__encoding': 'utf-8',\n",
       " 'tfidf__input': 'content',\n",
       " 'tfidf__lowercase': True,\n",
       " 'tfidf__max_df': 1.0,\n",
       " 'tfidf__max_features': None,\n",
       " 'tfidf__min_df': 1,\n",
       " 'tfidf__ngram_range': (1, 2),\n",
       " 'tfidf__norm': 'l2',\n",
       " 'tfidf__preprocessor': None,\n",
       " 'tfidf__smooth_idf': True,\n",
       " 'tfidf__stop_words': None,\n",
       " 'tfidf__strip_accents': None,\n",
       " 'tfidf__sublinear_tf': False,\n",
       " 'tfidf__token_pattern': '(?u)\\\\b\\\\w\\\\w+\\\\b',\n",
       " 'tfidf__tokenizer': None,\n",
       " 'tfidf__use_idf': True,\n",
       " 'tfidf__vocabulary': None,\n",
       " 'svm__C': 1,\n",
       " 'svm__class_weight': None,\n",
       " 'svm__dual': True,\n",
       " 'svm__fit_intercept': True,\n",
       " 'svm__intercept_scaling': 1,\n",
       " 'svm__loss': 'squared_hinge',\n",
       " 'svm__max_iter': 1000,\n",
       " 'svm__multi_class': 'ovr',\n",
       " 'svm__penalty': 'l2',\n",
       " 'svm__random_state': 42,\n",
       " 'svm__tol': 0.0001,\n",
       " 'svm__verbose': 0}"
      ]
     },
     "execution_count": 17,
     "metadata": {},
     "output_type": "execute_result"
    }
   ],
   "source": [
    "gs_svm.best_estimator_.get_params()"
   ]
  },
  {
   "cell_type": "code",
   "execution_count": 18,
   "metadata": {},
   "outputs": [
    {
     "data": {
      "text/html": [
       "<div>\n",
       "<style scoped>\n",
       "    .dataframe tbody tr th:only-of-type {\n",
       "        vertical-align: middle;\n",
       "    }\n",
       "\n",
       "    .dataframe tbody tr th {\n",
       "        vertical-align: top;\n",
       "    }\n",
       "\n",
       "    .dataframe thead th {\n",
       "        text-align: right;\n",
       "    }\n",
       "</style>\n",
       "<table border=\"1\" class=\"dataframe\">\n",
       "  <thead>\n",
       "    <tr style=\"text-align: right;\">\n",
       "      <th></th>\n",
       "      <th>rank</th>\n",
       "      <th>params</th>\n",
       "      <th>cv score (mean)</th>\n",
       "      <th>cv score (std)</th>\n",
       "    </tr>\n",
       "  </thead>\n",
       "  <tbody>\n",
       "    <tr>\n",
       "      <th>5</th>\n",
       "      <td>1</td>\n",
       "      <td>{'svm__C': 1, 'tfidf__ngram_range': (1, 2)}</td>\n",
       "      <td>0.988209</td>\n",
       "      <td>0.001969</td>\n",
       "    </tr>\n",
       "    <tr>\n",
       "      <th>7</th>\n",
       "      <td>2</td>\n",
       "      <td>{'svm__C': 5, 'tfidf__ngram_range': (1, 2)}</td>\n",
       "      <td>0.987910</td>\n",
       "      <td>0.001969</td>\n",
       "    </tr>\n",
       "    <tr>\n",
       "      <th>3</th>\n",
       "      <td>3</td>\n",
       "      <td>{'svm__C': 0.1, 'tfidf__ngram_range': (1, 2)}</td>\n",
       "      <td>0.986866</td>\n",
       "      <td>0.002244</td>\n",
       "    </tr>\n",
       "    <tr>\n",
       "      <th>2</th>\n",
       "      <td>4</td>\n",
       "      <td>{'svm__C': 0.1, 'tfidf__ngram_range': (1, 1)}</td>\n",
       "      <td>0.986119</td>\n",
       "      <td>0.001301</td>\n",
       "    </tr>\n",
       "    <tr>\n",
       "      <th>4</th>\n",
       "      <td>5</td>\n",
       "      <td>{'svm__C': 1, 'tfidf__ngram_range': (1, 1)}</td>\n",
       "      <td>0.986119</td>\n",
       "      <td>0.001741</td>\n",
       "    </tr>\n",
       "    <tr>\n",
       "      <th>6</th>\n",
       "      <td>6</td>\n",
       "      <td>{'svm__C': 5, 'tfidf__ngram_range': (1, 1)}</td>\n",
       "      <td>0.985672</td>\n",
       "      <td>0.002379</td>\n",
       "    </tr>\n",
       "    <tr>\n",
       "      <th>1</th>\n",
       "      <td>7</td>\n",
       "      <td>{'svm__C': 0.01, 'tfidf__ngram_range': (1, 2)}</td>\n",
       "      <td>0.983881</td>\n",
       "      <td>0.002695</td>\n",
       "    </tr>\n",
       "    <tr>\n",
       "      <th>0</th>\n",
       "      <td>8</td>\n",
       "      <td>{'svm__C': 0.01, 'tfidf__ngram_range': (1, 1)}</td>\n",
       "      <td>0.982388</td>\n",
       "      <td>0.003007</td>\n",
       "    </tr>\n",
       "  </tbody>\n",
       "</table>\n",
       "</div>"
      ],
      "text/plain": [
       "   rank                                          params  cv score (mean)  \\\n",
       "5     1     {'svm__C': 1, 'tfidf__ngram_range': (1, 2)}         0.988209   \n",
       "7     2     {'svm__C': 5, 'tfidf__ngram_range': (1, 2)}         0.987910   \n",
       "3     3   {'svm__C': 0.1, 'tfidf__ngram_range': (1, 2)}         0.986866   \n",
       "2     4   {'svm__C': 0.1, 'tfidf__ngram_range': (1, 1)}         0.986119   \n",
       "4     5     {'svm__C': 1, 'tfidf__ngram_range': (1, 1)}         0.986119   \n",
       "6     6     {'svm__C': 5, 'tfidf__ngram_range': (1, 1)}         0.985672   \n",
       "1     7  {'svm__C': 0.01, 'tfidf__ngram_range': (1, 2)}         0.983881   \n",
       "0     8  {'svm__C': 0.01, 'tfidf__ngram_range': (1, 1)}         0.982388   \n",
       "\n",
       "   cv score (std)  \n",
       "5        0.001969  \n",
       "7        0.001969  \n",
       "3        0.002244  \n",
       "2        0.001301  \n",
       "4        0.001741  \n",
       "6        0.002379  \n",
       "1        0.002695  \n",
       "0        0.003007  "
      ]
     },
     "execution_count": 18,
     "metadata": {},
     "output_type": "execute_result"
    }
   ],
   "source": [
    "svm_results = gs_svm.cv_results_\n",
    "results_df = pd.DataFrame({'rank': svm_results['rank_test_score'],\n",
    "                           'params': svm_results['params'], \n",
    "                           'cv score (mean)': svm_results['mean_test_score'], \n",
    "                           'cv score (std)': svm_results['std_test_score']} \n",
    "              )\n",
    "results_df = results_df.sort_values(by=['rank'], ascending=True)\n",
    "pd.set_option('display.max_colwidth', 100)\n",
    "results_df"
   ]
  },
  {
   "cell_type": "code",
   "execution_count": 19,
   "metadata": {},
   "outputs": [
    {
     "name": "stdout",
     "output_type": "stream",
     "text": [
      "Test Accuracy : 0.9881818181818182\n"
     ]
    }
   ],
   "source": [
    "best_svm_test_score = gs_svm.score(test_corpus, test_label_names)\n",
    "print('Test Accuracy :', best_svm_test_score)"
   ]
  },
  {
   "cell_type": "code",
   "execution_count": 20,
   "metadata": {},
   "outputs": [
    {
     "name": "stdout",
     "output_type": "stream",
     "text": [
      "{'svm__C': 1, 'tfidf__ngram_range': (1, 2)} 0.9882089552238806 0.0019687919340706014 0.9881818181818182\n"
     ]
    }
   ],
   "source": [
    "svm_param = results_df.iloc[0]['params']\n",
    "svm_cvmean = results_df.iloc[0]['cv score (mean)']\n",
    "svm_cvstd = results_df.iloc[0]['cv score (std)']\n",
    "svm_acc = best_svm_test_score\n",
    "print(svm_param, svm_cvmean, svm_cvstd, svm_acc)"
   ]
  },
  {
   "cell_type": "markdown",
   "metadata": {},
   "source": [
    "### SGD"
   ]
  },
  {
   "cell_type": "code",
   "execution_count": 21,
   "metadata": {},
   "outputs": [
    {
     "name": "stdout",
     "output_type": "stream",
     "text": [
      "Fitting 5 folds for each of 8 candidates, totalling 40 fits\n"
     ]
    },
    {
     "name": "stderr",
     "output_type": "stream",
     "text": [
      "[Parallel(n_jobs=-1)]: Using backend LokyBackend with 8 concurrent workers.\n",
      "[Parallel(n_jobs=-1)]: Done  25 tasks      | elapsed:   11.5s\n",
      "[Parallel(n_jobs=-1)]: Done  40 out of  40 | elapsed:   19.7s finished\n"
     ]
    }
   ],
   "source": [
    "from sklearn.pipeline import Pipeline\n",
    "from sklearn.model_selection import GridSearchCV\n",
    "\n",
    "sgd_pipeline = Pipeline([('tfidf', TfidfVectorizer()),\n",
    "                        ('sgd', SGDClassifier(random_state=42))\n",
    "                       ])\n",
    "\n",
    "param_grid = {'tfidf__ngram_range': [(1, 1), (1, 2)],\n",
    "              'sgd__alpha': [1e-7, 1e-6, 1e-5, 1e-4]\n",
    "}\n",
    "\n",
    "gs_sgd = GridSearchCV(sgd_pipeline, param_grid, cv=5, verbose=2, n_jobs=-1)\n",
    "gs_sgd = gs_sgd.fit(train_corpus, train_label_names)"
   ]
  },
  {
   "cell_type": "code",
   "execution_count": 22,
   "metadata": {},
   "outputs": [
    {
     "data": {
      "text/plain": [
       "{'memory': None,\n",
       " 'steps': [('tfidf', TfidfVectorizer(ngram_range=(1, 2))),\n",
       "  ('sgd', SGDClassifier(alpha=1e-05, random_state=42))],\n",
       " 'verbose': False,\n",
       " 'tfidf': TfidfVectorizer(ngram_range=(1, 2)),\n",
       " 'sgd': SGDClassifier(alpha=1e-05, random_state=42),\n",
       " 'tfidf__analyzer': 'word',\n",
       " 'tfidf__binary': False,\n",
       " 'tfidf__decode_error': 'strict',\n",
       " 'tfidf__dtype': numpy.float64,\n",
       " 'tfidf__encoding': 'utf-8',\n",
       " 'tfidf__input': 'content',\n",
       " 'tfidf__lowercase': True,\n",
       " 'tfidf__max_df': 1.0,\n",
       " 'tfidf__max_features': None,\n",
       " 'tfidf__min_df': 1,\n",
       " 'tfidf__ngram_range': (1, 2),\n",
       " 'tfidf__norm': 'l2',\n",
       " 'tfidf__preprocessor': None,\n",
       " 'tfidf__smooth_idf': True,\n",
       " 'tfidf__stop_words': None,\n",
       " 'tfidf__strip_accents': None,\n",
       " 'tfidf__sublinear_tf': False,\n",
       " 'tfidf__token_pattern': '(?u)\\\\b\\\\w\\\\w+\\\\b',\n",
       " 'tfidf__tokenizer': None,\n",
       " 'tfidf__use_idf': True,\n",
       " 'tfidf__vocabulary': None,\n",
       " 'sgd__alpha': 1e-05,\n",
       " 'sgd__average': False,\n",
       " 'sgd__class_weight': None,\n",
       " 'sgd__early_stopping': False,\n",
       " 'sgd__epsilon': 0.1,\n",
       " 'sgd__eta0': 0.0,\n",
       " 'sgd__fit_intercept': True,\n",
       " 'sgd__l1_ratio': 0.15,\n",
       " 'sgd__learning_rate': 'optimal',\n",
       " 'sgd__loss': 'hinge',\n",
       " 'sgd__max_iter': 1000,\n",
       " 'sgd__n_iter_no_change': 5,\n",
       " 'sgd__n_jobs': None,\n",
       " 'sgd__penalty': 'l2',\n",
       " 'sgd__power_t': 0.5,\n",
       " 'sgd__random_state': 42,\n",
       " 'sgd__shuffle': True,\n",
       " 'sgd__tol': 0.001,\n",
       " 'sgd__validation_fraction': 0.1,\n",
       " 'sgd__verbose': 0,\n",
       " 'sgd__warm_start': False}"
      ]
     },
     "execution_count": 22,
     "metadata": {},
     "output_type": "execute_result"
    }
   ],
   "source": [
    "gs_sgd.best_estimator_.get_params()"
   ]
  },
  {
   "cell_type": "code",
   "execution_count": 23,
   "metadata": {},
   "outputs": [
    {
     "data": {
      "text/html": [
       "<div>\n",
       "<style scoped>\n",
       "    .dataframe tbody tr th:only-of-type {\n",
       "        vertical-align: middle;\n",
       "    }\n",
       "\n",
       "    .dataframe tbody tr th {\n",
       "        vertical-align: top;\n",
       "    }\n",
       "\n",
       "    .dataframe thead th {\n",
       "        text-align: right;\n",
       "    }\n",
       "</style>\n",
       "<table border=\"1\" class=\"dataframe\">\n",
       "  <thead>\n",
       "    <tr style=\"text-align: right;\">\n",
       "      <th></th>\n",
       "      <th>rank</th>\n",
       "      <th>params</th>\n",
       "      <th>cv score (mean)</th>\n",
       "      <th>cv score (std)</th>\n",
       "    </tr>\n",
       "  </thead>\n",
       "  <tbody>\n",
       "    <tr>\n",
       "      <th>5</th>\n",
       "      <td>1</td>\n",
       "      <td>{'sgd__alpha': 1e-05, 'tfidf__ngram_range': (1, 2)}</td>\n",
       "      <td>0.988209</td>\n",
       "      <td>0.002471</td>\n",
       "    </tr>\n",
       "    <tr>\n",
       "      <th>7</th>\n",
       "      <td>2</td>\n",
       "      <td>{'sgd__alpha': 0.0001, 'tfidf__ngram_range': (1, 2)}</td>\n",
       "      <td>0.987910</td>\n",
       "      <td>0.001594</td>\n",
       "    </tr>\n",
       "    <tr>\n",
       "      <th>6</th>\n",
       "      <td>3</td>\n",
       "      <td>{'sgd__alpha': 0.0001, 'tfidf__ngram_range': (1, 1)}</td>\n",
       "      <td>0.986418</td>\n",
       "      <td>0.002559</td>\n",
       "    </tr>\n",
       "    <tr>\n",
       "      <th>3</th>\n",
       "      <td>4</td>\n",
       "      <td>{'sgd__alpha': 1e-06, 'tfidf__ngram_range': (1, 2)}</td>\n",
       "      <td>0.985821</td>\n",
       "      <td>0.001335</td>\n",
       "    </tr>\n",
       "    <tr>\n",
       "      <th>4</th>\n",
       "      <td>5</td>\n",
       "      <td>{'sgd__alpha': 1e-05, 'tfidf__ngram_range': (1, 1)}</td>\n",
       "      <td>0.985075</td>\n",
       "      <td>0.002792</td>\n",
       "    </tr>\n",
       "    <tr>\n",
       "      <th>1</th>\n",
       "      <td>6</td>\n",
       "      <td>{'sgd__alpha': 1e-07, 'tfidf__ngram_range': (1, 2)}</td>\n",
       "      <td>0.983881</td>\n",
       "      <td>0.002568</td>\n",
       "    </tr>\n",
       "    <tr>\n",
       "      <th>2</th>\n",
       "      <td>7</td>\n",
       "      <td>{'sgd__alpha': 1e-06, 'tfidf__ngram_range': (1, 1)}</td>\n",
       "      <td>0.982239</td>\n",
       "      <td>0.003576</td>\n",
       "    </tr>\n",
       "    <tr>\n",
       "      <th>0</th>\n",
       "      <td>8</td>\n",
       "      <td>{'sgd__alpha': 1e-07, 'tfidf__ngram_range': (1, 1)}</td>\n",
       "      <td>0.977313</td>\n",
       "      <td>0.002611</td>\n",
       "    </tr>\n",
       "  </tbody>\n",
       "</table>\n",
       "</div>"
      ],
      "text/plain": [
       "   rank                                                params  \\\n",
       "5     1   {'sgd__alpha': 1e-05, 'tfidf__ngram_range': (1, 2)}   \n",
       "7     2  {'sgd__alpha': 0.0001, 'tfidf__ngram_range': (1, 2)}   \n",
       "6     3  {'sgd__alpha': 0.0001, 'tfidf__ngram_range': (1, 1)}   \n",
       "3     4   {'sgd__alpha': 1e-06, 'tfidf__ngram_range': (1, 2)}   \n",
       "4     5   {'sgd__alpha': 1e-05, 'tfidf__ngram_range': (1, 1)}   \n",
       "1     6   {'sgd__alpha': 1e-07, 'tfidf__ngram_range': (1, 2)}   \n",
       "2     7   {'sgd__alpha': 1e-06, 'tfidf__ngram_range': (1, 1)}   \n",
       "0     8   {'sgd__alpha': 1e-07, 'tfidf__ngram_range': (1, 1)}   \n",
       "\n",
       "   cv score (mean)  cv score (std)  \n",
       "5         0.988209        0.002471  \n",
       "7         0.987910        0.001594  \n",
       "6         0.986418        0.002559  \n",
       "3         0.985821        0.001335  \n",
       "4         0.985075        0.002792  \n",
       "1         0.983881        0.002568  \n",
       "2         0.982239        0.003576  \n",
       "0         0.977313        0.002611  "
      ]
     },
     "execution_count": 23,
     "metadata": {},
     "output_type": "execute_result"
    }
   ],
   "source": [
    "sgd_results = gs_sgd.cv_results_\n",
    "results_df = pd.DataFrame({'rank': sgd_results['rank_test_score'],\n",
    "                           'params': sgd_results['params'], \n",
    "                           'cv score (mean)': sgd_results['mean_test_score'], \n",
    "                           'cv score (std)': sgd_results['std_test_score']} \n",
    "              )\n",
    "results_df = results_df.sort_values(by=['rank'], ascending=True)\n",
    "pd.set_option('display.max_colwidth', 100)\n",
    "results_df"
   ]
  },
  {
   "cell_type": "code",
   "execution_count": 24,
   "metadata": {},
   "outputs": [
    {
     "name": "stdout",
     "output_type": "stream",
     "text": [
      "Test Accuracy : 0.9878787878787879\n"
     ]
    }
   ],
   "source": [
    "best_sgd_test_score = gs_sgd.score(test_corpus, test_label_names)\n",
    "print('Test Accuracy :', best_sgd_test_score)"
   ]
  },
  {
   "cell_type": "code",
   "execution_count": 25,
   "metadata": {},
   "outputs": [
    {
     "name": "stdout",
     "output_type": "stream",
     "text": [
      "{'sgd__alpha': 1e-05, 'tfidf__ngram_range': (1, 2)} 0.9882089552238806 0.002470588859290571 0.9878787878787879\n"
     ]
    }
   ],
   "source": [
    "sgd_param = results_df.iloc[0]['params']\n",
    "sgd_cvmean = results_df.iloc[0]['cv score (mean)']\n",
    "sgd_cvstd = results_df.iloc[0]['cv score (std)']\n",
    "sgd_acc = best_sgd_test_score\n",
    "print(sgd_param, sgd_cvmean, sgd_cvstd, sgd_acc)"
   ]
  },
  {
   "cell_type": "markdown",
   "metadata": {},
   "source": [
    "### Random Forest"
   ]
  },
  {
   "cell_type": "code",
   "execution_count": 26,
   "metadata": {},
   "outputs": [
    {
     "name": "stdout",
     "output_type": "stream",
     "text": [
      "Fitting 5 folds for each of 32 candidates, totalling 160 fits\n"
     ]
    },
    {
     "name": "stderr",
     "output_type": "stream",
     "text": [
      "[Parallel(n_jobs=-1)]: Using backend LokyBackend with 8 concurrent workers.\n",
      "[Parallel(n_jobs=-1)]: Done  25 tasks      | elapsed:   21.8s\n",
      "[Parallel(n_jobs=-1)]: Done 160 out of 160 | elapsed:  3.9min finished\n"
     ]
    }
   ],
   "source": [
    "from sklearn.pipeline import Pipeline\n",
    "from sklearn.model_selection import GridSearchCV\n",
    "\n",
    "rf_pipeline = Pipeline([('tfidf', TfidfVectorizer()),\n",
    "                        ('rf', RandomForestClassifier(random_state=42))\n",
    "                       ])\n",
    "\n",
    "param_grid = {'tfidf__ngram_range': [(1, 1), (1, 2)],\n",
    "              'rf__max_depth': [80, 90, 100, 110],\n",
    "              'rf__n_estimators': [10, 20, 50, 100]\n",
    "#               'rf__min_samples_leaf': [3, 4, 5],\n",
    "#               'rf__min_samples_split': [8, 10, 12],\n",
    "              \n",
    "              \n",
    "              \n",
    "}\n",
    "\n",
    "gs_rf = GridSearchCV(rf_pipeline, param_grid, cv=5, verbose=2, n_jobs=-1)\n",
    "gs_rf = gs_rf.fit(train_corpus, train_label_names)"
   ]
  },
  {
   "cell_type": "code",
   "execution_count": 27,
   "metadata": {},
   "outputs": [
    {
     "data": {
      "text/plain": [
       "{'memory': None,\n",
       " 'steps': [('tfidf', TfidfVectorizer()),\n",
       "  ('rf', RandomForestClassifier(max_depth=100, random_state=42))],\n",
       " 'verbose': False,\n",
       " 'tfidf': TfidfVectorizer(),\n",
       " 'rf': RandomForestClassifier(max_depth=100, random_state=42),\n",
       " 'tfidf__analyzer': 'word',\n",
       " 'tfidf__binary': False,\n",
       " 'tfidf__decode_error': 'strict',\n",
       " 'tfidf__dtype': numpy.float64,\n",
       " 'tfidf__encoding': 'utf-8',\n",
       " 'tfidf__input': 'content',\n",
       " 'tfidf__lowercase': True,\n",
       " 'tfidf__max_df': 1.0,\n",
       " 'tfidf__max_features': None,\n",
       " 'tfidf__min_df': 1,\n",
       " 'tfidf__ngram_range': (1, 1),\n",
       " 'tfidf__norm': 'l2',\n",
       " 'tfidf__preprocessor': None,\n",
       " 'tfidf__smooth_idf': True,\n",
       " 'tfidf__stop_words': None,\n",
       " 'tfidf__strip_accents': None,\n",
       " 'tfidf__sublinear_tf': False,\n",
       " 'tfidf__token_pattern': '(?u)\\\\b\\\\w\\\\w+\\\\b',\n",
       " 'tfidf__tokenizer': None,\n",
       " 'tfidf__use_idf': True,\n",
       " 'tfidf__vocabulary': None,\n",
       " 'rf__bootstrap': True,\n",
       " 'rf__ccp_alpha': 0.0,\n",
       " 'rf__class_weight': None,\n",
       " 'rf__criterion': 'gini',\n",
       " 'rf__max_depth': 100,\n",
       " 'rf__max_features': 'auto',\n",
       " 'rf__max_leaf_nodes': None,\n",
       " 'rf__max_samples': None,\n",
       " 'rf__min_impurity_decrease': 0.0,\n",
       " 'rf__min_impurity_split': None,\n",
       " 'rf__min_samples_leaf': 1,\n",
       " 'rf__min_samples_split': 2,\n",
       " 'rf__min_weight_fraction_leaf': 0.0,\n",
       " 'rf__n_estimators': 100,\n",
       " 'rf__n_jobs': None,\n",
       " 'rf__oob_score': False,\n",
       " 'rf__random_state': 42,\n",
       " 'rf__verbose': 0,\n",
       " 'rf__warm_start': False}"
      ]
     },
     "execution_count": 27,
     "metadata": {},
     "output_type": "execute_result"
    }
   ],
   "source": [
    "gs_rf.best_estimator_.get_params()"
   ]
  },
  {
   "cell_type": "code",
   "execution_count": 28,
   "metadata": {},
   "outputs": [
    {
     "data": {
      "text/html": [
       "<div>\n",
       "<style scoped>\n",
       "    .dataframe tbody tr th:only-of-type {\n",
       "        vertical-align: middle;\n",
       "    }\n",
       "\n",
       "    .dataframe tbody tr th {\n",
       "        vertical-align: top;\n",
       "    }\n",
       "\n",
       "    .dataframe thead th {\n",
       "        text-align: right;\n",
       "    }\n",
       "</style>\n",
       "<table border=\"1\" class=\"dataframe\">\n",
       "  <thead>\n",
       "    <tr style=\"text-align: right;\">\n",
       "      <th></th>\n",
       "      <th>rank</th>\n",
       "      <th>params</th>\n",
       "      <th>cv score (mean)</th>\n",
       "      <th>cv score (std)</th>\n",
       "    </tr>\n",
       "  </thead>\n",
       "  <tbody>\n",
       "    <tr>\n",
       "      <th>22</th>\n",
       "      <td>1</td>\n",
       "      <td>{'rf__max_depth': 100, 'rf__n_estimators': 100, 'tfidf__ngram_range': (1, 1)}</td>\n",
       "      <td>0.984776</td>\n",
       "      <td>0.001923</td>\n",
       "    </tr>\n",
       "    <tr>\n",
       "      <th>7</th>\n",
       "      <td>2</td>\n",
       "      <td>{'rf__max_depth': 80, 'rf__n_estimators': 100, 'tfidf__ngram_range': (1, 2)}</td>\n",
       "      <td>0.984328</td>\n",
       "      <td>0.002985</td>\n",
       "    </tr>\n",
       "    <tr>\n",
       "      <th>6</th>\n",
       "      <td>3</td>\n",
       "      <td>{'rf__max_depth': 80, 'rf__n_estimators': 100, 'tfidf__ngram_range': (1, 1)}</td>\n",
       "      <td>0.983881</td>\n",
       "      <td>0.001012</td>\n",
       "    </tr>\n",
       "    <tr>\n",
       "      <th>23</th>\n",
       "      <td>4</td>\n",
       "      <td>{'rf__max_depth': 100, 'rf__n_estimators': 100, 'tfidf__ngram_range': (1, 2)}</td>\n",
       "      <td>0.983731</td>\n",
       "      <td>0.002283</td>\n",
       "    </tr>\n",
       "    <tr>\n",
       "      <th>31</th>\n",
       "      <td>5</td>\n",
       "      <td>{'rf__max_depth': 110, 'rf__n_estimators': 100, 'tfidf__ngram_range': (1, 2)}</td>\n",
       "      <td>0.983582</td>\n",
       "      <td>0.002909</td>\n",
       "    </tr>\n",
       "    <tr>\n",
       "      <th>14</th>\n",
       "      <td>6</td>\n",
       "      <td>{'rf__max_depth': 90, 'rf__n_estimators': 100, 'tfidf__ngram_range': (1, 1)}</td>\n",
       "      <td>0.983134</td>\n",
       "      <td>0.002036</td>\n",
       "    </tr>\n",
       "    <tr>\n",
       "      <th>30</th>\n",
       "      <td>7</td>\n",
       "      <td>{'rf__max_depth': 110, 'rf__n_estimators': 100, 'tfidf__ngram_range': (1, 1)}</td>\n",
       "      <td>0.982687</td>\n",
       "      <td>0.001447</td>\n",
       "    </tr>\n",
       "    <tr>\n",
       "      <th>15</th>\n",
       "      <td>8</td>\n",
       "      <td>{'rf__max_depth': 90, 'rf__n_estimators': 100, 'tfidf__ngram_range': (1, 2)}</td>\n",
       "      <td>0.982239</td>\n",
       "      <td>0.003284</td>\n",
       "    </tr>\n",
       "    <tr>\n",
       "      <th>29</th>\n",
       "      <td>9</td>\n",
       "      <td>{'rf__max_depth': 110, 'rf__n_estimators': 50, 'tfidf__ngram_range': (1, 2)}</td>\n",
       "      <td>0.981791</td>\n",
       "      <td>0.001384</td>\n",
       "    </tr>\n",
       "    <tr>\n",
       "      <th>5</th>\n",
       "      <td>10</td>\n",
       "      <td>{'rf__max_depth': 80, 'rf__n_estimators': 50, 'tfidf__ngram_range': (1, 2)}</td>\n",
       "      <td>0.981493</td>\n",
       "      <td>0.001852</td>\n",
       "    </tr>\n",
       "    <tr>\n",
       "      <th>21</th>\n",
       "      <td>11</td>\n",
       "      <td>{'rf__max_depth': 100, 'rf__n_estimators': 50, 'tfidf__ngram_range': (1, 2)}</td>\n",
       "      <td>0.981194</td>\n",
       "      <td>0.003073</td>\n",
       "    </tr>\n",
       "    <tr>\n",
       "      <th>12</th>\n",
       "      <td>12</td>\n",
       "      <td>{'rf__max_depth': 90, 'rf__n_estimators': 50, 'tfidf__ngram_range': (1, 1)}</td>\n",
       "      <td>0.980597</td>\n",
       "      <td>0.003404</td>\n",
       "    </tr>\n",
       "    <tr>\n",
       "      <th>13</th>\n",
       "      <td>13</td>\n",
       "      <td>{'rf__max_depth': 90, 'rf__n_estimators': 50, 'tfidf__ngram_range': (1, 2)}</td>\n",
       "      <td>0.980448</td>\n",
       "      <td>0.003513</td>\n",
       "    </tr>\n",
       "    <tr>\n",
       "      <th>20</th>\n",
       "      <td>14</td>\n",
       "      <td>{'rf__max_depth': 100, 'rf__n_estimators': 50, 'tfidf__ngram_range': (1, 1)}</td>\n",
       "      <td>0.980000</td>\n",
       "      <td>0.002379</td>\n",
       "    </tr>\n",
       "    <tr>\n",
       "      <th>28</th>\n",
       "      <td>15</td>\n",
       "      <td>{'rf__max_depth': 110, 'rf__n_estimators': 50, 'tfidf__ngram_range': (1, 1)}</td>\n",
       "      <td>0.979851</td>\n",
       "      <td>0.003746</td>\n",
       "    </tr>\n",
       "    <tr>\n",
       "      <th>4</th>\n",
       "      <td>16</td>\n",
       "      <td>{'rf__max_depth': 80, 'rf__n_estimators': 50, 'tfidf__ngram_range': (1, 1)}</td>\n",
       "      <td>0.979254</td>\n",
       "      <td>0.003607</td>\n",
       "    </tr>\n",
       "    <tr>\n",
       "      <th>19</th>\n",
       "      <td>17</td>\n",
       "      <td>{'rf__max_depth': 100, 'rf__n_estimators': 20, 'tfidf__ngram_range': (1, 2)}</td>\n",
       "      <td>0.972239</td>\n",
       "      <td>0.005451</td>\n",
       "    </tr>\n",
       "    <tr>\n",
       "      <th>27</th>\n",
       "      <td>18</td>\n",
       "      <td>{'rf__max_depth': 110, 'rf__n_estimators': 20, 'tfidf__ngram_range': (1, 2)}</td>\n",
       "      <td>0.971045</td>\n",
       "      <td>0.002559</td>\n",
       "    </tr>\n",
       "    <tr>\n",
       "      <th>3</th>\n",
       "      <td>19</td>\n",
       "      <td>{'rf__max_depth': 80, 'rf__n_estimators': 20, 'tfidf__ngram_range': (1, 2)}</td>\n",
       "      <td>0.969552</td>\n",
       "      <td>0.003638</td>\n",
       "    </tr>\n",
       "    <tr>\n",
       "      <th>11</th>\n",
       "      <td>20</td>\n",
       "      <td>{'rf__max_depth': 90, 'rf__n_estimators': 20, 'tfidf__ngram_range': (1, 2)}</td>\n",
       "      <td>0.969104</td>\n",
       "      <td>0.004468</td>\n",
       "    </tr>\n",
       "    <tr>\n",
       "      <th>2</th>\n",
       "      <td>21</td>\n",
       "      <td>{'rf__max_depth': 80, 'rf__n_estimators': 20, 'tfidf__ngram_range': (1, 1)}</td>\n",
       "      <td>0.967313</td>\n",
       "      <td>0.005451</td>\n",
       "    </tr>\n",
       "    <tr>\n",
       "      <th>26</th>\n",
       "      <td>22</td>\n",
       "      <td>{'rf__max_depth': 110, 'rf__n_estimators': 20, 'tfidf__ngram_range': (1, 1)}</td>\n",
       "      <td>0.967015</td>\n",
       "      <td>0.005672</td>\n",
       "    </tr>\n",
       "    <tr>\n",
       "      <th>18</th>\n",
       "      <td>23</td>\n",
       "      <td>{'rf__max_depth': 100, 'rf__n_estimators': 20, 'tfidf__ngram_range': (1, 1)}</td>\n",
       "      <td>0.966866</td>\n",
       "      <td>0.006128</td>\n",
       "    </tr>\n",
       "    <tr>\n",
       "      <th>10</th>\n",
       "      <td>24</td>\n",
       "      <td>{'rf__max_depth': 90, 'rf__n_estimators': 20, 'tfidf__ngram_range': (1, 1)}</td>\n",
       "      <td>0.964030</td>\n",
       "      <td>0.009780</td>\n",
       "    </tr>\n",
       "    <tr>\n",
       "      <th>9</th>\n",
       "      <td>25</td>\n",
       "      <td>{'rf__max_depth': 90, 'rf__n_estimators': 10, 'tfidf__ngram_range': (1, 2)}</td>\n",
       "      <td>0.935224</td>\n",
       "      <td>0.009071</td>\n",
       "    </tr>\n",
       "    <tr>\n",
       "      <th>25</th>\n",
       "      <td>26</td>\n",
       "      <td>{'rf__max_depth': 110, 'rf__n_estimators': 10, 'tfidf__ngram_range': (1, 2)}</td>\n",
       "      <td>0.932985</td>\n",
       "      <td>0.007903</td>\n",
       "    </tr>\n",
       "    <tr>\n",
       "      <th>17</th>\n",
       "      <td>27</td>\n",
       "      <td>{'rf__max_depth': 100, 'rf__n_estimators': 10, 'tfidf__ngram_range': (1, 2)}</td>\n",
       "      <td>0.931791</td>\n",
       "      <td>0.007678</td>\n",
       "    </tr>\n",
       "    <tr>\n",
       "      <th>1</th>\n",
       "      <td>28</td>\n",
       "      <td>{'rf__max_depth': 80, 'rf__n_estimators': 10, 'tfidf__ngram_range': (1, 2)}</td>\n",
       "      <td>0.931343</td>\n",
       "      <td>0.012857</td>\n",
       "    </tr>\n",
       "    <tr>\n",
       "      <th>0</th>\n",
       "      <td>29</td>\n",
       "      <td>{'rf__max_depth': 80, 'rf__n_estimators': 10, 'tfidf__ngram_range': (1, 1)}</td>\n",
       "      <td>0.928060</td>\n",
       "      <td>0.008291</td>\n",
       "    </tr>\n",
       "    <tr>\n",
       "      <th>24</th>\n",
       "      <td>30</td>\n",
       "      <td>{'rf__max_depth': 110, 'rf__n_estimators': 10, 'tfidf__ngram_range': (1, 1)}</td>\n",
       "      <td>0.924328</td>\n",
       "      <td>0.013263</td>\n",
       "    </tr>\n",
       "    <tr>\n",
       "      <th>8</th>\n",
       "      <td>31</td>\n",
       "      <td>{'rf__max_depth': 90, 'rf__n_estimators': 10, 'tfidf__ngram_range': (1, 1)}</td>\n",
       "      <td>0.920597</td>\n",
       "      <td>0.009680</td>\n",
       "    </tr>\n",
       "    <tr>\n",
       "      <th>16</th>\n",
       "      <td>32</td>\n",
       "      <td>{'rf__max_depth': 100, 'rf__n_estimators': 10, 'tfidf__ngram_range': (1, 1)}</td>\n",
       "      <td>0.920299</td>\n",
       "      <td>0.008923</td>\n",
       "    </tr>\n",
       "  </tbody>\n",
       "</table>\n",
       "</div>"
      ],
      "text/plain": [
       "    rank  \\\n",
       "22     1   \n",
       "7      2   \n",
       "6      3   \n",
       "23     4   \n",
       "31     5   \n",
       "14     6   \n",
       "30     7   \n",
       "15     8   \n",
       "29     9   \n",
       "5     10   \n",
       "21    11   \n",
       "12    12   \n",
       "13    13   \n",
       "20    14   \n",
       "28    15   \n",
       "4     16   \n",
       "19    17   \n",
       "27    18   \n",
       "3     19   \n",
       "11    20   \n",
       "2     21   \n",
       "26    22   \n",
       "18    23   \n",
       "10    24   \n",
       "9     25   \n",
       "25    26   \n",
       "17    27   \n",
       "1     28   \n",
       "0     29   \n",
       "24    30   \n",
       "8     31   \n",
       "16    32   \n",
       "\n",
       "                                                                           params  \\\n",
       "22  {'rf__max_depth': 100, 'rf__n_estimators': 100, 'tfidf__ngram_range': (1, 1)}   \n",
       "7    {'rf__max_depth': 80, 'rf__n_estimators': 100, 'tfidf__ngram_range': (1, 2)}   \n",
       "6    {'rf__max_depth': 80, 'rf__n_estimators': 100, 'tfidf__ngram_range': (1, 1)}   \n",
       "23  {'rf__max_depth': 100, 'rf__n_estimators': 100, 'tfidf__ngram_range': (1, 2)}   \n",
       "31  {'rf__max_depth': 110, 'rf__n_estimators': 100, 'tfidf__ngram_range': (1, 2)}   \n",
       "14   {'rf__max_depth': 90, 'rf__n_estimators': 100, 'tfidf__ngram_range': (1, 1)}   \n",
       "30  {'rf__max_depth': 110, 'rf__n_estimators': 100, 'tfidf__ngram_range': (1, 1)}   \n",
       "15   {'rf__max_depth': 90, 'rf__n_estimators': 100, 'tfidf__ngram_range': (1, 2)}   \n",
       "29   {'rf__max_depth': 110, 'rf__n_estimators': 50, 'tfidf__ngram_range': (1, 2)}   \n",
       "5     {'rf__max_depth': 80, 'rf__n_estimators': 50, 'tfidf__ngram_range': (1, 2)}   \n",
       "21   {'rf__max_depth': 100, 'rf__n_estimators': 50, 'tfidf__ngram_range': (1, 2)}   \n",
       "12    {'rf__max_depth': 90, 'rf__n_estimators': 50, 'tfidf__ngram_range': (1, 1)}   \n",
       "13    {'rf__max_depth': 90, 'rf__n_estimators': 50, 'tfidf__ngram_range': (1, 2)}   \n",
       "20   {'rf__max_depth': 100, 'rf__n_estimators': 50, 'tfidf__ngram_range': (1, 1)}   \n",
       "28   {'rf__max_depth': 110, 'rf__n_estimators': 50, 'tfidf__ngram_range': (1, 1)}   \n",
       "4     {'rf__max_depth': 80, 'rf__n_estimators': 50, 'tfidf__ngram_range': (1, 1)}   \n",
       "19   {'rf__max_depth': 100, 'rf__n_estimators': 20, 'tfidf__ngram_range': (1, 2)}   \n",
       "27   {'rf__max_depth': 110, 'rf__n_estimators': 20, 'tfidf__ngram_range': (1, 2)}   \n",
       "3     {'rf__max_depth': 80, 'rf__n_estimators': 20, 'tfidf__ngram_range': (1, 2)}   \n",
       "11    {'rf__max_depth': 90, 'rf__n_estimators': 20, 'tfidf__ngram_range': (1, 2)}   \n",
       "2     {'rf__max_depth': 80, 'rf__n_estimators': 20, 'tfidf__ngram_range': (1, 1)}   \n",
       "26   {'rf__max_depth': 110, 'rf__n_estimators': 20, 'tfidf__ngram_range': (1, 1)}   \n",
       "18   {'rf__max_depth': 100, 'rf__n_estimators': 20, 'tfidf__ngram_range': (1, 1)}   \n",
       "10    {'rf__max_depth': 90, 'rf__n_estimators': 20, 'tfidf__ngram_range': (1, 1)}   \n",
       "9     {'rf__max_depth': 90, 'rf__n_estimators': 10, 'tfidf__ngram_range': (1, 2)}   \n",
       "25   {'rf__max_depth': 110, 'rf__n_estimators': 10, 'tfidf__ngram_range': (1, 2)}   \n",
       "17   {'rf__max_depth': 100, 'rf__n_estimators': 10, 'tfidf__ngram_range': (1, 2)}   \n",
       "1     {'rf__max_depth': 80, 'rf__n_estimators': 10, 'tfidf__ngram_range': (1, 2)}   \n",
       "0     {'rf__max_depth': 80, 'rf__n_estimators': 10, 'tfidf__ngram_range': (1, 1)}   \n",
       "24   {'rf__max_depth': 110, 'rf__n_estimators': 10, 'tfidf__ngram_range': (1, 1)}   \n",
       "8     {'rf__max_depth': 90, 'rf__n_estimators': 10, 'tfidf__ngram_range': (1, 1)}   \n",
       "16   {'rf__max_depth': 100, 'rf__n_estimators': 10, 'tfidf__ngram_range': (1, 1)}   \n",
       "\n",
       "    cv score (mean)  cv score (std)  \n",
       "22         0.984776        0.001923  \n",
       "7          0.984328        0.002985  \n",
       "6          0.983881        0.001012  \n",
       "23         0.983731        0.002283  \n",
       "31         0.983582        0.002909  \n",
       "14         0.983134        0.002036  \n",
       "30         0.982687        0.001447  \n",
       "15         0.982239        0.003284  \n",
       "29         0.981791        0.001384  \n",
       "5          0.981493        0.001852  \n",
       "21         0.981194        0.003073  \n",
       "12         0.980597        0.003404  \n",
       "13         0.980448        0.003513  \n",
       "20         0.980000        0.002379  \n",
       "28         0.979851        0.003746  \n",
       "4          0.979254        0.003607  \n",
       "19         0.972239        0.005451  \n",
       "27         0.971045        0.002559  \n",
       "3          0.969552        0.003638  \n",
       "11         0.969104        0.004468  \n",
       "2          0.967313        0.005451  \n",
       "26         0.967015        0.005672  \n",
       "18         0.966866        0.006128  \n",
       "10         0.964030        0.009780  \n",
       "9          0.935224        0.009071  \n",
       "25         0.932985        0.007903  \n",
       "17         0.931791        0.007678  \n",
       "1          0.931343        0.012857  \n",
       "0          0.928060        0.008291  \n",
       "24         0.924328        0.013263  \n",
       "8          0.920597        0.009680  \n",
       "16         0.920299        0.008923  "
      ]
     },
     "execution_count": 28,
     "metadata": {},
     "output_type": "execute_result"
    }
   ],
   "source": [
    "rf_results = gs_rf.cv_results_\n",
    "results_df = pd.DataFrame({'rank': rf_results['rank_test_score'],\n",
    "                           'params': rf_results['params'], \n",
    "                           'cv score (mean)': rf_results['mean_test_score'], \n",
    "                           'cv score (std)': rf_results['std_test_score']} \n",
    "              )\n",
    "results_df = results_df.sort_values(by=['rank'], ascending=True)\n",
    "pd.set_option('display.max_colwidth', 100)\n",
    "results_df"
   ]
  },
  {
   "cell_type": "code",
   "execution_count": 29,
   "metadata": {},
   "outputs": [
    {
     "name": "stdout",
     "output_type": "stream",
     "text": [
      "Test Accuracy : 0.9821212121212122\n"
     ]
    }
   ],
   "source": [
    "best_rf_test_score = gs_rf.score(test_corpus, test_label_names)\n",
    "print('Test Accuracy :', best_rf_test_score)"
   ]
  },
  {
   "cell_type": "code",
   "execution_count": 30,
   "metadata": {},
   "outputs": [
    {
     "name": "stdout",
     "output_type": "stream",
     "text": [
      "{'rf__max_depth': 100, 'rf__n_estimators': 100, 'tfidf__ngram_range': (1, 1)} 0.984776119402985 0.001922999809958955 0.9821212121212122\n"
     ]
    }
   ],
   "source": [
    "rf_param = results_df.iloc[0]['params']\n",
    "rf_cvmean = results_df.iloc[0]['cv score (mean)']\n",
    "rf_cvstd = results_df.iloc[0]['cv score (std)']\n",
    "rf_acc = best_rf_test_score\n",
    "print(rf_param, rf_cvmean, rf_cvstd, rf_acc)"
   ]
  },
  {
   "cell_type": "markdown",
   "metadata": {},
   "source": [
    "### Gradient Boosted Machines"
   ]
  },
  {
   "cell_type": "code",
   "execution_count": 31,
   "metadata": {
    "scrolled": true
   },
   "outputs": [
    {
     "name": "stdout",
     "output_type": "stream",
     "text": [
      "Fitting 5 folds for each of 8 candidates, totalling 40 fits\n"
     ]
    },
    {
     "name": "stderr",
     "output_type": "stream",
     "text": [
      "[Parallel(n_jobs=-1)]: Using backend LokyBackend with 8 concurrent workers.\n",
      "[Parallel(n_jobs=-1)]: Done  25 tasks      | elapsed: 31.4min\n",
      "[Parallel(n_jobs=-1)]: Done  40 out of  40 | elapsed: 62.6min finished\n"
     ]
    }
   ],
   "source": [
    "from sklearn.pipeline import Pipeline\n",
    "from sklearn.model_selection import GridSearchCV\n",
    "\n",
    "gbm_pipeline = Pipeline([('tfidf', TfidfVectorizer()),\n",
    "                        ('gbm', GradientBoostingClassifier(random_state=42))\n",
    "                       ])\n",
    "\n",
    "param_grid = {'tfidf__ngram_range': [(1, 1), (1, 2)],\n",
    "              'gbm__min_samples_split': [2, 3],\n",
    "              'gbm__max_depth': [3, 4],\n",
    "}\n",
    "\n",
    "gbm_rf = GridSearchCV(gbm_pipeline, param_grid, cv=5, verbose=2, n_jobs=-1)\n",
    "gbm_rf = gbm_rf.fit(train_corpus, train_label_names)"
   ]
  },
  {
   "cell_type": "code",
   "execution_count": 32,
   "metadata": {},
   "outputs": [
    {
     "data": {
      "text/plain": [
       "{'memory': None,\n",
       " 'steps': [('tfidf', TfidfVectorizer(ngram_range=(1, 2))),\n",
       "  ('gbm', GradientBoostingClassifier(max_depth=4, random_state=42))],\n",
       " 'verbose': False,\n",
       " 'tfidf': TfidfVectorizer(ngram_range=(1, 2)),\n",
       " 'gbm': GradientBoostingClassifier(max_depth=4, random_state=42),\n",
       " 'tfidf__analyzer': 'word',\n",
       " 'tfidf__binary': False,\n",
       " 'tfidf__decode_error': 'strict',\n",
       " 'tfidf__dtype': numpy.float64,\n",
       " 'tfidf__encoding': 'utf-8',\n",
       " 'tfidf__input': 'content',\n",
       " 'tfidf__lowercase': True,\n",
       " 'tfidf__max_df': 1.0,\n",
       " 'tfidf__max_features': None,\n",
       " 'tfidf__min_df': 1,\n",
       " 'tfidf__ngram_range': (1, 2),\n",
       " 'tfidf__norm': 'l2',\n",
       " 'tfidf__preprocessor': None,\n",
       " 'tfidf__smooth_idf': True,\n",
       " 'tfidf__stop_words': None,\n",
       " 'tfidf__strip_accents': None,\n",
       " 'tfidf__sublinear_tf': False,\n",
       " 'tfidf__token_pattern': '(?u)\\\\b\\\\w\\\\w+\\\\b',\n",
       " 'tfidf__tokenizer': None,\n",
       " 'tfidf__use_idf': True,\n",
       " 'tfidf__vocabulary': None,\n",
       " 'gbm__ccp_alpha': 0.0,\n",
       " 'gbm__criterion': 'friedman_mse',\n",
       " 'gbm__init': None,\n",
       " 'gbm__learning_rate': 0.1,\n",
       " 'gbm__loss': 'deviance',\n",
       " 'gbm__max_depth': 4,\n",
       " 'gbm__max_features': None,\n",
       " 'gbm__max_leaf_nodes': None,\n",
       " 'gbm__min_impurity_decrease': 0.0,\n",
       " 'gbm__min_impurity_split': None,\n",
       " 'gbm__min_samples_leaf': 1,\n",
       " 'gbm__min_samples_split': 2,\n",
       " 'gbm__min_weight_fraction_leaf': 0.0,\n",
       " 'gbm__n_estimators': 100,\n",
       " 'gbm__n_iter_no_change': None,\n",
       " 'gbm__presort': 'deprecated',\n",
       " 'gbm__random_state': 42,\n",
       " 'gbm__subsample': 1.0,\n",
       " 'gbm__tol': 0.0001,\n",
       " 'gbm__validation_fraction': 0.1,\n",
       " 'gbm__verbose': 0,\n",
       " 'gbm__warm_start': False}"
      ]
     },
     "execution_count": 32,
     "metadata": {},
     "output_type": "execute_result"
    }
   ],
   "source": [
    "gbm_rf.best_estimator_.get_params()"
   ]
  },
  {
   "cell_type": "code",
   "execution_count": 33,
   "metadata": {},
   "outputs": [
    {
     "data": {
      "text/html": [
       "<div>\n",
       "<style scoped>\n",
       "    .dataframe tbody tr th:only-of-type {\n",
       "        vertical-align: middle;\n",
       "    }\n",
       "\n",
       "    .dataframe tbody tr th {\n",
       "        vertical-align: top;\n",
       "    }\n",
       "\n",
       "    .dataframe thead th {\n",
       "        text-align: right;\n",
       "    }\n",
       "</style>\n",
       "<table border=\"1\" class=\"dataframe\">\n",
       "  <thead>\n",
       "    <tr style=\"text-align: right;\">\n",
       "      <th></th>\n",
       "      <th>rank</th>\n",
       "      <th>params</th>\n",
       "      <th>cv score (mean)</th>\n",
       "      <th>cv score (std)</th>\n",
       "    </tr>\n",
       "  </thead>\n",
       "  <tbody>\n",
       "    <tr>\n",
       "      <th>5</th>\n",
       "      <td>1</td>\n",
       "      <td>{'gbm__max_depth': 4, 'gbm__min_samples_split': 2, 'tfidf__ngram_range': (1, 2)}</td>\n",
       "      <td>0.981194</td>\n",
       "      <td>0.004179</td>\n",
       "    </tr>\n",
       "    <tr>\n",
       "      <th>2</th>\n",
       "      <td>2</td>\n",
       "      <td>{'gbm__max_depth': 3, 'gbm__min_samples_split': 3, 'tfidf__ngram_range': (1, 1)}</td>\n",
       "      <td>0.980746</td>\n",
       "      <td>0.003351</td>\n",
       "    </tr>\n",
       "    <tr>\n",
       "      <th>0</th>\n",
       "      <td>3</td>\n",
       "      <td>{'gbm__max_depth': 3, 'gbm__min_samples_split': 2, 'tfidf__ngram_range': (1, 1)}</td>\n",
       "      <td>0.980597</td>\n",
       "      <td>0.003776</td>\n",
       "    </tr>\n",
       "    <tr>\n",
       "      <th>7</th>\n",
       "      <td>3</td>\n",
       "      <td>{'gbm__max_depth': 4, 'gbm__min_samples_split': 3, 'tfidf__ngram_range': (1, 2)}</td>\n",
       "      <td>0.980597</td>\n",
       "      <td>0.005277</td>\n",
       "    </tr>\n",
       "    <tr>\n",
       "      <th>1</th>\n",
       "      <td>5</td>\n",
       "      <td>{'gbm__max_depth': 3, 'gbm__min_samples_split': 2, 'tfidf__ngram_range': (1, 2)}</td>\n",
       "      <td>0.980149</td>\n",
       "      <td>0.005183</td>\n",
       "    </tr>\n",
       "    <tr>\n",
       "      <th>4</th>\n",
       "      <td>6</td>\n",
       "      <td>{'gbm__max_depth': 4, 'gbm__min_samples_split': 2, 'tfidf__ngram_range': (1, 1)}</td>\n",
       "      <td>0.980000</td>\n",
       "      <td>0.003215</td>\n",
       "    </tr>\n",
       "    <tr>\n",
       "      <th>6</th>\n",
       "      <td>7</td>\n",
       "      <td>{'gbm__max_depth': 4, 'gbm__min_samples_split': 3, 'tfidf__ngram_range': (1, 1)}</td>\n",
       "      <td>0.979701</td>\n",
       "      <td>0.003576</td>\n",
       "    </tr>\n",
       "    <tr>\n",
       "      <th>3</th>\n",
       "      <td>8</td>\n",
       "      <td>{'gbm__max_depth': 3, 'gbm__min_samples_split': 3, 'tfidf__ngram_range': (1, 2)}</td>\n",
       "      <td>0.979552</td>\n",
       "      <td>0.005226</td>\n",
       "    </tr>\n",
       "  </tbody>\n",
       "</table>\n",
       "</div>"
      ],
      "text/plain": [
       "   rank  \\\n",
       "5     1   \n",
       "2     2   \n",
       "0     3   \n",
       "7     3   \n",
       "1     5   \n",
       "4     6   \n",
       "6     7   \n",
       "3     8   \n",
       "\n",
       "                                                                             params  \\\n",
       "5  {'gbm__max_depth': 4, 'gbm__min_samples_split': 2, 'tfidf__ngram_range': (1, 2)}   \n",
       "2  {'gbm__max_depth': 3, 'gbm__min_samples_split': 3, 'tfidf__ngram_range': (1, 1)}   \n",
       "0  {'gbm__max_depth': 3, 'gbm__min_samples_split': 2, 'tfidf__ngram_range': (1, 1)}   \n",
       "7  {'gbm__max_depth': 4, 'gbm__min_samples_split': 3, 'tfidf__ngram_range': (1, 2)}   \n",
       "1  {'gbm__max_depth': 3, 'gbm__min_samples_split': 2, 'tfidf__ngram_range': (1, 2)}   \n",
       "4  {'gbm__max_depth': 4, 'gbm__min_samples_split': 2, 'tfidf__ngram_range': (1, 1)}   \n",
       "6  {'gbm__max_depth': 4, 'gbm__min_samples_split': 3, 'tfidf__ngram_range': (1, 1)}   \n",
       "3  {'gbm__max_depth': 3, 'gbm__min_samples_split': 3, 'tfidf__ngram_range': (1, 2)}   \n",
       "\n",
       "   cv score (mean)  cv score (std)  \n",
       "5         0.981194        0.004179  \n",
       "2         0.980746        0.003351  \n",
       "0         0.980597        0.003776  \n",
       "7         0.980597        0.005277  \n",
       "1         0.980149        0.005183  \n",
       "4         0.980000        0.003215  \n",
       "6         0.979701        0.003576  \n",
       "3         0.979552        0.005226  "
      ]
     },
     "execution_count": 33,
     "metadata": {},
     "output_type": "execute_result"
    }
   ],
   "source": [
    "gbm_results = gbm_rf.cv_results_\n",
    "results_df = pd.DataFrame({'rank': gbm_results['rank_test_score'],\n",
    "                           'params': gbm_results['params'], \n",
    "                           'cv score (mean)': gbm_results['mean_test_score'], \n",
    "                           'cv score (std)': gbm_results['std_test_score']} \n",
    "              )\n",
    "results_df = results_df.sort_values(by=['rank'], ascending=True)\n",
    "pd.set_option('display.max_colwidth', 100)\n",
    "results_df"
   ]
  },
  {
   "cell_type": "code",
   "execution_count": 34,
   "metadata": {},
   "outputs": [
    {
     "name": "stdout",
     "output_type": "stream",
     "text": [
      "Test Accuracy : 0.9815151515151516\n"
     ]
    }
   ],
   "source": [
    "best_gbm_test_score = gbm_rf.score(test_corpus, test_label_names)\n",
    "print('Test Accuracy :', best_gbm_test_score)"
   ]
  },
  {
   "cell_type": "code",
   "execution_count": 35,
   "metadata": {},
   "outputs": [
    {
     "name": "stdout",
     "output_type": "stream",
     "text": [
      "{'gbm__max_depth': 4, 'gbm__min_samples_split': 2, 'tfidf__ngram_range': (1, 2)} 0.9811940298507462 0.004179104477611924 0.9815151515151516\n"
     ]
    }
   ],
   "source": [
    "gbm_param = results_df.iloc[0]['params']\n",
    "gbm_cvmean = results_df.iloc[0]['cv score (mean)']\n",
    "gbm_cvstd = results_df.iloc[0]['cv score (std)']\n",
    "gbm_acc = best_gbm_test_score\n",
    "print(gbm_param, gbm_cvmean, gbm_cvstd, gbm_acc)"
   ]
  },
  {
   "cell_type": "code",
   "execution_count": 37,
   "metadata": {
    "scrolled": true
   },
   "outputs": [
    {
     "data": {
      "text/html": [
       "<div>\n",
       "<style scoped>\n",
       "    .dataframe tbody tr th:only-of-type {\n",
       "        vertical-align: middle;\n",
       "    }\n",
       "\n",
       "    .dataframe tbody tr th {\n",
       "        vertical-align: top;\n",
       "    }\n",
       "\n",
       "    .dataframe thead th {\n",
       "        text-align: right;\n",
       "    }\n",
       "</style>\n",
       "<table border=\"1\" class=\"dataframe\">\n",
       "  <thead>\n",
       "    <tr style=\"text-align: right;\">\n",
       "      <th></th>\n",
       "      <th>Model</th>\n",
       "      <th>Params</th>\n",
       "      <th>CV Score (Mean)</th>\n",
       "      <th>CV Score (Std)</th>\n",
       "      <th>Test Accuracy</th>\n",
       "    </tr>\n",
       "  </thead>\n",
       "  <tbody>\n",
       "    <tr>\n",
       "      <th>0</th>\n",
       "      <td>Naive Bayes</td>\n",
       "      <td>{'mnb__alpha': 1, 'tfidf__ngram_range': (1, 2)}</td>\n",
       "      <td>0.975821</td>\n",
       "      <td>0.001537</td>\n",
       "      <td>0.974545</td>\n",
       "    </tr>\n",
       "    <tr>\n",
       "      <th>1</th>\n",
       "      <td>Logistic Regression</td>\n",
       "      <td>{'lr__C': 10, 'tfidf__ngram_range': (1, 2)}</td>\n",
       "      <td>0.987463</td>\n",
       "      <td>0.001522</td>\n",
       "      <td>0.989091</td>\n",
       "    </tr>\n",
       "    <tr>\n",
       "      <th>2</th>\n",
       "      <td>Linear SVM</td>\n",
       "      <td>{'svm__C': 1, 'tfidf__ngram_range': (1, 2)}</td>\n",
       "      <td>0.988209</td>\n",
       "      <td>0.001969</td>\n",
       "      <td>0.988182</td>\n",
       "    </tr>\n",
       "    <tr>\n",
       "      <th>3</th>\n",
       "      <td>Linear SVM (SGD)</td>\n",
       "      <td>{'sgd__alpha': 1e-05, 'tfidf__ngram_range': (1, 2)}</td>\n",
       "      <td>0.988209</td>\n",
       "      <td>0.002471</td>\n",
       "      <td>0.987879</td>\n",
       "    </tr>\n",
       "    <tr>\n",
       "      <th>4</th>\n",
       "      <td>Random Forest</td>\n",
       "      <td>{'rf__max_depth': 100, 'rf__n_estimators': 100, 'tfidf__ngram_range': (1, 1)}</td>\n",
       "      <td>0.984776</td>\n",
       "      <td>0.001923</td>\n",
       "      <td>0.982121</td>\n",
       "    </tr>\n",
       "    <tr>\n",
       "      <th>5</th>\n",
       "      <td>Gradient Boosted Machines</td>\n",
       "      <td>{'gbm__max_depth': 4, 'gbm__min_samples_split': 2, 'tfidf__ngram_range': (1, 2)}</td>\n",
       "      <td>0.981194</td>\n",
       "      <td>0.004179</td>\n",
       "      <td>0.981515</td>\n",
       "    </tr>\n",
       "  </tbody>\n",
       "</table>\n",
       "</div>"
      ],
      "text/plain": [
       "                       Model  \\\n",
       "0                Naive Bayes   \n",
       "1        Logistic Regression   \n",
       "2                 Linear SVM   \n",
       "3           Linear SVM (SGD)   \n",
       "4              Random Forest   \n",
       "5  Gradient Boosted Machines   \n",
       "\n",
       "                                                                             Params  \\\n",
       "0                                   {'mnb__alpha': 1, 'tfidf__ngram_range': (1, 2)}   \n",
       "1                                       {'lr__C': 10, 'tfidf__ngram_range': (1, 2)}   \n",
       "2                                       {'svm__C': 1, 'tfidf__ngram_range': (1, 2)}   \n",
       "3                               {'sgd__alpha': 1e-05, 'tfidf__ngram_range': (1, 2)}   \n",
       "4     {'rf__max_depth': 100, 'rf__n_estimators': 100, 'tfidf__ngram_range': (1, 1)}   \n",
       "5  {'gbm__max_depth': 4, 'gbm__min_samples_split': 2, 'tfidf__ngram_range': (1, 2)}   \n",
       "\n",
       "   CV Score (Mean)  CV Score (Std)  Test Accuracy  \n",
       "0         0.975821        0.001537       0.974545  \n",
       "1         0.987463        0.001522       0.989091  \n",
       "2         0.988209        0.001969       0.988182  \n",
       "3         0.988209        0.002471       0.987879  \n",
       "4         0.984776        0.001923       0.982121  \n",
       "5         0.981194        0.004179       0.981515  "
      ]
     },
     "execution_count": 37,
     "metadata": {},
     "output_type": "execute_result"
    }
   ],
   "source": [
    "recap = pd.DataFrame([['Naive Bayes', \n",
    "               nb_param, nb_cvmean, nb_cvstd, nb_acc],\n",
    "              ['Logistic Regression', \n",
    "               lr_param, lr_cvmean, lr_cvstd, lr_acc],\n",
    "              ['Linear SVM', \n",
    "               svm_param, svm_cvmean, svm_cvstd, svm_acc],\n",
    "              ['Linear SVM (SGD)',  \n",
    "               sgd_param, sgd_cvmean, sgd_cvstd, sgd_acc],\n",
    "              ['Random Forest', \n",
    "               rf_param, rf_cvmean, rf_cvstd, rf_acc],\n",
    "              ['Gradient Boosted Machines', \n",
    "               gbm_param, gbm_cvmean, gbm_cvstd, gbm_acc]],\n",
    "             columns=['Model', 'Params', 'CV Score (Mean)', 'CV Score (Std)','Test Accuracy'],\n",
    "             )\n",
    "recap.to_csv('tuning_gridcv.csv',index=False)\n",
    "recap"
   ]
  },
  {
   "cell_type": "markdown",
   "metadata": {},
   "source": [
    "## Random Search CV"
   ]
  },
  {
   "cell_type": "code",
   "execution_count": 38,
   "metadata": {},
   "outputs": [],
   "source": [
    "from sklearn.model_selection import RandomizedSearchCV"
   ]
  },
  {
   "cell_type": "markdown",
   "metadata": {},
   "source": [
    "### Naive Bayes"
   ]
  },
  {
   "cell_type": "code",
   "execution_count": 39,
   "metadata": {},
   "outputs": [
    {
     "name": "stdout",
     "output_type": "stream",
     "text": [
      "Fitting 5 folds for each of 10 candidates, totalling 50 fits\n"
     ]
    },
    {
     "name": "stderr",
     "output_type": "stream",
     "text": [
      "[Parallel(n_jobs=-1)]: Using backend LokyBackend with 8 concurrent workers.\n",
      "[Parallel(n_jobs=-1)]: Done  25 tasks      | elapsed:   14.1s\n",
      "[Parallel(n_jobs=-1)]: Done  50 out of  50 | elapsed:   26.6s finished\n"
     ]
    }
   ],
   "source": [
    "mnb_pipeline = Pipeline([('tfidf', TfidfVectorizer()),\n",
    "                        ('mnb', MultinomialNB())\n",
    "                       ])\n",
    "\n",
    "param_grid = {'tfidf__ngram_range': [(1, 1), (1, 2)],\n",
    "              'mnb__alpha': [1e-5, 1e-4, 1e-2, 1e-1, 1]\n",
    "}\n",
    "\n",
    "gs_mnb = RandomizedSearchCV(mnb_pipeline, param_grid, cv=5, verbose=2, n_jobs=-1)\n",
    "gs_mnb = gs_mnb.fit(train_corpus, train_label_names)"
   ]
  },
  {
   "cell_type": "code",
   "execution_count": 40,
   "metadata": {},
   "outputs": [
    {
     "data": {
      "text/plain": [
       "{'memory': None,\n",
       " 'steps': [('tfidf', TfidfVectorizer(ngram_range=(1, 2))),\n",
       "  ('mnb', MultinomialNB(alpha=1))],\n",
       " 'verbose': False,\n",
       " 'tfidf': TfidfVectorizer(ngram_range=(1, 2)),\n",
       " 'mnb': MultinomialNB(alpha=1),\n",
       " 'tfidf__analyzer': 'word',\n",
       " 'tfidf__binary': False,\n",
       " 'tfidf__decode_error': 'strict',\n",
       " 'tfidf__dtype': numpy.float64,\n",
       " 'tfidf__encoding': 'utf-8',\n",
       " 'tfidf__input': 'content',\n",
       " 'tfidf__lowercase': True,\n",
       " 'tfidf__max_df': 1.0,\n",
       " 'tfidf__max_features': None,\n",
       " 'tfidf__min_df': 1,\n",
       " 'tfidf__ngram_range': (1, 2),\n",
       " 'tfidf__norm': 'l2',\n",
       " 'tfidf__preprocessor': None,\n",
       " 'tfidf__smooth_idf': True,\n",
       " 'tfidf__stop_words': None,\n",
       " 'tfidf__strip_accents': None,\n",
       " 'tfidf__sublinear_tf': False,\n",
       " 'tfidf__token_pattern': '(?u)\\\\b\\\\w\\\\w+\\\\b',\n",
       " 'tfidf__tokenizer': None,\n",
       " 'tfidf__use_idf': True,\n",
       " 'tfidf__vocabulary': None,\n",
       " 'mnb__alpha': 1,\n",
       " 'mnb__class_prior': None,\n",
       " 'mnb__fit_prior': True}"
      ]
     },
     "execution_count": 40,
     "metadata": {},
     "output_type": "execute_result"
    }
   ],
   "source": [
    "gs_mnb.best_estimator_.get_params()"
   ]
  },
  {
   "cell_type": "code",
   "execution_count": 41,
   "metadata": {},
   "outputs": [
    {
     "data": {
      "text/html": [
       "<div>\n",
       "<style scoped>\n",
       "    .dataframe tbody tr th:only-of-type {\n",
       "        vertical-align: middle;\n",
       "    }\n",
       "\n",
       "    .dataframe tbody tr th {\n",
       "        vertical-align: top;\n",
       "    }\n",
       "\n",
       "    .dataframe thead th {\n",
       "        text-align: right;\n",
       "    }\n",
       "</style>\n",
       "<table border=\"1\" class=\"dataframe\">\n",
       "  <thead>\n",
       "    <tr style=\"text-align: right;\">\n",
       "      <th></th>\n",
       "      <th>rank</th>\n",
       "      <th>params</th>\n",
       "      <th>cv score (mean)</th>\n",
       "      <th>cv score (std)</th>\n",
       "    </tr>\n",
       "  </thead>\n",
       "  <tbody>\n",
       "    <tr>\n",
       "      <th>9</th>\n",
       "      <td>1</td>\n",
       "      <td>{'tfidf__ngram_range': (1, 2), 'mnb__alpha': 1}</td>\n",
       "      <td>0.975821</td>\n",
       "      <td>0.001537</td>\n",
       "    </tr>\n",
       "    <tr>\n",
       "      <th>7</th>\n",
       "      <td>2</td>\n",
       "      <td>{'tfidf__ngram_range': (1, 2), 'mnb__alpha': 0.1}</td>\n",
       "      <td>0.953731</td>\n",
       "      <td>0.006026</td>\n",
       "    </tr>\n",
       "    <tr>\n",
       "      <th>8</th>\n",
       "      <td>3</td>\n",
       "      <td>{'tfidf__ngram_range': (1, 1), 'mnb__alpha': 1}</td>\n",
       "      <td>0.947015</td>\n",
       "      <td>0.004882</td>\n",
       "    </tr>\n",
       "    <tr>\n",
       "      <th>5</th>\n",
       "      <td>4</td>\n",
       "      <td>{'tfidf__ngram_range': (1, 2), 'mnb__alpha': 0.01}</td>\n",
       "      <td>0.928955</td>\n",
       "      <td>0.004959</td>\n",
       "    </tr>\n",
       "    <tr>\n",
       "      <th>6</th>\n",
       "      <td>5</td>\n",
       "      <td>{'tfidf__ngram_range': (1, 1), 'mnb__alpha': 0.1}</td>\n",
       "      <td>0.904627</td>\n",
       "      <td>0.008126</td>\n",
       "    </tr>\n",
       "    <tr>\n",
       "      <th>3</th>\n",
       "      <td>6</td>\n",
       "      <td>{'tfidf__ngram_range': (1, 2), 'mnb__alpha': 0.0001}</td>\n",
       "      <td>0.889851</td>\n",
       "      <td>0.008530</td>\n",
       "    </tr>\n",
       "    <tr>\n",
       "      <th>1</th>\n",
       "      <td>7</td>\n",
       "      <td>{'tfidf__ngram_range': (1, 2), 'mnb__alpha': 1e-05}</td>\n",
       "      <td>0.876716</td>\n",
       "      <td>0.007409</td>\n",
       "    </tr>\n",
       "    <tr>\n",
       "      <th>4</th>\n",
       "      <td>8</td>\n",
       "      <td>{'tfidf__ngram_range': (1, 1), 'mnb__alpha': 0.01}</td>\n",
       "      <td>0.865821</td>\n",
       "      <td>0.007718</td>\n",
       "    </tr>\n",
       "    <tr>\n",
       "      <th>2</th>\n",
       "      <td>9</td>\n",
       "      <td>{'tfidf__ngram_range': (1, 1), 'mnb__alpha': 0.0001}</td>\n",
       "      <td>0.808209</td>\n",
       "      <td>0.007048</td>\n",
       "    </tr>\n",
       "    <tr>\n",
       "      <th>0</th>\n",
       "      <td>10</td>\n",
       "      <td>{'tfidf__ngram_range': (1, 1), 'mnb__alpha': 1e-05}</td>\n",
       "      <td>0.784179</td>\n",
       "      <td>0.006895</td>\n",
       "    </tr>\n",
       "  </tbody>\n",
       "</table>\n",
       "</div>"
      ],
      "text/plain": [
       "   rank                                                params  \\\n",
       "9     1       {'tfidf__ngram_range': (1, 2), 'mnb__alpha': 1}   \n",
       "7     2     {'tfidf__ngram_range': (1, 2), 'mnb__alpha': 0.1}   \n",
       "8     3       {'tfidf__ngram_range': (1, 1), 'mnb__alpha': 1}   \n",
       "5     4    {'tfidf__ngram_range': (1, 2), 'mnb__alpha': 0.01}   \n",
       "6     5     {'tfidf__ngram_range': (1, 1), 'mnb__alpha': 0.1}   \n",
       "3     6  {'tfidf__ngram_range': (1, 2), 'mnb__alpha': 0.0001}   \n",
       "1     7   {'tfidf__ngram_range': (1, 2), 'mnb__alpha': 1e-05}   \n",
       "4     8    {'tfidf__ngram_range': (1, 1), 'mnb__alpha': 0.01}   \n",
       "2     9  {'tfidf__ngram_range': (1, 1), 'mnb__alpha': 0.0001}   \n",
       "0    10   {'tfidf__ngram_range': (1, 1), 'mnb__alpha': 1e-05}   \n",
       "\n",
       "   cv score (mean)  cv score (std)  \n",
       "9         0.975821        0.001537  \n",
       "7         0.953731        0.006026  \n",
       "8         0.947015        0.004882  \n",
       "5         0.928955        0.004959  \n",
       "6         0.904627        0.008126  \n",
       "3         0.889851        0.008530  \n",
       "1         0.876716        0.007409  \n",
       "4         0.865821        0.007718  \n",
       "2         0.808209        0.007048  \n",
       "0         0.784179        0.006895  "
      ]
     },
     "execution_count": 41,
     "metadata": {},
     "output_type": "execute_result"
    }
   ],
   "source": [
    "cv_results = gs_mnb.cv_results_\n",
    "results_df = pd.DataFrame({'rank': cv_results['rank_test_score'],\n",
    "                           'params': cv_results['params'], \n",
    "                           'cv score (mean)': cv_results['mean_test_score'], \n",
    "                           'cv score (std)': cv_results['std_test_score']} \n",
    "              )\n",
    "results_df = results_df.sort_values(by=['rank'], ascending=True)\n",
    "pd.set_option('display.max_colwidth', 100)\n",
    "results_df"
   ]
  },
  {
   "cell_type": "code",
   "execution_count": 42,
   "metadata": {},
   "outputs": [
    {
     "name": "stdout",
     "output_type": "stream",
     "text": [
      "Test Accuracy : 0.9745454545454545\n"
     ]
    }
   ],
   "source": [
    "best_mnb_test_score = gs_mnb.score(test_corpus, test_label_names)\n",
    "print('Test Accuracy :', best_mnb_test_score)"
   ]
  },
  {
   "cell_type": "code",
   "execution_count": 43,
   "metadata": {},
   "outputs": [
    {
     "name": "stdout",
     "output_type": "stream",
     "text": [
      "{'tfidf__ngram_range': (1, 2), 'mnb__alpha': 1} 0.975820895522388 0.0015366612150726777 0.9745454545454545\n"
     ]
    }
   ],
   "source": [
    "nb_param = results_df.iloc[0]['params']\n",
    "nb_cvmean = results_df.iloc[0]['cv score (mean)']\n",
    "nb_cvstd = results_df.iloc[0]['cv score (std)']\n",
    "nb_acc = best_mnb_test_score\n",
    "print(nb_param, nb_cvmean, nb_cvstd, nb_acc)"
   ]
  },
  {
   "cell_type": "markdown",
   "metadata": {},
   "source": [
    "### Linear Regression"
   ]
  },
  {
   "cell_type": "code",
   "execution_count": 44,
   "metadata": {},
   "outputs": [
    {
     "name": "stderr",
     "output_type": "stream",
     "text": [
      "C:\\ANACONDA\\envs\\jupyter\\lib\\site-packages\\sklearn\\model_selection\\_search.py:282: UserWarning: The total space of parameters 6 is smaller than n_iter=10. Running 6 iterations. For exhaustive searches, use GridSearchCV.\n",
      "  % (grid_size, self.n_iter, grid_size), UserWarning)\n",
      "[Parallel(n_jobs=-1)]: Using backend LokyBackend with 8 concurrent workers.\n"
     ]
    },
    {
     "name": "stdout",
     "output_type": "stream",
     "text": [
      "Fitting 5 folds for each of 6 candidates, totalling 30 fits\n"
     ]
    },
    {
     "name": "stderr",
     "output_type": "stream",
     "text": [
      "[Parallel(n_jobs=-1)]: Done  30 out of  30 | elapsed:  6.6min finished\n",
      "C:\\ANACONDA\\envs\\jupyter\\lib\\site-packages\\sklearn\\linear_model\\_logistic.py:764: ConvergenceWarning: lbfgs failed to converge (status=1):\n",
      "STOP: TOTAL NO. of ITERATIONS REACHED LIMIT.\n",
      "\n",
      "Increase the number of iterations (max_iter) or scale the data as shown in:\n",
      "    https://scikit-learn.org/stable/modules/preprocessing.html\n",
      "Please also refer to the documentation for alternative solver options:\n",
      "    https://scikit-learn.org/stable/modules/linear_model.html#logistic-regression\n",
      "  extra_warning_msg=_LOGISTIC_SOLVER_CONVERGENCE_MSG)\n"
     ]
    }
   ],
   "source": [
    "from sklearn.linear_model import LogisticRegression, SGDClassifier\n",
    "from sklearn.svm import LinearSVC\n",
    "from sklearn.pipeline import Pipeline\n",
    "\n",
    "lr_pipeline = Pipeline([('tfidf', TfidfVectorizer()),\n",
    "                        ('lr', LogisticRegression(penalty='l2', max_iter=100, random_state=42))\n",
    "                       ])\n",
    "\n",
    "param_grid = {'tfidf__ngram_range': [(1, 1), (1, 2)],\n",
    "              'lr__C': [1, 5, 10]\n",
    "}\n",
    "\n",
    "gs_lr = RandomizedSearchCV(lr_pipeline, param_grid, cv=5, verbose=2, n_jobs=-1)\n",
    "gs_lr = gs_lr.fit(train_corpus, train_label_names)"
   ]
  },
  {
   "cell_type": "code",
   "execution_count": 45,
   "metadata": {},
   "outputs": [
    {
     "data": {
      "text/plain": [
       "Pipeline(steps=[('tfidf', TfidfVectorizer(ngram_range=(1, 2))),\n",
       "                ('lr', LogisticRegression(C=10, random_state=42))])"
      ]
     },
     "execution_count": 45,
     "metadata": {},
     "output_type": "execute_result"
    }
   ],
   "source": [
    "gs_lr.best_estimator_"
   ]
  },
  {
   "cell_type": "code",
   "execution_count": 46,
   "metadata": {},
   "outputs": [
    {
     "data": {
      "text/html": [
       "<div>\n",
       "<style scoped>\n",
       "    .dataframe tbody tr th:only-of-type {\n",
       "        vertical-align: middle;\n",
       "    }\n",
       "\n",
       "    .dataframe tbody tr th {\n",
       "        vertical-align: top;\n",
       "    }\n",
       "\n",
       "    .dataframe thead th {\n",
       "        text-align: right;\n",
       "    }\n",
       "</style>\n",
       "<table border=\"1\" class=\"dataframe\">\n",
       "  <thead>\n",
       "    <tr style=\"text-align: right;\">\n",
       "      <th></th>\n",
       "      <th>rank</th>\n",
       "      <th>params</th>\n",
       "      <th>cv score (mean)</th>\n",
       "      <th>cv score (std)</th>\n",
       "    </tr>\n",
       "  </thead>\n",
       "  <tbody>\n",
       "    <tr>\n",
       "      <th>5</th>\n",
       "      <td>1</td>\n",
       "      <td>{'tfidf__ngram_range': (1, 2), 'lr__C': 10}</td>\n",
       "      <td>0.987463</td>\n",
       "      <td>0.001522</td>\n",
       "    </tr>\n",
       "    <tr>\n",
       "      <th>3</th>\n",
       "      <td>2</td>\n",
       "      <td>{'tfidf__ngram_range': (1, 2), 'lr__C': 5}</td>\n",
       "      <td>0.987164</td>\n",
       "      <td>0.001194</td>\n",
       "    </tr>\n",
       "    <tr>\n",
       "      <th>1</th>\n",
       "      <td>3</td>\n",
       "      <td>{'tfidf__ngram_range': (1, 2), 'lr__C': 1}</td>\n",
       "      <td>0.987164</td>\n",
       "      <td>0.001447</td>\n",
       "    </tr>\n",
       "    <tr>\n",
       "      <th>4</th>\n",
       "      <td>4</td>\n",
       "      <td>{'tfidf__ngram_range': (1, 1), 'lr__C': 10}</td>\n",
       "      <td>0.985821</td>\n",
       "      <td>0.002670</td>\n",
       "    </tr>\n",
       "    <tr>\n",
       "      <th>2</th>\n",
       "      <td>5</td>\n",
       "      <td>{'tfidf__ngram_range': (1, 1), 'lr__C': 5}</td>\n",
       "      <td>0.985522</td>\n",
       "      <td>0.002341</td>\n",
       "    </tr>\n",
       "    <tr>\n",
       "      <th>0</th>\n",
       "      <td>6</td>\n",
       "      <td>{'tfidf__ngram_range': (1, 1), 'lr__C': 1}</td>\n",
       "      <td>0.985224</td>\n",
       "      <td>0.002132</td>\n",
       "    </tr>\n",
       "  </tbody>\n",
       "</table>\n",
       "</div>"
      ],
      "text/plain": [
       "   rank                                       params  cv score (mean)  \\\n",
       "5     1  {'tfidf__ngram_range': (1, 2), 'lr__C': 10}         0.987463   \n",
       "3     2   {'tfidf__ngram_range': (1, 2), 'lr__C': 5}         0.987164   \n",
       "1     3   {'tfidf__ngram_range': (1, 2), 'lr__C': 1}         0.987164   \n",
       "4     4  {'tfidf__ngram_range': (1, 1), 'lr__C': 10}         0.985821   \n",
       "2     5   {'tfidf__ngram_range': (1, 1), 'lr__C': 5}         0.985522   \n",
       "0     6   {'tfidf__ngram_range': (1, 1), 'lr__C': 1}         0.985224   \n",
       "\n",
       "   cv score (std)  \n",
       "5        0.001522  \n",
       "3        0.001194  \n",
       "1        0.001447  \n",
       "4        0.002670  \n",
       "2        0.002341  \n",
       "0        0.002132  "
      ]
     },
     "execution_count": 46,
     "metadata": {},
     "output_type": "execute_result"
    }
   ],
   "source": [
    "lr_results = gs_lr.cv_results_\n",
    "results_df = pd.DataFrame({'rank': lr_results['rank_test_score'],\n",
    "                           'params': lr_results['params'], \n",
    "                           'cv score (mean)': lr_results['mean_test_score'], \n",
    "                           'cv score (std)': lr_results['std_test_score']} \n",
    "              )\n",
    "results_df = results_df.sort_values(by=['rank'], ascending=True)\n",
    "pd.set_option('display.max_colwidth', 100)\n",
    "results_df"
   ]
  },
  {
   "cell_type": "code",
   "execution_count": 47,
   "metadata": {},
   "outputs": [
    {
     "name": "stdout",
     "output_type": "stream",
     "text": [
      "Test Accuracy : 0.9890909090909091\n"
     ]
    }
   ],
   "source": [
    "best_lr_test_score = gs_lr.score(test_corpus, test_label_names)\n",
    "print('Test Accuracy :', best_lr_test_score)"
   ]
  },
  {
   "cell_type": "code",
   "execution_count": 48,
   "metadata": {},
   "outputs": [
    {
     "name": "stdout",
     "output_type": "stream",
     "text": [
      "{'tfidf__ngram_range': (1, 2), 'lr__C': 10} 0.9874626865671642 0.00152209537719187 0.9890909090909091\n"
     ]
    }
   ],
   "source": [
    "lr_param = results_df.iloc[0]['params']\n",
    "lr_cvmean = results_df.iloc[0]['cv score (mean)']\n",
    "lr_cvstd = results_df.iloc[0]['cv score (std)']\n",
    "lr_acc = best_lr_test_score\n",
    "print(lr_param, lr_cvmean, lr_cvstd, lr_acc)"
   ]
  },
  {
   "cell_type": "markdown",
   "metadata": {},
   "source": [
    "### Linear SVM"
   ]
  },
  {
   "cell_type": "code",
   "execution_count": 61,
   "metadata": {},
   "outputs": [
    {
     "name": "stderr",
     "output_type": "stream",
     "text": [
      "C:\\ANACONDA\\envs\\jupyter\\lib\\site-packages\\sklearn\\model_selection\\_search.py:282: UserWarning: The total space of parameters 8 is smaller than n_iter=10. Running 8 iterations. For exhaustive searches, use GridSearchCV.\n",
      "  % (grid_size, self.n_iter, grid_size), UserWarning)\n",
      "[Parallel(n_jobs=-1)]: Using backend LokyBackend with 8 concurrent workers.\n"
     ]
    },
    {
     "name": "stdout",
     "output_type": "stream",
     "text": [
      "Fitting 5 folds for each of 8 candidates, totalling 40 fits\n"
     ]
    },
    {
     "name": "stderr",
     "output_type": "stream",
     "text": [
      "[Parallel(n_jobs=-1)]: Done  25 tasks      | elapsed:   18.7s\n",
      "[Parallel(n_jobs=-1)]: Done  40 out of  40 | elapsed:   37.3s finished\n"
     ]
    }
   ],
   "source": [
    "from sklearn.pipeline import Pipeline\n",
    "\n",
    "svm_pipeline = Pipeline([('tfidf', TfidfVectorizer()),\n",
    "                        ('svm', LinearSVC(random_state=42))\n",
    "                       ])\n",
    "\n",
    "param_grid = {'tfidf__ngram_range': [(1, 1), (1, 2)],\n",
    "              'svm__C': [0.01, 0.1, 1, 5]\n",
    "}\n",
    "\n",
    "gs_svm = RandomizedSearchCV(svm_pipeline, param_grid, cv=5, verbose=2, n_jobs=-1)\n",
    "gs_svm = gs_svm.fit(train_corpus, train_label_names)"
   ]
  },
  {
   "cell_type": "code",
   "execution_count": 62,
   "metadata": {},
   "outputs": [
    {
     "data": {
      "text/plain": [
       "{'memory': None,\n",
       " 'steps': [('tfidf', TfidfVectorizer(ngram_range=(1, 2))),\n",
       "  ('svm', LinearSVC(C=1, random_state=42))],\n",
       " 'verbose': False,\n",
       " 'tfidf': TfidfVectorizer(ngram_range=(1, 2)),\n",
       " 'svm': LinearSVC(C=1, random_state=42),\n",
       " 'tfidf__analyzer': 'word',\n",
       " 'tfidf__binary': False,\n",
       " 'tfidf__decode_error': 'strict',\n",
       " 'tfidf__dtype': numpy.float64,\n",
       " 'tfidf__encoding': 'utf-8',\n",
       " 'tfidf__input': 'content',\n",
       " 'tfidf__lowercase': True,\n",
       " 'tfidf__max_df': 1.0,\n",
       " 'tfidf__max_features': None,\n",
       " 'tfidf__min_df': 1,\n",
       " 'tfidf__ngram_range': (1, 2),\n",
       " 'tfidf__norm': 'l2',\n",
       " 'tfidf__preprocessor': None,\n",
       " 'tfidf__smooth_idf': True,\n",
       " 'tfidf__stop_words': None,\n",
       " 'tfidf__strip_accents': None,\n",
       " 'tfidf__sublinear_tf': False,\n",
       " 'tfidf__token_pattern': '(?u)\\\\b\\\\w\\\\w+\\\\b',\n",
       " 'tfidf__tokenizer': None,\n",
       " 'tfidf__use_idf': True,\n",
       " 'tfidf__vocabulary': None,\n",
       " 'svm__C': 1,\n",
       " 'svm__class_weight': None,\n",
       " 'svm__dual': True,\n",
       " 'svm__fit_intercept': True,\n",
       " 'svm__intercept_scaling': 1,\n",
       " 'svm__loss': 'squared_hinge',\n",
       " 'svm__max_iter': 1000,\n",
       " 'svm__multi_class': 'ovr',\n",
       " 'svm__penalty': 'l2',\n",
       " 'svm__random_state': 42,\n",
       " 'svm__tol': 0.0001,\n",
       " 'svm__verbose': 0}"
      ]
     },
     "execution_count": 62,
     "metadata": {},
     "output_type": "execute_result"
    }
   ],
   "source": [
    "gs_svm.best_estimator_.get_params()"
   ]
  },
  {
   "cell_type": "code",
   "execution_count": 63,
   "metadata": {},
   "outputs": [
    {
     "data": {
      "text/html": [
       "<div>\n",
       "<style scoped>\n",
       "    .dataframe tbody tr th:only-of-type {\n",
       "        vertical-align: middle;\n",
       "    }\n",
       "\n",
       "    .dataframe tbody tr th {\n",
       "        vertical-align: top;\n",
       "    }\n",
       "\n",
       "    .dataframe thead th {\n",
       "        text-align: right;\n",
       "    }\n",
       "</style>\n",
       "<table border=\"1\" class=\"dataframe\">\n",
       "  <thead>\n",
       "    <tr style=\"text-align: right;\">\n",
       "      <th></th>\n",
       "      <th>rank</th>\n",
       "      <th>params</th>\n",
       "      <th>cv score (mean)</th>\n",
       "      <th>cv score (std)</th>\n",
       "    </tr>\n",
       "  </thead>\n",
       "  <tbody>\n",
       "    <tr>\n",
       "      <th>5</th>\n",
       "      <td>1</td>\n",
       "      <td>{'tfidf__ngram_range': (1, 2), 'svm__C': 1}</td>\n",
       "      <td>0.988209</td>\n",
       "      <td>0.001969</td>\n",
       "    </tr>\n",
       "    <tr>\n",
       "      <th>7</th>\n",
       "      <td>2</td>\n",
       "      <td>{'tfidf__ngram_range': (1, 2), 'svm__C': 5}</td>\n",
       "      <td>0.987910</td>\n",
       "      <td>0.001969</td>\n",
       "    </tr>\n",
       "    <tr>\n",
       "      <th>3</th>\n",
       "      <td>3</td>\n",
       "      <td>{'tfidf__ngram_range': (1, 2), 'svm__C': 0.1}</td>\n",
       "      <td>0.986866</td>\n",
       "      <td>0.002244</td>\n",
       "    </tr>\n",
       "    <tr>\n",
       "      <th>2</th>\n",
       "      <td>4</td>\n",
       "      <td>{'tfidf__ngram_range': (1, 1), 'svm__C': 0.1}</td>\n",
       "      <td>0.986119</td>\n",
       "      <td>0.001301</td>\n",
       "    </tr>\n",
       "    <tr>\n",
       "      <th>4</th>\n",
       "      <td>5</td>\n",
       "      <td>{'tfidf__ngram_range': (1, 1), 'svm__C': 1}</td>\n",
       "      <td>0.986119</td>\n",
       "      <td>0.001741</td>\n",
       "    </tr>\n",
       "    <tr>\n",
       "      <th>6</th>\n",
       "      <td>6</td>\n",
       "      <td>{'tfidf__ngram_range': (1, 1), 'svm__C': 5}</td>\n",
       "      <td>0.985672</td>\n",
       "      <td>0.002379</td>\n",
       "    </tr>\n",
       "    <tr>\n",
       "      <th>1</th>\n",
       "      <td>7</td>\n",
       "      <td>{'tfidf__ngram_range': (1, 2), 'svm__C': 0.01}</td>\n",
       "      <td>0.983881</td>\n",
       "      <td>0.002695</td>\n",
       "    </tr>\n",
       "    <tr>\n",
       "      <th>0</th>\n",
       "      <td>8</td>\n",
       "      <td>{'tfidf__ngram_range': (1, 1), 'svm__C': 0.01}</td>\n",
       "      <td>0.982388</td>\n",
       "      <td>0.003007</td>\n",
       "    </tr>\n",
       "  </tbody>\n",
       "</table>\n",
       "</div>"
      ],
      "text/plain": [
       "   rank                                          params  cv score (mean)  \\\n",
       "5     1     {'tfidf__ngram_range': (1, 2), 'svm__C': 1}         0.988209   \n",
       "7     2     {'tfidf__ngram_range': (1, 2), 'svm__C': 5}         0.987910   \n",
       "3     3   {'tfidf__ngram_range': (1, 2), 'svm__C': 0.1}         0.986866   \n",
       "2     4   {'tfidf__ngram_range': (1, 1), 'svm__C': 0.1}         0.986119   \n",
       "4     5     {'tfidf__ngram_range': (1, 1), 'svm__C': 1}         0.986119   \n",
       "6     6     {'tfidf__ngram_range': (1, 1), 'svm__C': 5}         0.985672   \n",
       "1     7  {'tfidf__ngram_range': (1, 2), 'svm__C': 0.01}         0.983881   \n",
       "0     8  {'tfidf__ngram_range': (1, 1), 'svm__C': 0.01}         0.982388   \n",
       "\n",
       "   cv score (std)  \n",
       "5        0.001969  \n",
       "7        0.001969  \n",
       "3        0.002244  \n",
       "2        0.001301  \n",
       "4        0.001741  \n",
       "6        0.002379  \n",
       "1        0.002695  \n",
       "0        0.003007  "
      ]
     },
     "execution_count": 63,
     "metadata": {},
     "output_type": "execute_result"
    }
   ],
   "source": [
    "svm_results = gs_svm.cv_results_\n",
    "results_df = pd.DataFrame({'rank': svm_results['rank_test_score'],\n",
    "                           'params': svm_results['params'], \n",
    "                           'cv score (mean)': svm_results['mean_test_score'], \n",
    "                           'cv score (std)': svm_results['std_test_score']} \n",
    "              )\n",
    "results_df = results_df.sort_values(by=['rank'], ascending=True)\n",
    "pd.set_option('display.max_colwidth', 100)\n",
    "results_df"
   ]
  },
  {
   "cell_type": "code",
   "execution_count": 64,
   "metadata": {},
   "outputs": [
    {
     "name": "stdout",
     "output_type": "stream",
     "text": [
      "Test Accuracy : 0.9881818181818182\n"
     ]
    }
   ],
   "source": [
    "best_svm_test_score = gs_svm.score(test_corpus, test_label_names)\n",
    "print('Test Accuracy :', best_svm_test_score)"
   ]
  },
  {
   "cell_type": "code",
   "execution_count": 65,
   "metadata": {},
   "outputs": [
    {
     "name": "stdout",
     "output_type": "stream",
     "text": [
      "{'tfidf__ngram_range': (1, 2), 'svm__C': 1} 0.9882089552238806 0.0019687919340706014 0.9881818181818182\n"
     ]
    }
   ],
   "source": [
    "svm_param = results_df.iloc[0]['params']\n",
    "svm_cvmean = results_df.iloc[0]['cv score (mean)']\n",
    "svm_cvstd = results_df.iloc[0]['cv score (std)']\n",
    "svm_acc = best_svm_test_score\n",
    "print(svm_param, svm_cvmean, svm_cvstd, svm_acc)"
   ]
  },
  {
   "cell_type": "markdown",
   "metadata": {},
   "source": [
    "### SGD"
   ]
  },
  {
   "cell_type": "code",
   "execution_count": 66,
   "metadata": {},
   "outputs": [
    {
     "name": "stdout",
     "output_type": "stream",
     "text": [
      "Fitting 5 folds for each of 8 candidates, totalling 40 fits\n"
     ]
    },
    {
     "name": "stderr",
     "output_type": "stream",
     "text": [
      "C:\\ANACONDA\\envs\\jupyter\\lib\\site-packages\\sklearn\\model_selection\\_search.py:282: UserWarning: The total space of parameters 8 is smaller than n_iter=10. Running 8 iterations. For exhaustive searches, use GridSearchCV.\n",
      "  % (grid_size, self.n_iter, grid_size), UserWarning)\n",
      "[Parallel(n_jobs=-1)]: Using backend LokyBackend with 8 concurrent workers.\n",
      "[Parallel(n_jobs=-1)]: Done  25 tasks      | elapsed:   12.6s\n",
      "[Parallel(n_jobs=-1)]: Done  40 out of  40 | elapsed:   21.8s finished\n"
     ]
    }
   ],
   "source": [
    "from sklearn.pipeline import Pipeline\n",
    "# from sklearn.model_selection import GridSearchCV\n",
    "\n",
    "sgd_pipeline = Pipeline([('tfidf', TfidfVectorizer()),\n",
    "                        ('sgd', SGDClassifier(random_state=42))\n",
    "                       ])\n",
    "\n",
    "param_grid = {'tfidf__ngram_range': [(1, 1), (1, 2)],\n",
    "              'sgd__alpha': [1e-7, 1e-6, 1e-5, 1e-4]\n",
    "}\n",
    "\n",
    "gs_sgd = RandomizedSearchCV(sgd_pipeline, param_grid, cv=5, verbose=2, n_jobs=-1)\n",
    "gs_sgd = gs_sgd.fit(train_corpus, train_label_names)"
   ]
  },
  {
   "cell_type": "code",
   "execution_count": 67,
   "metadata": {},
   "outputs": [
    {
     "data": {
      "text/plain": [
       "{'memory': None,\n",
       " 'steps': [('tfidf', TfidfVectorizer(ngram_range=(1, 2))),\n",
       "  ('sgd', SGDClassifier(alpha=1e-05, random_state=42))],\n",
       " 'verbose': False,\n",
       " 'tfidf': TfidfVectorizer(ngram_range=(1, 2)),\n",
       " 'sgd': SGDClassifier(alpha=1e-05, random_state=42),\n",
       " 'tfidf__analyzer': 'word',\n",
       " 'tfidf__binary': False,\n",
       " 'tfidf__decode_error': 'strict',\n",
       " 'tfidf__dtype': numpy.float64,\n",
       " 'tfidf__encoding': 'utf-8',\n",
       " 'tfidf__input': 'content',\n",
       " 'tfidf__lowercase': True,\n",
       " 'tfidf__max_df': 1.0,\n",
       " 'tfidf__max_features': None,\n",
       " 'tfidf__min_df': 1,\n",
       " 'tfidf__ngram_range': (1, 2),\n",
       " 'tfidf__norm': 'l2',\n",
       " 'tfidf__preprocessor': None,\n",
       " 'tfidf__smooth_idf': True,\n",
       " 'tfidf__stop_words': None,\n",
       " 'tfidf__strip_accents': None,\n",
       " 'tfidf__sublinear_tf': False,\n",
       " 'tfidf__token_pattern': '(?u)\\\\b\\\\w\\\\w+\\\\b',\n",
       " 'tfidf__tokenizer': None,\n",
       " 'tfidf__use_idf': True,\n",
       " 'tfidf__vocabulary': None,\n",
       " 'sgd__alpha': 1e-05,\n",
       " 'sgd__average': False,\n",
       " 'sgd__class_weight': None,\n",
       " 'sgd__early_stopping': False,\n",
       " 'sgd__epsilon': 0.1,\n",
       " 'sgd__eta0': 0.0,\n",
       " 'sgd__fit_intercept': True,\n",
       " 'sgd__l1_ratio': 0.15,\n",
       " 'sgd__learning_rate': 'optimal',\n",
       " 'sgd__loss': 'hinge',\n",
       " 'sgd__max_iter': 1000,\n",
       " 'sgd__n_iter_no_change': 5,\n",
       " 'sgd__n_jobs': None,\n",
       " 'sgd__penalty': 'l2',\n",
       " 'sgd__power_t': 0.5,\n",
       " 'sgd__random_state': 42,\n",
       " 'sgd__shuffle': True,\n",
       " 'sgd__tol': 0.001,\n",
       " 'sgd__validation_fraction': 0.1,\n",
       " 'sgd__verbose': 0,\n",
       " 'sgd__warm_start': False}"
      ]
     },
     "execution_count": 67,
     "metadata": {},
     "output_type": "execute_result"
    }
   ],
   "source": [
    "gs_sgd.best_estimator_.get_params()"
   ]
  },
  {
   "cell_type": "code",
   "execution_count": 68,
   "metadata": {},
   "outputs": [
    {
     "data": {
      "text/html": [
       "<div>\n",
       "<style scoped>\n",
       "    .dataframe tbody tr th:only-of-type {\n",
       "        vertical-align: middle;\n",
       "    }\n",
       "\n",
       "    .dataframe tbody tr th {\n",
       "        vertical-align: top;\n",
       "    }\n",
       "\n",
       "    .dataframe thead th {\n",
       "        text-align: right;\n",
       "    }\n",
       "</style>\n",
       "<table border=\"1\" class=\"dataframe\">\n",
       "  <thead>\n",
       "    <tr style=\"text-align: right;\">\n",
       "      <th></th>\n",
       "      <th>rank</th>\n",
       "      <th>params</th>\n",
       "      <th>cv score (mean)</th>\n",
       "      <th>cv score (std)</th>\n",
       "    </tr>\n",
       "  </thead>\n",
       "  <tbody>\n",
       "    <tr>\n",
       "      <th>5</th>\n",
       "      <td>1</td>\n",
       "      <td>{'tfidf__ngram_range': (1, 2), 'sgd__alpha': 1e-05}</td>\n",
       "      <td>0.988209</td>\n",
       "      <td>0.002471</td>\n",
       "    </tr>\n",
       "    <tr>\n",
       "      <th>7</th>\n",
       "      <td>2</td>\n",
       "      <td>{'tfidf__ngram_range': (1, 2), 'sgd__alpha': 0.0001}</td>\n",
       "      <td>0.987910</td>\n",
       "      <td>0.001594</td>\n",
       "    </tr>\n",
       "    <tr>\n",
       "      <th>6</th>\n",
       "      <td>3</td>\n",
       "      <td>{'tfidf__ngram_range': (1, 1), 'sgd__alpha': 0.0001}</td>\n",
       "      <td>0.986418</td>\n",
       "      <td>0.002559</td>\n",
       "    </tr>\n",
       "    <tr>\n",
       "      <th>3</th>\n",
       "      <td>4</td>\n",
       "      <td>{'tfidf__ngram_range': (1, 2), 'sgd__alpha': 1e-06}</td>\n",
       "      <td>0.985821</td>\n",
       "      <td>0.001335</td>\n",
       "    </tr>\n",
       "    <tr>\n",
       "      <th>4</th>\n",
       "      <td>5</td>\n",
       "      <td>{'tfidf__ngram_range': (1, 1), 'sgd__alpha': 1e-05}</td>\n",
       "      <td>0.985075</td>\n",
       "      <td>0.002792</td>\n",
       "    </tr>\n",
       "    <tr>\n",
       "      <th>1</th>\n",
       "      <td>6</td>\n",
       "      <td>{'tfidf__ngram_range': (1, 2), 'sgd__alpha': 1e-07}</td>\n",
       "      <td>0.983881</td>\n",
       "      <td>0.002568</td>\n",
       "    </tr>\n",
       "    <tr>\n",
       "      <th>2</th>\n",
       "      <td>7</td>\n",
       "      <td>{'tfidf__ngram_range': (1, 1), 'sgd__alpha': 1e-06}</td>\n",
       "      <td>0.982239</td>\n",
       "      <td>0.003576</td>\n",
       "    </tr>\n",
       "    <tr>\n",
       "      <th>0</th>\n",
       "      <td>8</td>\n",
       "      <td>{'tfidf__ngram_range': (1, 1), 'sgd__alpha': 1e-07}</td>\n",
       "      <td>0.977313</td>\n",
       "      <td>0.002611</td>\n",
       "    </tr>\n",
       "  </tbody>\n",
       "</table>\n",
       "</div>"
      ],
      "text/plain": [
       "   rank                                                params  \\\n",
       "5     1   {'tfidf__ngram_range': (1, 2), 'sgd__alpha': 1e-05}   \n",
       "7     2  {'tfidf__ngram_range': (1, 2), 'sgd__alpha': 0.0001}   \n",
       "6     3  {'tfidf__ngram_range': (1, 1), 'sgd__alpha': 0.0001}   \n",
       "3     4   {'tfidf__ngram_range': (1, 2), 'sgd__alpha': 1e-06}   \n",
       "4     5   {'tfidf__ngram_range': (1, 1), 'sgd__alpha': 1e-05}   \n",
       "1     6   {'tfidf__ngram_range': (1, 2), 'sgd__alpha': 1e-07}   \n",
       "2     7   {'tfidf__ngram_range': (1, 1), 'sgd__alpha': 1e-06}   \n",
       "0     8   {'tfidf__ngram_range': (1, 1), 'sgd__alpha': 1e-07}   \n",
       "\n",
       "   cv score (mean)  cv score (std)  \n",
       "5         0.988209        0.002471  \n",
       "7         0.987910        0.001594  \n",
       "6         0.986418        0.002559  \n",
       "3         0.985821        0.001335  \n",
       "4         0.985075        0.002792  \n",
       "1         0.983881        0.002568  \n",
       "2         0.982239        0.003576  \n",
       "0         0.977313        0.002611  "
      ]
     },
     "execution_count": 68,
     "metadata": {},
     "output_type": "execute_result"
    }
   ],
   "source": [
    "sgd_results = gs_sgd.cv_results_\n",
    "results_df = pd.DataFrame({'rank': sgd_results['rank_test_score'],\n",
    "                           'params': sgd_results['params'], \n",
    "                           'cv score (mean)': sgd_results['mean_test_score'], \n",
    "                           'cv score (std)': sgd_results['std_test_score']} \n",
    "              )\n",
    "results_df = results_df.sort_values(by=['rank'], ascending=True)\n",
    "pd.set_option('display.max_colwidth', 100)\n",
    "results_df"
   ]
  },
  {
   "cell_type": "code",
   "execution_count": 69,
   "metadata": {},
   "outputs": [
    {
     "name": "stdout",
     "output_type": "stream",
     "text": [
      "Test Accuracy : 0.9878787878787879\n"
     ]
    }
   ],
   "source": [
    "best_sgd_test_score = gs_sgd.score(test_corpus, test_label_names)\n",
    "print('Test Accuracy :', best_sgd_test_score)"
   ]
  },
  {
   "cell_type": "code",
   "execution_count": 70,
   "metadata": {},
   "outputs": [
    {
     "name": "stdout",
     "output_type": "stream",
     "text": [
      "{'tfidf__ngram_range': (1, 2), 'sgd__alpha': 1e-05} 0.9882089552238806 0.002470588859290571 0.9878787878787879\n"
     ]
    }
   ],
   "source": [
    "sgd_param = results_df.iloc[0]['params']\n",
    "sgd_cvmean = results_df.iloc[0]['cv score (mean)']\n",
    "sgd_cvstd = results_df.iloc[0]['cv score (std)']\n",
    "sgd_acc = best_sgd_test_score\n",
    "print(sgd_param, sgd_cvmean, sgd_cvstd, sgd_acc)"
   ]
  },
  {
   "cell_type": "markdown",
   "metadata": {},
   "source": [
    "### Random Forest"
   ]
  },
  {
   "cell_type": "code",
   "execution_count": 71,
   "metadata": {},
   "outputs": [
    {
     "name": "stdout",
     "output_type": "stream",
     "text": [
      "Fitting 5 folds for each of 10 candidates, totalling 50 fits\n"
     ]
    },
    {
     "name": "stderr",
     "output_type": "stream",
     "text": [
      "[Parallel(n_jobs=-1)]: Using backend LokyBackend with 8 concurrent workers.\n",
      "[Parallel(n_jobs=-1)]: Done  25 tasks      | elapsed:   42.3s\n",
      "[Parallel(n_jobs=-1)]: Done  50 out of  50 | elapsed:   59.4s finished\n"
     ]
    }
   ],
   "source": [
    "from sklearn.pipeline import Pipeline\n",
    "# from sklearn.model_selection import GridSearchCV\n",
    "\n",
    "rf_pipeline = Pipeline([('tfidf', TfidfVectorizer()),\n",
    "                        ('rf', RandomForestClassifier(random_state=42))\n",
    "                       ])\n",
    "\n",
    "param_grid = {'tfidf__ngram_range': [(1, 1), (1, 2)],\n",
    "              'rf__max_depth': [80, 90, 100, 110],\n",
    "              'rf__n_estimators': [10, 20, 50, 100]\n",
    "#               'rf__min_samples_leaf': [3, 4, 5],\n",
    "#               'rf__min_samples_split': [8, 10, 12],\n",
    "              \n",
    "              \n",
    "              \n",
    "}\n",
    "\n",
    "gs_rf = RandomizedSearchCV(rf_pipeline, param_grid, cv=5, verbose=2, n_jobs=-1)\n",
    "gs_rf = gs_rf.fit(train_corpus, train_label_names)"
   ]
  },
  {
   "cell_type": "code",
   "execution_count": 72,
   "metadata": {},
   "outputs": [
    {
     "data": {
      "text/plain": [
       "{'memory': None,\n",
       " 'steps': [('tfidf', TfidfVectorizer()),\n",
       "  ('rf', RandomForestClassifier(max_depth=100, random_state=42))],\n",
       " 'verbose': False,\n",
       " 'tfidf': TfidfVectorizer(),\n",
       " 'rf': RandomForestClassifier(max_depth=100, random_state=42),\n",
       " 'tfidf__analyzer': 'word',\n",
       " 'tfidf__binary': False,\n",
       " 'tfidf__decode_error': 'strict',\n",
       " 'tfidf__dtype': numpy.float64,\n",
       " 'tfidf__encoding': 'utf-8',\n",
       " 'tfidf__input': 'content',\n",
       " 'tfidf__lowercase': True,\n",
       " 'tfidf__max_df': 1.0,\n",
       " 'tfidf__max_features': None,\n",
       " 'tfidf__min_df': 1,\n",
       " 'tfidf__ngram_range': (1, 1),\n",
       " 'tfidf__norm': 'l2',\n",
       " 'tfidf__preprocessor': None,\n",
       " 'tfidf__smooth_idf': True,\n",
       " 'tfidf__stop_words': None,\n",
       " 'tfidf__strip_accents': None,\n",
       " 'tfidf__sublinear_tf': False,\n",
       " 'tfidf__token_pattern': '(?u)\\\\b\\\\w\\\\w+\\\\b',\n",
       " 'tfidf__tokenizer': None,\n",
       " 'tfidf__use_idf': True,\n",
       " 'tfidf__vocabulary': None,\n",
       " 'rf__bootstrap': True,\n",
       " 'rf__ccp_alpha': 0.0,\n",
       " 'rf__class_weight': None,\n",
       " 'rf__criterion': 'gini',\n",
       " 'rf__max_depth': 100,\n",
       " 'rf__max_features': 'auto',\n",
       " 'rf__max_leaf_nodes': None,\n",
       " 'rf__max_samples': None,\n",
       " 'rf__min_impurity_decrease': 0.0,\n",
       " 'rf__min_impurity_split': None,\n",
       " 'rf__min_samples_leaf': 1,\n",
       " 'rf__min_samples_split': 2,\n",
       " 'rf__min_weight_fraction_leaf': 0.0,\n",
       " 'rf__n_estimators': 100,\n",
       " 'rf__n_jobs': None,\n",
       " 'rf__oob_score': False,\n",
       " 'rf__random_state': 42,\n",
       " 'rf__verbose': 0,\n",
       " 'rf__warm_start': False}"
      ]
     },
     "execution_count": 72,
     "metadata": {},
     "output_type": "execute_result"
    }
   ],
   "source": [
    "gs_rf.best_estimator_.get_params()"
   ]
  },
  {
   "cell_type": "code",
   "execution_count": 73,
   "metadata": {},
   "outputs": [
    {
     "data": {
      "text/html": [
       "<div>\n",
       "<style scoped>\n",
       "    .dataframe tbody tr th:only-of-type {\n",
       "        vertical-align: middle;\n",
       "    }\n",
       "\n",
       "    .dataframe tbody tr th {\n",
       "        vertical-align: top;\n",
       "    }\n",
       "\n",
       "    .dataframe thead th {\n",
       "        text-align: right;\n",
       "    }\n",
       "</style>\n",
       "<table border=\"1\" class=\"dataframe\">\n",
       "  <thead>\n",
       "    <tr style=\"text-align: right;\">\n",
       "      <th></th>\n",
       "      <th>rank</th>\n",
       "      <th>params</th>\n",
       "      <th>cv score (mean)</th>\n",
       "      <th>cv score (std)</th>\n",
       "    </tr>\n",
       "  </thead>\n",
       "  <tbody>\n",
       "    <tr>\n",
       "      <th>4</th>\n",
       "      <td>1</td>\n",
       "      <td>{'tfidf__ngram_range': (1, 1), 'rf__n_estimators': 100, 'rf__max_depth': 100}</td>\n",
       "      <td>0.984776</td>\n",
       "      <td>0.001923</td>\n",
       "    </tr>\n",
       "    <tr>\n",
       "      <th>0</th>\n",
       "      <td>2</td>\n",
       "      <td>{'tfidf__ngram_range': (1, 1), 'rf__n_estimators': 100, 'rf__max_depth': 90}</td>\n",
       "      <td>0.983134</td>\n",
       "      <td>0.002036</td>\n",
       "    </tr>\n",
       "    <tr>\n",
       "      <th>3</th>\n",
       "      <td>3</td>\n",
       "      <td>{'tfidf__ngram_range': (1, 1), 'rf__n_estimators': 100, 'rf__max_depth': 110}</td>\n",
       "      <td>0.982687</td>\n",
       "      <td>0.001447</td>\n",
       "    </tr>\n",
       "    <tr>\n",
       "      <th>1</th>\n",
       "      <td>4</td>\n",
       "      <td>{'tfidf__ngram_range': (1, 2), 'rf__n_estimators': 50, 'rf__max_depth': 100}</td>\n",
       "      <td>0.981194</td>\n",
       "      <td>0.003073</td>\n",
       "    </tr>\n",
       "    <tr>\n",
       "      <th>7</th>\n",
       "      <td>5</td>\n",
       "      <td>{'tfidf__ngram_range': (1, 1), 'rf__n_estimators': 50, 'rf__max_depth': 100}</td>\n",
       "      <td>0.980000</td>\n",
       "      <td>0.002379</td>\n",
       "    </tr>\n",
       "    <tr>\n",
       "      <th>9</th>\n",
       "      <td>6</td>\n",
       "      <td>{'tfidf__ngram_range': (1, 1), 'rf__n_estimators': 50, 'rf__max_depth': 110}</td>\n",
       "      <td>0.979851</td>\n",
       "      <td>0.003746</td>\n",
       "    </tr>\n",
       "    <tr>\n",
       "      <th>2</th>\n",
       "      <td>7</td>\n",
       "      <td>{'tfidf__ngram_range': (1, 2), 'rf__n_estimators': 20, 'rf__max_depth': 80}</td>\n",
       "      <td>0.969552</td>\n",
       "      <td>0.003638</td>\n",
       "    </tr>\n",
       "    <tr>\n",
       "      <th>6</th>\n",
       "      <td>8</td>\n",
       "      <td>{'tfidf__ngram_range': (1, 1), 'rf__n_estimators': 20, 'rf__max_depth': 90}</td>\n",
       "      <td>0.964030</td>\n",
       "      <td>0.009780</td>\n",
       "    </tr>\n",
       "    <tr>\n",
       "      <th>8</th>\n",
       "      <td>9</td>\n",
       "      <td>{'tfidf__ngram_range': (1, 2), 'rf__n_estimators': 10, 'rf__max_depth': 100}</td>\n",
       "      <td>0.931791</td>\n",
       "      <td>0.007678</td>\n",
       "    </tr>\n",
       "    <tr>\n",
       "      <th>5</th>\n",
       "      <td>10</td>\n",
       "      <td>{'tfidf__ngram_range': (1, 1), 'rf__n_estimators': 10, 'rf__max_depth': 110}</td>\n",
       "      <td>0.924328</td>\n",
       "      <td>0.013263</td>\n",
       "    </tr>\n",
       "  </tbody>\n",
       "</table>\n",
       "</div>"
      ],
      "text/plain": [
       "   rank  \\\n",
       "4     1   \n",
       "0     2   \n",
       "3     3   \n",
       "1     4   \n",
       "7     5   \n",
       "9     6   \n",
       "2     7   \n",
       "6     8   \n",
       "8     9   \n",
       "5    10   \n",
       "\n",
       "                                                                          params  \\\n",
       "4  {'tfidf__ngram_range': (1, 1), 'rf__n_estimators': 100, 'rf__max_depth': 100}   \n",
       "0   {'tfidf__ngram_range': (1, 1), 'rf__n_estimators': 100, 'rf__max_depth': 90}   \n",
       "3  {'tfidf__ngram_range': (1, 1), 'rf__n_estimators': 100, 'rf__max_depth': 110}   \n",
       "1   {'tfidf__ngram_range': (1, 2), 'rf__n_estimators': 50, 'rf__max_depth': 100}   \n",
       "7   {'tfidf__ngram_range': (1, 1), 'rf__n_estimators': 50, 'rf__max_depth': 100}   \n",
       "9   {'tfidf__ngram_range': (1, 1), 'rf__n_estimators': 50, 'rf__max_depth': 110}   \n",
       "2    {'tfidf__ngram_range': (1, 2), 'rf__n_estimators': 20, 'rf__max_depth': 80}   \n",
       "6    {'tfidf__ngram_range': (1, 1), 'rf__n_estimators': 20, 'rf__max_depth': 90}   \n",
       "8   {'tfidf__ngram_range': (1, 2), 'rf__n_estimators': 10, 'rf__max_depth': 100}   \n",
       "5   {'tfidf__ngram_range': (1, 1), 'rf__n_estimators': 10, 'rf__max_depth': 110}   \n",
       "\n",
       "   cv score (mean)  cv score (std)  \n",
       "4         0.984776        0.001923  \n",
       "0         0.983134        0.002036  \n",
       "3         0.982687        0.001447  \n",
       "1         0.981194        0.003073  \n",
       "7         0.980000        0.002379  \n",
       "9         0.979851        0.003746  \n",
       "2         0.969552        0.003638  \n",
       "6         0.964030        0.009780  \n",
       "8         0.931791        0.007678  \n",
       "5         0.924328        0.013263  "
      ]
     },
     "execution_count": 73,
     "metadata": {},
     "output_type": "execute_result"
    }
   ],
   "source": [
    "rf_results = gs_rf.cv_results_\n",
    "results_df = pd.DataFrame({'rank': rf_results['rank_test_score'],\n",
    "                           'params': rf_results['params'], \n",
    "                           'cv score (mean)': rf_results['mean_test_score'], \n",
    "                           'cv score (std)': rf_results['std_test_score']} \n",
    "              )\n",
    "results_df = results_df.sort_values(by=['rank'], ascending=True)\n",
    "pd.set_option('display.max_colwidth', 100)\n",
    "results_df"
   ]
  },
  {
   "cell_type": "code",
   "execution_count": 74,
   "metadata": {},
   "outputs": [
    {
     "name": "stdout",
     "output_type": "stream",
     "text": [
      "Test Accuracy : 0.9821212121212122\n"
     ]
    }
   ],
   "source": [
    "best_rf_test_score = gs_rf.score(test_corpus, test_label_names)\n",
    "print('Test Accuracy :', best_rf_test_score)"
   ]
  },
  {
   "cell_type": "code",
   "execution_count": 75,
   "metadata": {},
   "outputs": [
    {
     "name": "stdout",
     "output_type": "stream",
     "text": [
      "{'tfidf__ngram_range': (1, 1), 'rf__n_estimators': 100, 'rf__max_depth': 100} 0.984776119402985 0.001922999809958955 0.9821212121212122\n"
     ]
    }
   ],
   "source": [
    "rf_param = results_df.iloc[0]['params']\n",
    "rf_cvmean = results_df.iloc[0]['cv score (mean)']\n",
    "rf_cvstd = results_df.iloc[0]['cv score (std)']\n",
    "rf_acc = best_rf_test_score\n",
    "print(rf_param, rf_cvmean, rf_cvstd, rf_acc)"
   ]
  },
  {
   "cell_type": "code",
   "execution_count": 76,
   "metadata": {},
   "outputs": [
    {
     "data": {
      "text/html": [
       "<div>\n",
       "<style scoped>\n",
       "    .dataframe tbody tr th:only-of-type {\n",
       "        vertical-align: middle;\n",
       "    }\n",
       "\n",
       "    .dataframe tbody tr th {\n",
       "        vertical-align: top;\n",
       "    }\n",
       "\n",
       "    .dataframe thead th {\n",
       "        text-align: right;\n",
       "    }\n",
       "</style>\n",
       "<table border=\"1\" class=\"dataframe\">\n",
       "  <thead>\n",
       "    <tr style=\"text-align: right;\">\n",
       "      <th></th>\n",
       "      <th>Model</th>\n",
       "      <th>Params</th>\n",
       "      <th>CV Score (Mean)</th>\n",
       "      <th>CV Score (Std)</th>\n",
       "      <th>Test Accuracy</th>\n",
       "    </tr>\n",
       "  </thead>\n",
       "  <tbody>\n",
       "    <tr>\n",
       "      <th>0</th>\n",
       "      <td>Naive Bayes</td>\n",
       "      <td>{'tfidf__ngram_range': (1, 2), 'mnb__alpha': 1}</td>\n",
       "      <td>0.975821</td>\n",
       "      <td>0.001537</td>\n",
       "      <td>0.974545</td>\n",
       "    </tr>\n",
       "    <tr>\n",
       "      <th>1</th>\n",
       "      <td>Logistic Regression</td>\n",
       "      <td>{'tfidf__ngram_range': (1, 2), 'lr__C': 10}</td>\n",
       "      <td>0.987463</td>\n",
       "      <td>0.001522</td>\n",
       "      <td>0.989091</td>\n",
       "    </tr>\n",
       "    <tr>\n",
       "      <th>2</th>\n",
       "      <td>Linear SVM</td>\n",
       "      <td>{'tfidf__ngram_range': (1, 2), 'svm__C': 1}</td>\n",
       "      <td>0.988209</td>\n",
       "      <td>0.001969</td>\n",
       "      <td>0.988182</td>\n",
       "    </tr>\n",
       "    <tr>\n",
       "      <th>3</th>\n",
       "      <td>Linear SVM (SGD)</td>\n",
       "      <td>{'tfidf__ngram_range': (1, 2), 'sgd__alpha': 1e-05}</td>\n",
       "      <td>0.988209</td>\n",
       "      <td>0.002471</td>\n",
       "      <td>0.987879</td>\n",
       "    </tr>\n",
       "    <tr>\n",
       "      <th>4</th>\n",
       "      <td>Random Forest</td>\n",
       "      <td>{'tfidf__ngram_range': (1, 1), 'rf__n_estimators': 100, 'rf__max_depth': 100}</td>\n",
       "      <td>0.984776</td>\n",
       "      <td>0.001923</td>\n",
       "      <td>0.982121</td>\n",
       "    </tr>\n",
       "    <tr>\n",
       "      <th>5</th>\n",
       "      <td>Gradient Boosted Machines</td>\n",
       "      <td>{'gbm__max_depth': 4, 'gbm__min_samples_split': 2, 'tfidf__ngram_range': (1, 2)}</td>\n",
       "      <td>0.981194</td>\n",
       "      <td>0.004179</td>\n",
       "      <td>0.981515</td>\n",
       "    </tr>\n",
       "  </tbody>\n",
       "</table>\n",
       "</div>"
      ],
      "text/plain": [
       "                       Model  \\\n",
       "0                Naive Bayes   \n",
       "1        Logistic Regression   \n",
       "2                 Linear SVM   \n",
       "3           Linear SVM (SGD)   \n",
       "4              Random Forest   \n",
       "5  Gradient Boosted Machines   \n",
       "\n",
       "                                                                             Params  \\\n",
       "0                                   {'tfidf__ngram_range': (1, 2), 'mnb__alpha': 1}   \n",
       "1                                       {'tfidf__ngram_range': (1, 2), 'lr__C': 10}   \n",
       "2                                       {'tfidf__ngram_range': (1, 2), 'svm__C': 1}   \n",
       "3                               {'tfidf__ngram_range': (1, 2), 'sgd__alpha': 1e-05}   \n",
       "4     {'tfidf__ngram_range': (1, 1), 'rf__n_estimators': 100, 'rf__max_depth': 100}   \n",
       "5  {'gbm__max_depth': 4, 'gbm__min_samples_split': 2, 'tfidf__ngram_range': (1, 2)}   \n",
       "\n",
       "   CV Score (Mean)  CV Score (Std)  Test Accuracy  \n",
       "0         0.975821        0.001537       0.974545  \n",
       "1         0.987463        0.001522       0.989091  \n",
       "2         0.988209        0.001969       0.988182  \n",
       "3         0.988209        0.002471       0.987879  \n",
       "4         0.984776        0.001923       0.982121  \n",
       "5         0.981194        0.004179       0.981515  "
      ]
     },
     "execution_count": 76,
     "metadata": {},
     "output_type": "execute_result"
    }
   ],
   "source": [
    "recap_random = pd.DataFrame([['Naive Bayes', \n",
    "               nb_param, nb_cvmean, nb_cvstd, nb_acc],\n",
    "              ['Logistic Regression', \n",
    "               lr_param, lr_cvmean, lr_cvstd, lr_acc],\n",
    "              ['Linear SVM', \n",
    "               svm_param, svm_cvmean, svm_cvstd, svm_acc],\n",
    "              ['Linear SVM (SGD)',  \n",
    "               sgd_param, sgd_cvmean, sgd_cvstd, sgd_acc],\n",
    "              ['Random Forest', \n",
    "               rf_param, rf_cvmean, rf_cvstd, rf_acc],\n",
    "              ['Gradient Boosted Machines', \n",
    "               gbm_param, gbm_cvmean, gbm_cvstd, gbm_acc]],\n",
    "             columns=['Model', 'Params', 'CV Score (Mean)', 'CV Score (Std)','Test Accuracy'],\n",
    "             )\n",
    "recap_random.to_csv('tuning_randomcv.csv',index=False)\n",
    "recap_random"
   ]
  },
  {
   "cell_type": "markdown",
   "metadata": {},
   "source": [
    "## Evaluate (Accuracy, Precision, Recall, F1-Score)"
   ]
  },
  {
   "cell_type": "code",
   "execution_count": 77,
   "metadata": {},
   "outputs": [
    {
     "name": "stdout",
     "output_type": "stream",
     "text": [
      "Accuracy: 0.9891\n",
      "Precision: 0.9891\n",
      "Recall: 0.9891\n",
      "F1 Score: 0.9891\n"
     ]
    }
   ],
   "source": [
    "import model_evaluation_utils as meu\n",
    "mnb_predictions = gs_lr.predict(test_corpus)\n",
    "unique_classes = list(set(test_label_names))\n",
    "meu.get_metrics(true_labels=test_label_names, predicted_labels=mnb_predictions)"
   ]
  },
  {
   "cell_type": "code",
   "execution_count": 78,
   "metadata": {},
   "outputs": [
    {
     "name": "stdout",
     "output_type": "stream",
     "text": [
      "              precision    recall  f1-score   support\n",
      "\n",
      "     Thyroid       1.00      1.00      1.00       353\n",
      "     Stomach       0.98      0.99      0.98       351\n",
      "     Bladder       0.99      0.99      0.99       307\n",
      "    Prostate       0.99      0.99      0.99       332\n",
      "  Oesophagus       0.98      0.98      0.98       319\n",
      "  Colorectal       0.99      0.97      0.98       315\n",
      "      Breast       1.00      1.00      1.00       335\n",
      "        Lung       0.99      0.99      0.99       345\n",
      "       Liver       0.98      0.97      0.98       323\n",
      "Cervix Uteri       0.98      0.99      0.99       320\n",
      "\n",
      "    accuracy                           0.99      3300\n",
      "   macro avg       0.99      0.99      0.99      3300\n",
      "weighted avg       0.99      0.99      0.99      3300\n",
      "\n"
     ]
    }
   ],
   "source": [
    "meu.display_classification_report(true_labels=test_label_names, \n",
    "                                  predicted_labels=mnb_predictions, classes=unique_classes)"
   ]
  },
  {
   "cell_type": "code",
   "execution_count": 79,
   "metadata": {},
   "outputs": [
    {
     "data": {
      "text/html": [
       "<div>\n",
       "<style scoped>\n",
       "    .dataframe tbody tr th:only-of-type {\n",
       "        vertical-align: middle;\n",
       "    }\n",
       "\n",
       "    .dataframe tbody tr th {\n",
       "        vertical-align: top;\n",
       "    }\n",
       "\n",
       "    .dataframe thead th {\n",
       "        text-align: right;\n",
       "    }\n",
       "</style>\n",
       "<table border=\"1\" class=\"dataframe\">\n",
       "  <thead>\n",
       "    <tr style=\"text-align: right;\">\n",
       "      <th></th>\n",
       "      <th>Label Name</th>\n",
       "      <th>Label Number</th>\n",
       "    </tr>\n",
       "  </thead>\n",
       "  <tbody>\n",
       "    <tr>\n",
       "      <th>0</th>\n",
       "      <td>Lung</td>\n",
       "      <td>0</td>\n",
       "    </tr>\n",
       "    <tr>\n",
       "      <th>1</th>\n",
       "      <td>Breast</td>\n",
       "      <td>1</td>\n",
       "    </tr>\n",
       "    <tr>\n",
       "      <th>2</th>\n",
       "      <td>Colorectal</td>\n",
       "      <td>2</td>\n",
       "    </tr>\n",
       "    <tr>\n",
       "      <th>3</th>\n",
       "      <td>Prostate</td>\n",
       "      <td>3</td>\n",
       "    </tr>\n",
       "    <tr>\n",
       "      <th>4</th>\n",
       "      <td>Stomach</td>\n",
       "      <td>4</td>\n",
       "    </tr>\n",
       "    <tr>\n",
       "      <th>5</th>\n",
       "      <td>Liver</td>\n",
       "      <td>5</td>\n",
       "    </tr>\n",
       "    <tr>\n",
       "      <th>6</th>\n",
       "      <td>Oesophagus</td>\n",
       "      <td>6</td>\n",
       "    </tr>\n",
       "    <tr>\n",
       "      <th>7</th>\n",
       "      <td>Cervix Uteri</td>\n",
       "      <td>7</td>\n",
       "    </tr>\n",
       "    <tr>\n",
       "      <th>8</th>\n",
       "      <td>Thyroid</td>\n",
       "      <td>8</td>\n",
       "    </tr>\n",
       "    <tr>\n",
       "      <th>9</th>\n",
       "      <td>Bladder</td>\n",
       "      <td>9</td>\n",
       "    </tr>\n",
       "  </tbody>\n",
       "</table>\n",
       "</div>"
      ],
      "text/plain": [
       "     Label Name  Label Number\n",
       "0          Lung             0\n",
       "1        Breast             1\n",
       "2    Colorectal             2\n",
       "3      Prostate             3\n",
       "4       Stomach             4\n",
       "5         Liver             5\n",
       "6    Oesophagus             6\n",
       "7  Cervix Uteri             7\n",
       "8       Thyroid             8\n",
       "9       Bladder             9"
      ]
     },
     "execution_count": 79,
     "metadata": {},
     "output_type": "execute_result"
    }
   ],
   "source": [
    "label_data_map = {v:k for k, v in data_labels_map.items()}\n",
    "label_map_df = pd.DataFrame(list(label_data_map.items()), columns=['Label Name', 'Label Number'])\n",
    "label_map_df"
   ]
  },
  {
   "cell_type": "code",
   "execution_count": 82,
   "metadata": {
    "scrolled": false
   },
   "outputs": [],
   "source": [
    "from sklearn.metrics import confusion_matrix\n",
    "import seaborn as sns\n",
    "import matplotlib.pyplot as plt"
   ]
  },
  {
   "cell_type": "code",
   "execution_count": 83,
   "metadata": {},
   "outputs": [
    {
     "data": {
      "text/plain": [
       "<matplotlib.axes._subplots.AxesSubplot at 0x12d5ca9eac8>"
      ]
     },
     "execution_count": 83,
     "metadata": {},
     "output_type": "execute_result"
    },
    {
     "data": {
      "image/png": "[encoded data removed]",
      "text/plain": [
       "<Figure size 720x720 with 2 Axes>"
      ]
     },
     "metadata": {
      "needs_background": "light"
     },
     "output_type": "display_data"
    }
   ],
   "source": [
    "cm1 = confusion_matrix(test_label_names, mnb_predictions, labels=label_map_df['Label Name'].values)\n",
    "plt.figure(figsize=(10,10))\n",
    "sns.heatmap(cm1, annot=True, fmt='d')"
   ]
  },
  {
   "cell_type": "markdown",
   "metadata": {},
   "source": [
    "## Testing Predicted Data"
   ]
  },
  {
   "cell_type": "code",
   "execution_count": 84,
   "metadata": {},
   "outputs": [
    {
     "data": {
      "text/plain": [
       "array([6252, 4684, 1731, ..., 6094, 8781, 9401])"
      ]
     },
     "execution_count": 84,
     "metadata": {},
     "output_type": "execute_result"
    }
   ],
   "source": [
    "train_idx, test_idx = train_test_split(np.array(range(len(data_df['Article']))), test_size=0.33, random_state=42)\n",
    "test_idx"
   ]
  },
  {
   "cell_type": "code",
   "execution_count": 85,
   "metadata": {
    "scrolled": false
   },
   "outputs": [
    {
     "name": "stderr",
     "output_type": "stream",
     "text": [
      "C:\\Users\\Bastian Farandy\\AppData\\Roaming\\Python\\Python37\\site-packages\\ipykernel_launcher.py:3: SettingWithCopyWarning: \n",
      "A value is trying to be set on a copy of a slice from a DataFrame.\n",
      "Try using .loc[row_indexer,col_indexer] = value instead\n",
      "\n",
      "See the caveats in the documentation: https://pandas.pydata.org/pandas-docs/stable/user_guide/indexing.html#returning-a-view-versus-a-copy\n",
      "  This is separate from the ipykernel package so we can avoid doing imports until\n",
      "C:\\Users\\Bastian Farandy\\AppData\\Roaming\\Python\\Python37\\site-packages\\ipykernel_launcher.py:4: SettingWithCopyWarning: \n",
      "A value is trying to be set on a copy of a slice from a DataFrame.\n",
      "Try using .loc[row_indexer,col_indexer] = value instead\n",
      "\n",
      "See the caveats in the documentation: https://pandas.pydata.org/pandas-docs/stable/user_guide/indexing.html#returning-a-view-versus-a-copy\n",
      "  after removing the cwd from sys.path.\n"
     ]
    },
    {
     "data": {
      "text/html": [
       "<div>\n",
       "<style scoped>\n",
       "    .dataframe tbody tr th:only-of-type {\n",
       "        vertical-align: middle;\n",
       "    }\n",
       "\n",
       "    .dataframe tbody tr th {\n",
       "        vertical-align: top;\n",
       "    }\n",
       "\n",
       "    .dataframe thead th {\n",
       "        text-align: right;\n",
       "    }\n",
       "</style>\n",
       "<table border=\"1\" class=\"dataframe\">\n",
       "  <thead>\n",
       "    <tr style=\"text-align: right;\">\n",
       "      <th></th>\n",
       "      <th>Article</th>\n",
       "      <th>Clean Article</th>\n",
       "      <th>Target Label</th>\n",
       "      <th>Target Name</th>\n",
       "      <th>Predicted Name</th>\n",
       "      <th>Predicted Confidence</th>\n",
       "    </tr>\n",
       "  </thead>\n",
       "  <tbody>\n",
       "    <tr>\n",
       "      <th>6252</th>\n",
       "      <td>Preoperative chemoradiotherapy for locoregional esophageal cancer: preliminary report. Conventio...</td>\n",
       "      <td>preoperative chemoradiotherapy locoregional esophageal cancer preliminary report conventional tr...</td>\n",
       "      <td>7</td>\n",
       "      <td>Oesophagus</td>\n",
       "      <td>Oesophagus</td>\n",
       "      <td>0.979169</td>\n",
       "    </tr>\n",
       "    <tr>\n",
       "      <th>4684</th>\n",
       "      <td>[Cytologic diagnosis of stomach cancer by the fluorescent method using acridine orange and ethyl...</td>\n",
       "      <td>cytologic diagnosis stomach cancer fluorescent method use acridine orange ethyl acridine orange ...</td>\n",
       "      <td>5</td>\n",
       "      <td>Stomach</td>\n",
       "      <td>Stomach</td>\n",
       "      <td>0.889676</td>\n",
       "    </tr>\n",
       "    <tr>\n",
       "      <th>1731</th>\n",
       "      <td>[Breast cancer]. INTRODUCTION AND AIM: Male breast cancer (MBC) is a rare disease which represen...</td>\n",
       "      <td>breast cancer introduction aim male breast cancer mbc rare disease represent cancer ratio female...</td>\n",
       "      <td>2</td>\n",
       "      <td>Breast</td>\n",
       "      <td>Breast</td>\n",
       "      <td>0.993291</td>\n",
       "    </tr>\n",
       "    <tr>\n",
       "      <th>4742</th>\n",
       "      <td>The effects of genomic polymorphisms in one-carbon metabolism pathways on survival of gastric ca...</td>\n",
       "      <td>effect genomic polymorphism one carbon metabolism pathway survival gastric cancer patient receiv...</td>\n",
       "      <td>5</td>\n",
       "      <td>Stomach</td>\n",
       "      <td>Stomach</td>\n",
       "      <td>0.749680</td>\n",
       "    </tr>\n",
       "    <tr>\n",
       "      <th>4521</th>\n",
       "      <td>Molecular screening of gastric cancer by proteome analysis. Gastric cancer affects annually more...</td>\n",
       "      <td>molecular screening gastric cancer proteome analysis gastric cancer affect annually individual w...</td>\n",
       "      <td>5</td>\n",
       "      <td>Stomach</td>\n",
       "      <td>Stomach</td>\n",
       "      <td>0.999555</td>\n",
       "    </tr>\n",
       "  </tbody>\n",
       "</table>\n",
       "</div>"
      ],
      "text/plain": [
       "                                                                                                  Article  \\\n",
       "6252  Preoperative chemoradiotherapy for locoregional esophageal cancer: preliminary report. Conventio...   \n",
       "4684  [Cytologic diagnosis of stomach cancer by the fluorescent method using acridine orange and ethyl...   \n",
       "1731  [Breast cancer]. INTRODUCTION AND AIM: Male breast cancer (MBC) is a rare disease which represen...   \n",
       "4742  The effects of genomic polymorphisms in one-carbon metabolism pathways on survival of gastric ca...   \n",
       "4521  Molecular screening of gastric cancer by proteome analysis. Gastric cancer affects annually more...   \n",
       "\n",
       "                                                                                            Clean Article  \\\n",
       "6252  preoperative chemoradiotherapy locoregional esophageal cancer preliminary report conventional tr...   \n",
       "4684  cytologic diagnosis stomach cancer fluorescent method use acridine orange ethyl acridine orange ...   \n",
       "1731  breast cancer introduction aim male breast cancer mbc rare disease represent cancer ratio female...   \n",
       "4742  effect genomic polymorphism one carbon metabolism pathway survival gastric cancer patient receiv...   \n",
       "4521  molecular screening gastric cancer proteome analysis gastric cancer affect annually individual w...   \n",
       "\n",
       "      Target Label Target Name Predicted Name  Predicted Confidence  \n",
       "6252             7  Oesophagus     Oesophagus              0.979169  \n",
       "4684             5     Stomach        Stomach              0.889676  \n",
       "1731             2      Breast         Breast              0.993291  \n",
       "4742             5     Stomach        Stomach              0.749680  \n",
       "4521             5     Stomach        Stomach              0.999555  "
      ]
     },
     "execution_count": 85,
     "metadata": {},
     "output_type": "execute_result"
    }
   ],
   "source": [
    "predict_probas = gs_lr.predict_proba(test_corpus).max(axis=1)\n",
    "test_df = data_df.iloc[test_idx]\n",
    "test_df['Predicted Name'] = mnb_predictions\n",
    "test_df['Predicted Confidence'] = predict_probas\n",
    "test_df.head()"
   ]
  },
  {
   "cell_type": "code",
   "execution_count": 86,
   "metadata": {},
   "outputs": [
    {
     "data": {
      "text/html": [
       "<div>\n",
       "<style scoped>\n",
       "    .dataframe tbody tr th:only-of-type {\n",
       "        vertical-align: middle;\n",
       "    }\n",
       "\n",
       "    .dataframe tbody tr th {\n",
       "        vertical-align: top;\n",
       "    }\n",
       "\n",
       "    .dataframe thead th {\n",
       "        text-align: right;\n",
       "    }\n",
       "</style>\n",
       "<table border=\"1\" class=\"dataframe\">\n",
       "  <thead>\n",
       "    <tr style=\"text-align: right;\">\n",
       "      <th></th>\n",
       "      <th>Article</th>\n",
       "      <th>Clean Article</th>\n",
       "      <th>Target Label</th>\n",
       "      <th>Target Name</th>\n",
       "      <th>Predicted Name</th>\n",
       "      <th>Predicted Confidence</th>\n",
       "    </tr>\n",
       "  </thead>\n",
       "  <tbody>\n",
       "    <tr>\n",
       "      <th>2960</th>\n",
       "      <td>Demographic factors and health coverage affect colorectal cancer treatment in the state of Washington. AIMS: The existence of other primary tumors during the treatment of esophageal cancer patient...</td>\n",
       "      <td>demographic factor health coverage affect colorectal cancer treatment state washington aim existence primary tumor treatment esophageal cancer patient important issue aim investigate prevalence ma...</td>\n",
       "      <td>3</td>\n",
       "      <td>Colorectal</td>\n",
       "      <td>Oesophagus</td>\n",
       "      <td>0.991525</td>\n",
       "    </tr>\n",
       "    <tr>\n",
       "      <th>5226</th>\n",
       "      <td>[Colorectal cancers: management of metastatic cancers]. Close to half of patients suffering from colorectal cancer develop metastases. Their natural prognosis is grim with a median survival of 6 t...</td>\n",
       "      <td>colorectal cancer management metastatic cancer close half patient suffer colorectal cancer develop metastasis natural prognosis grim median survival month current treatment option rest surgery che...</td>\n",
       "      <td>6</td>\n",
       "      <td>Liver</td>\n",
       "      <td>Colorectal</td>\n",
       "      <td>0.991412</td>\n",
       "    </tr>\n",
       "    <tr>\n",
       "      <th>5381</th>\n",
       "      <td>Metastatic lobular breast cancer presenting with malignant ascites: case report and review of literature. We review the case of an elderly woman with invasive lobular breast cancer presenting as m...</td>\n",
       "      <td>metastatic lobular breast cancer present malignant ascite case report review literature review case elderly woman invasive lobular breast cancer present malignant ascite unusual presentation discu...</td>\n",
       "      <td>6</td>\n",
       "      <td>Liver</td>\n",
       "      <td>Breast</td>\n",
       "      <td>0.989896</td>\n",
       "    </tr>\n",
       "    <tr>\n",
       "      <th>462</th>\n",
       "      <td>Endobronchial metastasis from prostate cancer mimicking primary lung cancer. Endobronchial metastasis from prostate cancer is a rare neoplasm which metastasizes to the proximal central or subsegme...</td>\n",
       "      <td>endobronchial metastasis prostate cancer mimic primary lung cancer endobronchial metastasis prostate cancer rare neoplasm metastasize proximal central subsegmental bronchu bronchoscopically visibl...</td>\n",
       "      <td>1</td>\n",
       "      <td>Lung</td>\n",
       "      <td>Prostate</td>\n",
       "      <td>0.987066</td>\n",
       "    </tr>\n",
       "    <tr>\n",
       "      <th>4226</th>\n",
       "      <td>Surgery and current management for cancer of the esophagus and cardia. The current status of carcinoma of the esophagus is reviewed, with specific discussions on current problems. These are diffic...</td>\n",
       "      <td>surgery current management cancer esophagus cardia current status carcinoma esophagus review specific discussion current problem difficulty stage disease confusion classification surgery vs radiat...</td>\n",
       "      <td>5</td>\n",
       "      <td>Stomach</td>\n",
       "      <td>Oesophagus</td>\n",
       "      <td>0.980462</td>\n",
       "    </tr>\n",
       "  </tbody>\n",
       "</table>\n",
       "</div>"
      ],
      "text/plain": [
       "                                                                                                                                                                                                      Article  \\\n",
       "2960  Demographic factors and health coverage affect colorectal cancer treatment in the state of Washington. AIMS: The existence of other primary tumors during the treatment of esophageal cancer patient...   \n",
       "5226  [Colorectal cancers: management of metastatic cancers]. Close to half of patients suffering from colorectal cancer develop metastases. Their natural prognosis is grim with a median survival of 6 t...   \n",
       "5381  Metastatic lobular breast cancer presenting with malignant ascites: case report and review of literature. We review the case of an elderly woman with invasive lobular breast cancer presenting as m...   \n",
       "462   Endobronchial metastasis from prostate cancer mimicking primary lung cancer. Endobronchial metastasis from prostate cancer is a rare neoplasm which metastasizes to the proximal central or subsegme...   \n",
       "4226  Surgery and current management for cancer of the esophagus and cardia. The current status of carcinoma of the esophagus is reviewed, with specific discussions on current problems. These are diffic...   \n",
       "\n",
       "                                                                                                                                                                                                Clean Article  \\\n",
       "2960  demographic factor health coverage affect colorectal cancer treatment state washington aim existence primary tumor treatment esophageal cancer patient important issue aim investigate prevalence ma...   \n",
       "5226  colorectal cancer management metastatic cancer close half patient suffer colorectal cancer develop metastasis natural prognosis grim median survival month current treatment option rest surgery che...   \n",
       "5381  metastatic lobular breast cancer present malignant ascite case report review literature review case elderly woman invasive lobular breast cancer present malignant ascite unusual presentation discu...   \n",
       "462   endobronchial metastasis prostate cancer mimic primary lung cancer endobronchial metastasis prostate cancer rare neoplasm metastasize proximal central subsegmental bronchu bronchoscopically visibl...   \n",
       "4226  surgery current management cancer esophagus cardia current status carcinoma esophagus review specific discussion current problem difficulty stage disease confusion classification surgery vs radiat...   \n",
       "\n",
       "      Target Label Target Name Predicted Name  Predicted Confidence  \n",
       "2960             3  Colorectal     Oesophagus              0.991525  \n",
       "5226             6       Liver     Colorectal              0.991412  \n",
       "5381             6       Liver         Breast              0.989896  \n",
       "462              1        Lung       Prostate              0.987066  \n",
       "4226             5     Stomach     Oesophagus              0.980462  "
      ]
     },
     "execution_count": 86,
     "metadata": {},
     "output_type": "execute_result"
    }
   ],
   "source": [
    "pd.set_option('display.max_colwidth', 200)\n",
    "res_df = (test_df[(test_df['Target Name'] != test_df['Predicted Name'])]\n",
    "       .sort_values(by=['Predicted Confidence'], ascending=False).head(5))\n",
    "res_df"
   ]
  },
  {
   "cell_type": "markdown",
   "metadata": {},
   "source": [
    "## Recap Models Grid Search CV & Random Search CV Hyperparameter Tunning"
   ]
  },
  {
   "cell_type": "markdown",
   "metadata": {},
   "source": [
    "### Grid Search CV"
   ]
  },
  {
   "cell_type": "code",
   "execution_count": 88,
   "metadata": {},
   "outputs": [
    {
     "data": {
      "text/html": [
       "<div>\n",
       "<style scoped>\n",
       "    .dataframe tbody tr th:only-of-type {\n",
       "        vertical-align: middle;\n",
       "    }\n",
       "\n",
       "    .dataframe tbody tr th {\n",
       "        vertical-align: top;\n",
       "    }\n",
       "\n",
       "    .dataframe thead th {\n",
       "        text-align: right;\n",
       "    }\n",
       "</style>\n",
       "<table border=\"1\" class=\"dataframe\">\n",
       "  <thead>\n",
       "    <tr style=\"text-align: right;\">\n",
       "      <th></th>\n",
       "      <th>Model</th>\n",
       "      <th>Params</th>\n",
       "      <th>CV Score (Mean)</th>\n",
       "      <th>CV Score (Std)</th>\n",
       "      <th>Test Accuracy</th>\n",
       "    </tr>\n",
       "  </thead>\n",
       "  <tbody>\n",
       "    <tr>\n",
       "      <th>0</th>\n",
       "      <td>Naive Bayes</td>\n",
       "      <td>{'mnb__alpha': 1, 'tfidf__ngram_range': (1, 2)}</td>\n",
       "      <td>0.975821</td>\n",
       "      <td>0.001537</td>\n",
       "      <td>0.974545</td>\n",
       "    </tr>\n",
       "    <tr>\n",
       "      <th>1</th>\n",
       "      <td>Logistic Regression</td>\n",
       "      <td>{'lr__C': 10, 'tfidf__ngram_range': (1, 2)}</td>\n",
       "      <td>0.987463</td>\n",
       "      <td>0.001522</td>\n",
       "      <td>0.989091</td>\n",
       "    </tr>\n",
       "    <tr>\n",
       "      <th>2</th>\n",
       "      <td>Linear SVM</td>\n",
       "      <td>{'svm__C': 1, 'tfidf__ngram_range': (1, 2)}</td>\n",
       "      <td>0.988209</td>\n",
       "      <td>0.001969</td>\n",
       "      <td>0.988182</td>\n",
       "    </tr>\n",
       "    <tr>\n",
       "      <th>3</th>\n",
       "      <td>Linear SVM (SGD)</td>\n",
       "      <td>{'sgd__alpha': 1e-05, 'tfidf__ngram_range': (1, 2)}</td>\n",
       "      <td>0.988209</td>\n",
       "      <td>0.002471</td>\n",
       "      <td>0.987879</td>\n",
       "    </tr>\n",
       "    <tr>\n",
       "      <th>4</th>\n",
       "      <td>Random Forest</td>\n",
       "      <td>{'rf__max_depth': 100, 'rf__n_estimators': 100, 'tfidf__ngram_range': (1, 1)}</td>\n",
       "      <td>0.984776</td>\n",
       "      <td>0.001923</td>\n",
       "      <td>0.982121</td>\n",
       "    </tr>\n",
       "    <tr>\n",
       "      <th>5</th>\n",
       "      <td>Gradient Boosted Machines</td>\n",
       "      <td>{'gbm__max_depth': 4, 'gbm__min_samples_split': 2, 'tfidf__ngram_range': (1, 2)}</td>\n",
       "      <td>0.981194</td>\n",
       "      <td>0.004179</td>\n",
       "      <td>0.981515</td>\n",
       "    </tr>\n",
       "  </tbody>\n",
       "</table>\n",
       "</div>"
      ],
      "text/plain": [
       "                       Model  \\\n",
       "0                Naive Bayes   \n",
       "1        Logistic Regression   \n",
       "2                 Linear SVM   \n",
       "3           Linear SVM (SGD)   \n",
       "4              Random Forest   \n",
       "5  Gradient Boosted Machines   \n",
       "\n",
       "                                                                             Params  \\\n",
       "0                                   {'mnb__alpha': 1, 'tfidf__ngram_range': (1, 2)}   \n",
       "1                                       {'lr__C': 10, 'tfidf__ngram_range': (1, 2)}   \n",
       "2                                       {'svm__C': 1, 'tfidf__ngram_range': (1, 2)}   \n",
       "3                               {'sgd__alpha': 1e-05, 'tfidf__ngram_range': (1, 2)}   \n",
       "4     {'rf__max_depth': 100, 'rf__n_estimators': 100, 'tfidf__ngram_range': (1, 1)}   \n",
       "5  {'gbm__max_depth': 4, 'gbm__min_samples_split': 2, 'tfidf__ngram_range': (1, 2)}   \n",
       "\n",
       "   CV Score (Mean)  CV Score (Std)  Test Accuracy  \n",
       "0         0.975821        0.001537       0.974545  \n",
       "1         0.987463        0.001522       0.989091  \n",
       "2         0.988209        0.001969       0.988182  \n",
       "3         0.988209        0.002471       0.987879  \n",
       "4         0.984776        0.001923       0.982121  \n",
       "5         0.981194        0.004179       0.981515  "
      ]
     },
     "execution_count": 88,
     "metadata": {},
     "output_type": "execute_result"
    }
   ],
   "source": [
    "recap"
   ]
  },
  {
   "cell_type": "markdown",
   "metadata": {},
   "source": [
    "### Random Search CV"
   ]
  },
  {
   "cell_type": "code",
   "execution_count": 89,
   "metadata": {},
   "outputs": [
    {
     "data": {
      "text/html": [
       "<div>\n",
       "<style scoped>\n",
       "    .dataframe tbody tr th:only-of-type {\n",
       "        vertical-align: middle;\n",
       "    }\n",
       "\n",
       "    .dataframe tbody tr th {\n",
       "        vertical-align: top;\n",
       "    }\n",
       "\n",
       "    .dataframe thead th {\n",
       "        text-align: right;\n",
       "    }\n",
       "</style>\n",
       "<table border=\"1\" class=\"dataframe\">\n",
       "  <thead>\n",
       "    <tr style=\"text-align: right;\">\n",
       "      <th></th>\n",
       "      <th>Model</th>\n",
       "      <th>Params</th>\n",
       "      <th>CV Score (Mean)</th>\n",
       "      <th>CV Score (Std)</th>\n",
       "      <th>Test Accuracy</th>\n",
       "    </tr>\n",
       "  </thead>\n",
       "  <tbody>\n",
       "    <tr>\n",
       "      <th>0</th>\n",
       "      <td>Naive Bayes</td>\n",
       "      <td>{'tfidf__ngram_range': (1, 2), 'mnb__alpha': 1}</td>\n",
       "      <td>0.975821</td>\n",
       "      <td>0.001537</td>\n",
       "      <td>0.974545</td>\n",
       "    </tr>\n",
       "    <tr>\n",
       "      <th>1</th>\n",
       "      <td>Logistic Regression</td>\n",
       "      <td>{'tfidf__ngram_range': (1, 2), 'lr__C': 10}</td>\n",
       "      <td>0.987463</td>\n",
       "      <td>0.001522</td>\n",
       "      <td>0.989091</td>\n",
       "    </tr>\n",
       "    <tr>\n",
       "      <th>2</th>\n",
       "      <td>Linear SVM</td>\n",
       "      <td>{'tfidf__ngram_range': (1, 2), 'svm__C': 1}</td>\n",
       "      <td>0.988209</td>\n",
       "      <td>0.001969</td>\n",
       "      <td>0.988182</td>\n",
       "    </tr>\n",
       "    <tr>\n",
       "      <th>3</th>\n",
       "      <td>Linear SVM (SGD)</td>\n",
       "      <td>{'tfidf__ngram_range': (1, 2), 'sgd__alpha': 1e-05}</td>\n",
       "      <td>0.988209</td>\n",
       "      <td>0.002471</td>\n",
       "      <td>0.987879</td>\n",
       "    </tr>\n",
       "    <tr>\n",
       "      <th>4</th>\n",
       "      <td>Random Forest</td>\n",
       "      <td>{'tfidf__ngram_range': (1, 1), 'rf__n_estimators': 100, 'rf__max_depth': 100}</td>\n",
       "      <td>0.984776</td>\n",
       "      <td>0.001923</td>\n",
       "      <td>0.982121</td>\n",
       "    </tr>\n",
       "    <tr>\n",
       "      <th>5</th>\n",
       "      <td>Gradient Boosted Machines</td>\n",
       "      <td>{'gbm__max_depth': 4, 'gbm__min_samples_split': 2, 'tfidf__ngram_range': (1, 2)}</td>\n",
       "      <td>0.981194</td>\n",
       "      <td>0.004179</td>\n",
       "      <td>0.981515</td>\n",
       "    </tr>\n",
       "  </tbody>\n",
       "</table>\n",
       "</div>"
      ],
      "text/plain": [
       "                       Model  \\\n",
       "0                Naive Bayes   \n",
       "1        Logistic Regression   \n",
       "2                 Linear SVM   \n",
       "3           Linear SVM (SGD)   \n",
       "4              Random Forest   \n",
       "5  Gradient Boosted Machines   \n",
       "\n",
       "                                                                             Params  \\\n",
       "0                                   {'tfidf__ngram_range': (1, 2), 'mnb__alpha': 1}   \n",
       "1                                       {'tfidf__ngram_range': (1, 2), 'lr__C': 10}   \n",
       "2                                       {'tfidf__ngram_range': (1, 2), 'svm__C': 1}   \n",
       "3                               {'tfidf__ngram_range': (1, 2), 'sgd__alpha': 1e-05}   \n",
       "4     {'tfidf__ngram_range': (1, 1), 'rf__n_estimators': 100, 'rf__max_depth': 100}   \n",
       "5  {'gbm__max_depth': 4, 'gbm__min_samples_split': 2, 'tfidf__ngram_range': (1, 2)}   \n",
       "\n",
       "   CV Score (Mean)  CV Score (Std)  Test Accuracy  \n",
       "0         0.975821        0.001537       0.974545  \n",
       "1         0.987463        0.001522       0.989091  \n",
       "2         0.988209        0.001969       0.988182  \n",
       "3         0.988209        0.002471       0.987879  \n",
       "4         0.984776        0.001923       0.982121  \n",
       "5         0.981194        0.004179       0.981515  "
      ]
     },
     "execution_count": 89,
     "metadata": {},
     "output_type": "execute_result"
    }
   ],
   "source": [
    "recap_random"
   ]
  },
  {
   "cell_type": "code",
   "execution_count": null,
   "metadata": {},
   "outputs": [],
   "source": []
  }
 ],
 "metadata": {
  "kernelspec": {
   "display_name": "Python 3",
   "language": "python",
   "name": "python3"
  },
  "language_info": {
   "codemirror_mode": {
    "name": "ipython",
    "version": 3
   },
   "file_extension": ".py",
   "mimetype": "text/x-python",
   "name": "python",
   "nbconvert_exporter": "python",
   "pygments_lexer": "ipython3",
   "version": "3.7.7"
  }
 },
 "nbformat": 4,
 "nbformat_minor": 2
}
