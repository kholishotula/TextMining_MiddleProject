{
 "cells": [
  {
   "cell_type": "markdown",
   "metadata": {},
   "source": [
    "# Text Classification TF-IDF Training Testing"
   ]
  },
  {
   "cell_type": "code",
   "execution_count": 1,
   "metadata": {},
   "outputs": [],
   "source": [
    "import pandas as pd\n",
    "data_df = pd.read_csv('../Output/PubMed_CleanArticles_Top1-10_cancerTypes.csv', encoding='utf-8')"
   ]
  },
  {
   "cell_type": "code",
   "execution_count": 2,
   "metadata": {},
   "outputs": [
    {
     "data": {
      "text/html": [
       "<div>\n",
       "<style scoped>\n",
       "    .dataframe tbody tr th:only-of-type {\n",
       "        vertical-align: middle;\n",
       "    }\n",
       "\n",
       "    .dataframe tbody tr th {\n",
       "        vertical-align: top;\n",
       "    }\n",
       "\n",
       "    .dataframe thead th {\n",
       "        text-align: right;\n",
       "    }\n",
       "</style>\n",
       "<table border=\"1\" class=\"dataframe\">\n",
       "  <thead>\n",
       "    <tr style=\"text-align: right;\">\n",
       "      <th></th>\n",
       "      <th>Article</th>\n",
       "      <th>Clean Article</th>\n",
       "      <th>Target Label</th>\n",
       "      <th>Target Name</th>\n",
       "    </tr>\n",
       "  </thead>\n",
       "  <tbody>\n",
       "    <tr>\n",
       "      <th>0</th>\n",
       "      <td>Understanding the symptoms experienced by indi...</td>\n",
       "      <td>understand symptom experience individual lung ...</td>\n",
       "      <td>1</td>\n",
       "      <td>Lung</td>\n",
       "    </tr>\n",
       "    <tr>\n",
       "      <th>1</th>\n",
       "      <td>Do statins improve outcomes for patients with ...</td>\n",
       "      <td>statin improve outcome patient non small cell ...</td>\n",
       "      <td>1</td>\n",
       "      <td>Lung</td>\n",
       "    </tr>\n",
       "    <tr>\n",
       "      <th>2</th>\n",
       "      <td>Lung cancer epidemiology, risk factors, and pr...</td>\n",
       "      <td>lung cancer epidemiology risk factor preventio...</td>\n",
       "      <td>1</td>\n",
       "      <td>Lung</td>\n",
       "    </tr>\n",
       "    <tr>\n",
       "      <th>3</th>\n",
       "      <td>[Modern Nanomedicine in Treatment of Lung Carc...</td>\n",
       "      <td>modern nanomedicine treatment lung carcinomas ...</td>\n",
       "      <td>1</td>\n",
       "      <td>Lung</td>\n",
       "    </tr>\n",
       "    <tr>\n",
       "      <th>4</th>\n",
       "      <td>[Nineteen multiple primary cancer cases of 100...</td>\n",
       "      <td>nineteen multiple primary cancer case patient ...</td>\n",
       "      <td>1</td>\n",
       "      <td>Lung</td>\n",
       "    </tr>\n",
       "    <tr>\n",
       "      <th>5</th>\n",
       "      <td>Image-guided radiotherapy and motion managemen...</td>\n",
       "      <td>image guide radiotherapy motion management lun...</td>\n",
       "      <td>1</td>\n",
       "      <td>Lung</td>\n",
       "    </tr>\n",
       "    <tr>\n",
       "      <th>6</th>\n",
       "      <td>[III. Immune Checkpoint Inhibitor as a Standar...</td>\n",
       "      <td>iii immune checkpoint inhibitor standard treat...</td>\n",
       "      <td>1</td>\n",
       "      <td>Lung</td>\n",
       "    </tr>\n",
       "    <tr>\n",
       "      <th>7</th>\n",
       "      <td>Radiotherapy for small-cell lung cancer-Where ...</td>\n",
       "      <td>radiotherapy small cell lung cancer head radio...</td>\n",
       "      <td>1</td>\n",
       "      <td>Lung</td>\n",
       "    </tr>\n",
       "    <tr>\n",
       "      <th>8</th>\n",
       "      <td>Coagulation-fibrinolytic analysis in patients ...</td>\n",
       "      <td>coagulation fibrinolytic analysis patient lung...</td>\n",
       "      <td>1</td>\n",
       "      <td>Lung</td>\n",
       "    </tr>\n",
       "    <tr>\n",
       "      <th>9</th>\n",
       "      <td>Revisiting the debate: the use of new agents i...</td>\n",
       "      <td>revisit debate use new agent previously untrea...</td>\n",
       "      <td>1</td>\n",
       "      <td>Lung</td>\n",
       "    </tr>\n",
       "  </tbody>\n",
       "</table>\n",
       "</div>"
      ],
      "text/plain": [
       "                                             Article  \\\n",
       "0  Understanding the symptoms experienced by indi...   \n",
       "1  Do statins improve outcomes for patients with ...   \n",
       "2  Lung cancer epidemiology, risk factors, and pr...   \n",
       "3  [Modern Nanomedicine in Treatment of Lung Carc...   \n",
       "4  [Nineteen multiple primary cancer cases of 100...   \n",
       "5  Image-guided radiotherapy and motion managemen...   \n",
       "6  [III. Immune Checkpoint Inhibitor as a Standar...   \n",
       "7  Radiotherapy for small-cell lung cancer-Where ...   \n",
       "8  Coagulation-fibrinolytic analysis in patients ...   \n",
       "9  Revisiting the debate: the use of new agents i...   \n",
       "\n",
       "                                       Clean Article  Target Label Target Name  \n",
       "0  understand symptom experience individual lung ...             1        Lung  \n",
       "1  statin improve outcome patient non small cell ...             1        Lung  \n",
       "2  lung cancer epidemiology risk factor preventio...             1        Lung  \n",
       "3  modern nanomedicine treatment lung carcinomas ...             1        Lung  \n",
       "4  nineteen multiple primary cancer case patient ...             1        Lung  \n",
       "5  image guide radiotherapy motion management lun...             1        Lung  \n",
       "6  iii immune checkpoint inhibitor standard treat...             1        Lung  \n",
       "7  radiotherapy small cell lung cancer head radio...             1        Lung  \n",
       "8  coagulation fibrinolytic analysis patient lung...             1        Lung  \n",
       "9  revisit debate use new agent previously untrea...             1        Lung  "
      ]
     },
     "execution_count": 2,
     "metadata": {},
     "output_type": "execute_result"
    }
   ],
   "source": [
    "data_df = data_df[['Article', 'Clean Article', 'Target Label', 'Target Name']]\n",
    "data_df.head(10)"
   ]
  },
  {
   "cell_type": "code",
   "execution_count": 3,
   "metadata": {},
   "outputs": [
    {
     "data": {
      "text/plain": [
       "((6700,), (3300,))"
      ]
     },
     "execution_count": 3,
     "metadata": {},
     "output_type": "execute_result"
    }
   ],
   "source": [
    "import numpy as np\n",
    "from sklearn.model_selection import train_test_split\n",
    "\n",
    "train_corpus, test_corpus, train_label_nums, test_label_nums, train_label_names, test_label_names =\\\n",
    "                                 train_test_split(np.array(data_df['Clean Article']), np.array(data_df['Target Label']),\n",
    "                                                       np.array(data_df['Target Name']), test_size=0.33, random_state=42)\n",
    "\n",
    "train_corpus.shape, test_corpus.shape"
   ]
  },
  {
   "cell_type": "code",
   "execution_count": 4,
   "metadata": {},
   "outputs": [],
   "source": [
    "from sklearn.feature_extraction.text import TfidfVectorizer\n",
    "\n",
    "# build BOW features on train articles\n",
    "tv = TfidfVectorizer(use_idf=True, min_df=0.0, max_df=1.0)\n",
    "tv_train_features = tv.fit_transform(train_corpus)"
   ]
  },
  {
   "cell_type": "code",
   "execution_count": 5,
   "metadata": {},
   "outputs": [],
   "source": [
    "# transform test articles into features\n",
    "tv_test_features = tv.transform(test_corpus)"
   ]
  },
  {
   "cell_type": "code",
   "execution_count": 6,
   "metadata": {},
   "outputs": [
    {
     "name": "stdout",
     "output_type": "stream",
     "text": [
      "TFIDF model:> Train features shape: (6700, 20634)  Test features shape: (3300, 20634)\n"
     ]
    }
   ],
   "source": [
    "print('TFIDF model:> Train features shape:', tv_train_features.shape, ' Test features shape:', tv_test_features.shape)"
   ]
  },
  {
   "cell_type": "markdown",
   "metadata": {},
   "source": [
    "# Using Naive Bayes"
   ]
  },
  {
   "cell_type": "code",
   "execution_count": 7,
   "metadata": {},
   "outputs": [
    {
     "name": "stdout",
     "output_type": "stream",
     "text": [
      "Training time:  0.036s\n",
      "CV Accuracy (5-fold): [0.94253731 0.94850746 0.94328358 0.95       0.95373134]\n",
      "Mean CV Accuracy: 0.9476119402985075\n",
      "Test Accuracy: 0.943030303030303\n"
     ]
    }
   ],
   "source": [
    "from sklearn.naive_bayes import MultinomialNB\n",
    "from sklearn.model_selection import cross_val_score\n",
    "import time\n",
    "from sklearn.feature_extraction.text import TfidfVectorizer\n",
    "\n",
    "mnb = MultinomialNB(alpha=1)\n",
    "start = time.time()\n",
    "mnb.fit(tv_train_features, train_label_names)\n",
    "stop = time.time()\n",
    "time_mnb = str(round(stop-start,3)) + 's'\n",
    "print('Training time: ', time_mnb)\n",
    "mnb_tfidf_cv_scores = cross_val_score(mnb, tv_train_features, train_label_names, cv=5)\n",
    "mnb_tfidf_cv_mean_score = np.mean(mnb_tfidf_cv_scores)\n",
    "print('CV Accuracy (5-fold):', mnb_tfidf_cv_scores)\n",
    "print('Mean CV Accuracy:', mnb_tfidf_cv_mean_score)\n",
    "mnb_tfidf_test_score = mnb.score(tv_test_features, test_label_names)\n",
    "print('Test Accuracy:', mnb_tfidf_test_score)"
   ]
  },
  {
   "cell_type": "markdown",
   "metadata": {},
   "source": [
    "# Using Logistic Regression"
   ]
  },
  {
   "cell_type": "code",
   "execution_count": 9,
   "metadata": {},
   "outputs": [
    {
     "name": "stdout",
     "output_type": "stream",
     "text": [
      "Training time:  3.043s\n",
      "CV Accuracy (5-fold): [0.98731343 0.98432836 0.9858209  0.98134328 0.9880597 ]\n",
      "Mean CV Accuracy: 0.9853731343283583\n",
      "Test Accuracy: 0.9860606060606061\n"
     ]
    }
   ],
   "source": [
    "from sklearn.linear_model import LogisticRegression\n",
    "\n",
    "lr = LogisticRegression(penalty='l2', max_iter=100, C=1, random_state=42)\n",
    "start = time.time()\n",
    "lr.fit(tv_train_features, train_label_names)\n",
    "stop = time.time()\n",
    "time_lr = str(round(stop-start,3)) + 's'\n",
    "print('Training time: ', time_lr)\n",
    "lr_tfidf_cv_scores = cross_val_score(lr, tv_train_features, train_label_names, cv=5)\n",
    "lr_tfidf_cv_mean_score = np.mean(lr_tfidf_cv_scores)\n",
    "print('CV Accuracy (5-fold):', lr_tfidf_cv_scores)\n",
    "print('Mean CV Accuracy:', lr_tfidf_cv_mean_score)\n",
    "lr_tfidf_test_score = lr.score(tv_test_features, test_label_names)\n",
    "print('Test Accuracy:', lr_tfidf_test_score)"
   ]
  },
  {
   "cell_type": "markdown",
   "metadata": {},
   "source": [
    "# Using Linear SVM"
   ]
  },
  {
   "cell_type": "code",
   "execution_count": 10,
   "metadata": {},
   "outputs": [
    {
     "name": "stdout",
     "output_type": "stream",
     "text": [
      "Training time:  0.288s\n",
      "CV Accuracy (5-fold): [0.98880597 0.98656716 0.98656716 0.98358209 0.98507463]\n",
      "Mean CV Accuracy: 0.9861194029850745\n",
      "Test Accuracy: 0.9866666666666667\n"
     ]
    }
   ],
   "source": [
    "from sklearn.svm import LinearSVC\n",
    "\n",
    "svm = LinearSVC(penalty='l2', C=1, random_state=42)\n",
    "start = time.time()\n",
    "svm.fit(tv_train_features, train_label_names)\n",
    "stop = time.time()\n",
    "time_svm = str(round(stop-start,3)) + 's'\n",
    "print('Training time: ', time_svm)\n",
    "svm_tfidf_cv_scores = cross_val_score(svm, tv_train_features, train_label_names, cv=5)\n",
    "svm_tfidf_cv_mean_score = np.mean(svm_tfidf_cv_scores)\n",
    "print('CV Accuracy (5-fold):', svm_tfidf_cv_scores)\n",
    "print('Mean CV Accuracy:', svm_tfidf_cv_mean_score)\n",
    "svm_tfidf_test_score = svm.score(tv_test_features, test_label_names)\n",
    "print('Test Accuracy:', svm_tfidf_test_score)"
   ]
  },
  {
   "cell_type": "markdown",
   "metadata": {},
   "source": [
    "# Using Linear SVM (SGD)"
   ]
  },
  {
   "cell_type": "code",
   "execution_count": 11,
   "metadata": {},
   "outputs": [
    {
     "name": "stderr",
     "output_type": "stream",
     "text": [
      "C:\\ANACONDA\\envs\\jupyter\\lib\\site-packages\\sklearn\\linear_model\\_stochastic_gradient.py:573: ConvergenceWarning: Maximum number of iteration reached before convergence. Consider increasing max_iter to improve the fit.\n",
      "  ConvergenceWarning)\n",
      "C:\\ANACONDA\\envs\\jupyter\\lib\\site-packages\\sklearn\\linear_model\\_stochastic_gradient.py:573: ConvergenceWarning: Maximum number of iteration reached before convergence. Consider increasing max_iter to improve the fit.\n",
      "  ConvergenceWarning)\n"
     ]
    },
    {
     "name": "stdout",
     "output_type": "stream",
     "text": [
      "Training time:  0.116s\n",
      "CV Accuracy (5-fold): [0.98955224 0.98507463 0.98955224 0.98283582 0.9858209 ]\n",
      "Mean CV Accuracy: 0.9865671641791044\n",
      "Test Accuracy: 0.9875757575757576\n"
     ]
    }
   ],
   "source": [
    "from sklearn.linear_model import SGDClassifier\n",
    "\n",
    "svm_sgd = SGDClassifier(loss='hinge', penalty='l2', max_iter=5, random_state=42)\n",
    "start = time.time()\n",
    "svm_sgd.fit(tv_train_features, train_label_names)\n",
    "stop = time.time()\n",
    "time_sgd = str(round(stop-start,3)) + 's'\n",
    "print('Training time: ', time_sgd)\n",
    "svmsgd_tfidf_cv_scores = cross_val_score(svm_sgd, tv_train_features, train_label_names, cv=5)\n",
    "svmsgd_tfidf_cv_mean_score = np.mean(svmsgd_tfidf_cv_scores)\n",
    "print('CV Accuracy (5-fold):', svmsgd_tfidf_cv_scores)\n",
    "print('Mean CV Accuracy:', svmsgd_tfidf_cv_mean_score)\n",
    "svmsgd_tfidf_test_score = svm_sgd.score(tv_test_features, test_label_names)\n",
    "print('Test Accuracy:', svmsgd_tfidf_test_score)"
   ]
  },
  {
   "cell_type": "markdown",
   "metadata": {},
   "source": [
    "# Using Random Forest"
   ]
  },
  {
   "cell_type": "code",
   "execution_count": 12,
   "metadata": {},
   "outputs": [
    {
     "name": "stdout",
     "output_type": "stream",
     "text": [
      "Training time:  0.782s\n",
      "CV Accuracy (5-fold): [0.93134328 0.92985075 0.92014925 0.9141791  0.94029851]\n",
      "Mean CV Accuracy: 0.9271641791044776\n",
      "Test Accuracy: 0.93\n"
     ]
    }
   ],
   "source": [
    "from sklearn.ensemble import RandomForestClassifier\n",
    "\n",
    "rfc = RandomForestClassifier(n_estimators=10, random_state=42)\n",
    "start = time.time()\n",
    "rfc.fit(tv_train_features, train_label_names)\n",
    "stop = time.time()\n",
    "time_rfc = str(round(stop-start,3)) + 's'\n",
    "print('Training time: ', time_rfc)\n",
    "rfc_tfidf_cv_scores = cross_val_score(rfc, tv_train_features, train_label_names, cv=5)\n",
    "rfc_tfidf_cv_mean_score = np.mean(rfc_tfidf_cv_scores)\n",
    "print('CV Accuracy (5-fold):', rfc_tfidf_cv_scores)\n",
    "print('Mean CV Accuracy:', rfc_tfidf_cv_mean_score)\n",
    "rfc_tfidf_test_score = rfc.score(tv_test_features, test_label_names)\n",
    "print('Test Accuracy:', rfc_tfidf_test_score)"
   ]
  },
  {
   "cell_type": "markdown",
   "metadata": {},
   "source": [
    "# Using Gradient Boosted Machines"
   ]
  },
  {
   "cell_type": "code",
   "execution_count": 13,
   "metadata": {},
   "outputs": [
    {
     "name": "stdout",
     "output_type": "stream",
     "text": [
      "Training time:  16.515s\n",
      "CV Accuracy (5-fold): [0.97686567 0.97835821 0.96865672 0.97238806 0.97462687]\n",
      "Mean CV Accuracy: 0.974179104477612\n",
      "Test Accuracy: 0.9684848484848485\n"
     ]
    }
   ],
   "source": [
    "from sklearn.ensemble import GradientBoostingClassifier\n",
    "\n",
    "gbc = GradientBoostingClassifier(n_estimators=10, random_state=42)\n",
    "start = time.time()\n",
    "gbc.fit(tv_train_features, train_label_names)\n",
    "stop = time.time()\n",
    "time_gbc = str(round(stop-start,3)) + 's'\n",
    "print('Training time: ', time_gbc)\n",
    "gbc_tfidf_cv_scores = cross_val_score(gbc, tv_train_features, train_label_names, cv=5)\n",
    "gbc_tfidf_cv_mean_score = np.mean(gbc_tfidf_cv_scores)\n",
    "print('CV Accuracy (5-fold):', gbc_tfidf_cv_scores)\n",
    "print('Mean CV Accuracy:', gbc_tfidf_cv_mean_score)\n",
    "gbc_tfidf_test_score = gbc.score(tv_test_features, test_label_names)\n",
    "print('Test Accuracy:', gbc_tfidf_test_score)"
   ]
  },
  {
   "cell_type": "markdown",
   "metadata": {},
   "source": [
    "# TF-IDF Classification Model Comparison"
   ]
  },
  {
   "cell_type": "code",
   "execution_count": 15,
   "metadata": {},
   "outputs": [
    {
     "data": {
      "text/html": [
       "<div>\n",
       "<style scoped>\n",
       "    .dataframe tbody tr th:only-of-type {\n",
       "        vertical-align: middle;\n",
       "    }\n",
       "\n",
       "    .dataframe tbody tr th {\n",
       "        vertical-align: top;\n",
       "    }\n",
       "\n",
       "    .dataframe thead th {\n",
       "        text-align: right;\n",
       "    }\n",
       "</style>\n",
       "<table border=\"1\" class=\"dataframe\">\n",
       "  <thead>\n",
       "    <tr style=\"text-align: right;\">\n",
       "      <th></th>\n",
       "      <th>Model</th>\n",
       "      <th>Train Time</th>\n",
       "      <th>Train Score (TF-IDF)</th>\n",
       "      <th>Train Score (TF-IDF)</th>\n",
       "    </tr>\n",
       "  </thead>\n",
       "  <tbody>\n",
       "    <tr>\n",
       "      <th>0</th>\n",
       "      <td>Naive Bayes</td>\n",
       "      <td>0.036s</td>\n",
       "      <td>0.947612</td>\n",
       "      <td>0.943030</td>\n",
       "    </tr>\n",
       "    <tr>\n",
       "      <th>1</th>\n",
       "      <td>Logistic Regression</td>\n",
       "      <td>3.043s</td>\n",
       "      <td>0.985373</td>\n",
       "      <td>0.986061</td>\n",
       "    </tr>\n",
       "    <tr>\n",
       "      <th>2</th>\n",
       "      <td>Linear SVM</td>\n",
       "      <td>0.288s</td>\n",
       "      <td>0.986119</td>\n",
       "      <td>0.986667</td>\n",
       "    </tr>\n",
       "    <tr>\n",
       "      <th>3</th>\n",
       "      <td>Linear SVM (SGD)</td>\n",
       "      <td>0.116s</td>\n",
       "      <td>0.986567</td>\n",
       "      <td>0.987576</td>\n",
       "    </tr>\n",
       "    <tr>\n",
       "      <th>4</th>\n",
       "      <td>Random Forest</td>\n",
       "      <td>0.782s</td>\n",
       "      <td>0.927164</td>\n",
       "      <td>0.930000</td>\n",
       "    </tr>\n",
       "    <tr>\n",
       "      <th>5</th>\n",
       "      <td>Gradient Boosted Machines</td>\n",
       "      <td>16.515s</td>\n",
       "      <td>0.974179</td>\n",
       "      <td>0.968485</td>\n",
       "    </tr>\n",
       "  </tbody>\n",
       "</table>\n",
       "</div>"
      ],
      "text/plain": [
       "                       Model Train Time  Train Score (TF-IDF)  \\\n",
       "0                Naive Bayes     0.036s              0.947612   \n",
       "1        Logistic Regression     3.043s              0.985373   \n",
       "2                 Linear SVM     0.288s              0.986119   \n",
       "3           Linear SVM (SGD)     0.116s              0.986567   \n",
       "4              Random Forest     0.782s              0.927164   \n",
       "5  Gradient Boosted Machines    16.515s              0.974179   \n",
       "\n",
       "   Train Score (TF-IDF)  \n",
       "0              0.943030  \n",
       "1              0.986061  \n",
       "2              0.986667  \n",
       "3              0.987576  \n",
       "4              0.930000  \n",
       "5              0.968485  "
      ]
     },
     "execution_count": 15,
     "metadata": {},
     "output_type": "execute_result"
    }
   ],
   "source": [
    "result = pd.DataFrame([['Naive Bayes', \n",
    "               time_mnb, mnb_tfidf_cv_mean_score, mnb_tfidf_test_score],\n",
    "              ['Logistic Regression', \n",
    "               time_lr, lr_tfidf_cv_mean_score, lr_tfidf_test_score],\n",
    "              ['Linear SVM', \n",
    "               time_svm, svm_tfidf_cv_mean_score, svm_tfidf_test_score],\n",
    "              ['Linear SVM (SGD)',  \n",
    "               time_sgd, svmsgd_tfidf_cv_mean_score, svmsgd_tfidf_test_score],\n",
    "              ['Random Forest', \n",
    "               time_rfc, rfc_tfidf_cv_mean_score, rfc_tfidf_test_score],\n",
    "              ['Gradient Boosted Machines', \n",
    "               time_gbc, gbc_tfidf_cv_mean_score, gbc_tfidf_test_score]],\n",
    "             columns=['Model', 'Train Time', 'Train Score (TF-IDF)', 'Train Score (TF-IDF)'],\n",
    "             )\n",
    "result"
   ]
  },
  {
   "cell_type": "markdown",
   "metadata": {},
   "source": [
    "## Accuracy, Precision, Recall, and F1 Score"
   ]
  },
  {
   "cell_type": "code",
   "execution_count": 16,
   "metadata": {},
   "outputs": [
    {
     "name": "stdout",
     "output_type": "stream",
     "text": [
      "Naive Bayes\n",
      "Accuracy: 0.943\n",
      "Precision: 0.9439\n",
      "Recall: 0.943\n",
      "F1 Score: 0.943\n",
      "\n",
      "Logistic Regression\n",
      "Accuracy: 0.9861\n",
      "Precision: 0.9861\n",
      "Recall: 0.9861\n",
      "F1 Score: 0.9861\n",
      "\n",
      "Linear SVM\n",
      "Accuracy: 0.9867\n",
      "Precision: 0.9867\n",
      "Recall: 0.9867\n",
      "F1 Score: 0.9867\n",
      "\n",
      "Linear SVM (SGD)\n",
      "Accuracy: 0.9876\n",
      "Precision: 0.9876\n",
      "Recall: 0.9876\n",
      "F1 Score: 0.9876\n",
      "\n",
      "Random Forest\n",
      "Accuracy: 0.93\n",
      "Precision: 0.931\n",
      "Recall: 0.93\n",
      "F1 Score: 0.9299\n",
      "\n",
      "Gradient Boosted Machines\n",
      "Accuracy: 0.9685\n",
      "Precision: 0.9691\n",
      "Recall: 0.9685\n",
      "F1 Score: 0.9686\n",
      "\n"
     ]
    }
   ],
   "source": [
    "import model_evaluation_utils as meu\n",
    "model_name = result['Model'].tolist()\n",
    "model_var = [mnb, lr, svm, svm_sgd, rfc, gbc]\n",
    "for i in range(len(model_name)):\n",
    "    mnb_predictions = model_var[i].predict(tv_test_features)\n",
    "    unique_classes = list(set(test_label_names))\n",
    "    print(model_name[i])\n",
    "    meu.get_metrics(true_labels=test_label_names, predicted_labels=mnb_predictions)\n",
    "    print()"
   ]
  }
 ],
 "metadata": {
  "kernelspec": {
   "display_name": "Python 3",
   "language": "python",
   "name": "python3"
  },
  "language_info": {
   "codemirror_mode": {
    "name": "ipython",
    "version": 3
   },
   "file_extension": ".py",
   "mimetype": "text/x-python",
   "name": "python",
   "nbconvert_exporter": "python",
   "pygments_lexer": "ipython3",
   "version": "3.7.7"
  }
 },
 "nbformat": 4,
 "nbformat_minor": 2
}
